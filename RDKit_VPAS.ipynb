{
 "cells": [
  {
   "cell_type": "markdown",
   "metadata": {},
   "source": [
    "# Initialisations"
   ]
  },
  {
   "cell_type": "code",
   "execution_count": 1,
   "metadata": {
    "ExecuteTime": {
     "end_time": "2020-01-29T10:10:29.676057Z",
     "start_time": "2020-01-29T10:10:08.282050Z"
    }
   },
   "outputs": [],
   "source": [
    "import pandas as pd ; pd.set_option('display.max_columns', 500) # dataframes\n",
    "import numpy as np # mathsy bits\n",
    "import ipywidgets as widgets # widgets\n",
    "\n",
    "from sklearn.model_selection import train_test_split #split data into train and test sets\n",
    "\n",
    "# feature selection + gridsearch\n",
    "from sklearn.feature_selection import SelectFromModel, SelectKBest\n",
    "from sklearn.feature_selection import f_regression, mutual_info_regression\n",
    "from sklearn.model_selection import GridSearchCV\n",
    "\n",
    "# models\n",
    "from sklearn.linear_model import Lars, ElasticNet, Lasso\n",
    "from sklearn.tree import DecisionTreeRegressor\n",
    "from sklearn.ensemble import RandomForestRegressor, ExtraTreesRegressor\n",
    "from sklearn.ensemble import AdaBoostRegressor, GradientBoostingRegressor\n",
    "\n",
    "import joblib # saving models\n",
    "from datetime import datetime # get time for labelling saved models\n",
    "\n",
    "# visualization\n",
    "import matplotlib.pyplot as plt\n",
    "%matplotlib inline\n",
    "\n",
    "import mpld3 # hover-over labels for plots\n",
    "mpld3.disable_notebook()\n",
    "\n",
    "train_scores = dict() ; test_scores  = dict() #to hold scores for viewing at the end"
   ]
  },
  {
   "cell_type": "code",
   "execution_count": 2,
   "metadata": {
    "ExecuteTime": {
     "end_time": "2020-01-29T10:10:29.704972Z",
     "start_time": "2020-01-29T10:10:29.677898Z"
    }
   },
   "outputs": [],
   "source": [
    "def grid_search_return_hp_dict(model, X_train_gs, y_train_gs, param_grid):\n",
    "    \"\"\"Run GridSearchCV on given model with defined param_grid, return best params as dict.\n",
    "    Pre-assign sklearn model to variable. Pass param_grid as dict.\"\"\"\n",
    "    print(str(model).split(sep='(')[0], \"grid search.\")\n",
    "    GS = GridSearchCV(model, param_grid, n_jobs=2)\n",
    "    GS.fit(X_train_gs, y_train_gs)\n",
    "    print(GS.best_params_)\n",
    "    return(GS.best_params_)\n",
    "\n",
    "def train_model(model, feature_set, hyperparameters, \n",
    "                grid_search = False):\n",
    "    \"\"\"Wrapper for training models with optional grid search and feature selection.\n",
    "    Pass model with no brackets, ie Lars not Lars()\n",
    "    If grid_search = True, hyperparameters is the hp ranges dictionary. Outputs trained model, best_hp\n",
    "    If grid_search = False, hyperparameters is the hp dictionary. Outputs trained model\"\"\"\n",
    "    X_train, X_test = X_train_main[feature_set], X_test_main[feature_set]\n",
    "    \n",
    "    if grid_search == True:\n",
    "        best_hp = grid_search_return_hp_dict(model(),\n",
    "                                             X_train, y_train, hyperparameters)\n",
    "        print(\"Grid search complete!\\nHyperparameters:\\n\", best_hp)\n",
    "        training_model = model(**best_hp).fit(X_train, y_train)\n",
    "        return training_model, best_hp\n",
    "\n",
    "    if grid_search == False:\n",
    "        print(\"No grid search\\nHyperparameters:\\n\", hyperparameters)\n",
    "        training_model = model(**hyperparameters).fit(X_train, y_train)\n",
    "        return training_model\n",
    "\n",
    "def produce_exp_vs_pred_df(features_list, model, codename): # generalise!\n",
    "    \"\"\"Pass features_list as a string\"\"\"\n",
    "    pred_list = []\n",
    "    for i in range(0, len(rdkit_features)):\n",
    "        prediction = model.predict([rdkit_features[eval(features_list)].iloc[i]])\n",
    "        pred_list.append(prediction)\n",
    "    \n",
    "    exp_vs_calc = pd.DataFrame(constants_first)\n",
    "    exp_vs_calc['Predicted'] = pred_list\n",
    "    exp_vs_calc.rename({'Kh_first':'Experimental'}, inplace=True, axis=1)\n",
    "    exp_vs_calc.to_csv('models/RDKit_VPAS/%s'%(\"expvcalc_\" + str(model).split(sep='(')[0] + \"_\" + features_list[16:] + \".csv\"))\n",
    "    now = datetime.now()\n",
    "\n",
    "    dt_string = now.strftime(\"_%d_%m_%Y_%H_%M_%S\")\n",
    "    filename = \"models/RDKit_VPAS/\" + str(model).split(sep='(')[0] + \"_\" + features_list[16:] + dt_string + \".joblib\"\n",
    "    print(str(model).split(sep='(')[0], \"run at:\", now, \". Saving to\", filename)\n",
    "    \n",
    "    joblib.dump(model, filename)\n",
    "    return exp_vs_calc\n",
    "\n",
    "def prediction_plot_scores(model_func, pred_df):\n",
    "    \"\"\"Print train+test scores, then plot scatter of predicted vs actual HLCs. Uses {X/y}_{train/test},\n",
    "    redefining these variables will change the output.\"\"\"\n",
    "    fig = plt.figure(figsize=(10, 10))\n",
    "    scatter = plt.scatter(pred_df['Experimental'], pred_df['Predicted'])\n",
    "    plt.xlabel('Experimental')\n",
    "    plt.ylabel('Predicted')\n",
    "    plt.title('%s predictions of HLCs' %str(model_func).split(sep='(')[0])\n",
    "    labels = ['{}'.format(i) for i in species_names]\n",
    "    tooltip = mpld3.plugins.PointLabelTooltip(scatter, labels=labels)\n",
    "    mpld3.plugins.connect(fig, tooltip)\n",
    "    plt.plot([-30, 10], [-30, 10], c='red')\n",
    "    plt.show()"
   ]
  },
  {
   "cell_type": "markdown",
   "metadata": {},
   "source": [
    "# RDkit descriptors\n",
    "## Bringing in data and splitting it into parts"
   ]
  },
  {
   "cell_type": "code",
   "execution_count": 3,
   "metadata": {
    "ExecuteTime": {
     "end_time": "2020-01-29T10:10:29.957156Z",
     "start_time": "2020-01-29T10:10:29.707980Z"
    }
   },
   "outputs": [
    {
     "name": "stdout",
     "output_type": "stream",
     "text": [
      "Input Shape (2196, 34)\n",
      "Removed NaN, new shape (2195, 34)\n"
     ]
    }
   ],
   "source": [
    "csv = pd.read_csv('rdkit_desc_VPAS.csv') # contains non-VP/AS HLCs\n",
    "\n",
    "print(\"Input Shape\", csv.shape) #input shape\n",
    "\n",
    "csv.dropna(axis=0, inplace=True)\n",
    "\n",
    "print(\"Removed NaN, new shape\", csv.shape) #removed NaN shape\n",
    "\n",
    "species_names = csv.pop('0')\n",
    "smiles_strings = csv.pop('SMILES')\n",
    "constants_mean = csv.pop('Kh_mean')\n",
    "constants_first = csv.pop('Kh_first')\n",
    "\n",
    "varying_columns = csv[['Varying_1', 'Varying_2', 'Varying_3', 'Varying_4',\n",
    " 'Varying_5', 'Varying_6', 'Varying_7', 'Varying_8', 'Varying_9']] # popping one-hot encoding columns\n",
    "\n",
    "rdkit_features = csv.drop(['Varying_1', 'Varying_2', 'Varying_3', 'Varying_4',\n",
    " 'Varying_5', 'Varying_6', 'Varying_7', 'Varying_8', 'Varying_9'], axis=1) #seperating features\n",
    "\n",
    "X_train_main, X_test_main, y_train, y_test = train_test_split(rdkit_features, constants_first, test_size=0.3)"
   ]
  },
  {
   "cell_type": "code",
   "execution_count": 4,
   "metadata": {
    "ExecuteTime": {
     "end_time": "2020-01-29T10:10:30.176717Z",
     "start_time": "2020-01-29T10:10:29.960164Z"
    },
    "code_folding": []
   },
   "outputs": [
    {
     "name": "stderr",
     "output_type": "stream",
     "text": [
      "C:\\Users\\jtd1g16\\AppData\\Local\\Continuum\\anaconda3\\lib\\site-packages\\ipykernel_launcher.py:3: FutureWarning: The signature of `Series.to_csv` was aligned to that of `DataFrame.to_csv`, and argument 'header' will change its default value from False to True: please pass an explicit value to suppress this warning.\n",
      "  This is separate from the ipykernel package so we can avoid doing imports until\n"
     ]
    }
   ],
   "source": [
    "for i in ['X_train_main', 'X_test_main', 'y_train', 'y_test']:\n",
    "    #joblib.dump(exec('i'), \"models/RDKit_VPAS/%s.joblib\"%i)\n",
    "    eval('%s'%i).to_csv('models/RDKit_VPAS/%s.csv'%i)"
   ]
  },
  {
   "cell_type": "markdown",
   "metadata": {},
   "source": [
    "## Feature Selection\n",
    "Made aware of features selection methods in scikitlearn via https://towardsdatascience.com/feature-selection-techniques-in-machine-learning-with-python-f24e7da3f36e\n",
    "\n",
    "See also [scikit-learn docs](https://scikit-learn.org/stable/modules/feature_selection.html)\n",
    "### Importances via 'dummy' GradientBoostingRegressor"
   ]
  },
  {
   "cell_type": "code",
   "execution_count": 5,
   "metadata": {
    "ExecuteTime": {
     "end_time": "2020-01-29T10:10:30.480534Z",
     "start_time": "2020-01-29T10:10:30.178723Z"
    }
   },
   "outputs": [],
   "source": [
    "fs_model = GradientBoostingRegressor()\n",
    "fs_model.fit(X_train_main, y_train)\n",
    "importances = pd.Series(fs_model.feature_importances_, index = X_train_main.columns)\n",
    "top_15_features_model = list(importances.nlargest(15).index.values)"
   ]
  },
  {
   "cell_type": "markdown",
   "metadata": {},
   "source": [
    "### Importances via 'dummy' LASSO model"
   ]
  },
  {
   "cell_type": "code",
   "execution_count": 6,
   "metadata": {
    "ExecuteTime": {
     "end_time": "2020-01-29T10:10:30.529655Z",
     "start_time": "2020-01-29T10:10:30.482533Z"
    }
   },
   "outputs": [],
   "source": [
    "dummy_lasso = Lasso(max_iter=10000, alpha=0.5)\n",
    "selector = SelectFromModel(dummy_lasso).fit(X_train_main, y_train)\n",
    "coefs = selector.estimator_.coef_\n",
    "importances_lasso = pd.Series(coefs, index = X_train_main.columns)\n",
    "top_15_features_lasso = list(importances_lasso.nlargest(15).index.values)"
   ]
  },
  {
   "cell_type": "markdown",
   "metadata": {},
   "source": [
    "### SelectKBest using f_regression scoring function\n",
    "F-test estimates degree of linear dependency"
   ]
  },
  {
   "cell_type": "code",
   "execution_count": 7,
   "metadata": {
    "ExecuteTime": {
     "end_time": "2020-01-29T10:10:30.777249Z",
     "start_time": "2020-01-29T10:10:30.531661Z"
    }
   },
   "outputs": [],
   "source": [
    "fs_kbest = SelectKBest(score_func= f_regression, k=15)\n",
    "fit = fs_kbest.fit(X_train_main, y_train)\n",
    "scores_f = pd.Series(fit.scores_, index=X_train_main.columns)\n",
    "top_15_features_kbest = list(scores_f.nlargest(15).index.values)"
   ]
  },
  {
   "cell_type": "markdown",
   "metadata": {},
   "source": [
    "### SelectKBest using mutual_info_regression\n",
    "Catch any statistical dependancy, but requires more samples than f_reg"
   ]
  },
  {
   "cell_type": "code",
   "execution_count": 8,
   "metadata": {
    "ExecuteTime": {
     "end_time": "2020-01-29T10:10:31.560251Z",
     "start_time": "2020-01-29T10:10:30.780230Z"
    }
   },
   "outputs": [],
   "source": [
    "fs_mut_info = SelectKBest(score_func= mutual_info_regression, k=15)\n",
    "fit = fs_mut_info.fit(X_train_main, y_train)\n",
    "scores_mutual = pd.Series(fit.scores_, index=X_train_main.columns)\n",
    "top_15_features_mutual_info = list(scores_mutual.nlargest(15).index.values)"
   ]
  },
  {
   "cell_type": "markdown",
   "metadata": {},
   "source": [
    "### Feature Selection results"
   ]
  },
  {
   "cell_type": "code",
   "execution_count": 9,
   "metadata": {
    "ExecuteTime": {
     "end_time": "2020-01-29T10:10:32.367289Z",
     "start_time": "2020-01-29T10:10:31.563257Z"
    }
   },
   "outputs": [
    {
     "data": {
      "image/png": "[encoded data removed]",
      "text/plain": [
       "<Figure size 1080x720 with 4 Axes>"
      ]
     },
     "metadata": {
      "needs_background": "light"
     },
     "output_type": "display_data"
    }
   ],
   "source": [
    "fig, imp_plot = plt.subplots(nrows=1, ncols=4, figsize=(15, 10))\n",
    "imp_plot[0].barh(importances.nlargest(15).index.values, importances.nlargest(15))\n",
    "imp_plot[0].set_title('Dummy Model')\n",
    "imp_plot[1].barh(scores_mutual.nlargest(15).index.values, scores_mutual.nlargest(15))\n",
    "imp_plot[1].set_title('Mutual Information')\n",
    "imp_plot[2].barh(scores_f.nlargest(15).index.values, scores_f.nlargest(15))\n",
    "imp_plot[2].set_title('F Regression')\n",
    "imp_plot[3].barh(importances_lasso.nlargest(15).index.values, importances_lasso.nlargest(15))\n",
    "imp_plot[3].set_title('LASSO')\n",
    "plt.show()"
   ]
  },
  {
   "cell_type": "markdown",
   "metadata": {},
   "source": [
    "## Exporting feature importances"
   ]
  },
  {
   "cell_type": "code",
   "execution_count": 10,
   "metadata": {
    "ExecuteTime": {
     "end_time": "2020-01-29T10:10:32.385306Z",
     "start_time": "2020-01-29T10:10:32.369265Z"
    }
   },
   "outputs": [
    {
     "data": {
      "text/plain": [
       "['models/RDKit_VPAS/mutual_importances.joblib']"
      ]
     },
     "execution_count": 10,
     "metadata": {},
     "output_type": "execute_result"
    }
   ],
   "source": [
    "joblib.dump(importances, \"models/RDKit_VPAS/model_importances.joblib\")\n",
    "joblib.dump(importances_lasso, \"models/RDKit_VPAS/lasso_importances.joblib\")\n",
    "joblib.dump(scores_f, \"models/RDKit_VPAS/freg_importances.joblib\")\n",
    "joblib.dump(scores_mutual, \"models/RDKit_VPAS/mutual_importances.joblib\")"
   ]
  },
  {
   "cell_type": "markdown",
   "metadata": {},
   "source": [
    "## GradientBoosting\n",
    "### Model-chosen features"
   ]
  },
  {
   "cell_type": "code",
   "execution_count": 11,
   "metadata": {
    "ExecuteTime": {
     "end_time": "2020-01-29T10:10:32.643310Z",
     "start_time": "2020-01-29T10:10:32.387311Z"
    }
   },
   "outputs": [],
   "source": [
    "gbr_param_grid = {\n",
    "    'n_estimators': [500, 1000, 2000],\n",
    "    'max_depth': [2, 4, 6],\n",
    "    'min_samples_leaf': [3, 5, 9, 17],\n",
    "    'learning_rate': [0.1, 0.05, 0.02],\n",
    "    'max_features': [1.0, 0.3, 0.1],\n",
    "    'loss': ['ls', 'lad', 'huber']\n",
    "} #hyperparameters for each gbr grid search"
   ]
  },
  {
   "cell_type": "code",
   "execution_count": 12,
   "metadata": {
    "ExecuteTime": {
     "end_time": "2020-01-29T11:09:10.984864Z",
     "start_time": "2020-01-29T10:10:32.645313Z"
    }
   },
   "outputs": [
    {
     "name": "stdout",
     "output_type": "stream",
     "text": [
      "GradientBoostingRegressor grid search.\n"
     ]
    },
    {
     "name": "stderr",
     "output_type": "stream",
     "text": [
      "C:\\Users\\jtd1g16\\AppData\\Local\\Continuum\\anaconda3\\lib\\site-packages\\sklearn\\model_selection\\_split.py:1978: FutureWarning: The default value of cv will change from 3 to 5 in version 0.22. Specify it explicitly to silence this warning.\n",
      "  warnings.warn(CV_WARNING, FutureWarning)\n"
     ]
    },
    {
     "name": "stdout",
     "output_type": "stream",
     "text": [
      "{'learning_rate': 0.05, 'loss': 'lad', 'max_depth': 6, 'max_features': 0.3, 'min_samples_leaf': 5, 'n_estimators': 2000}\n",
      "Grid search complete!\n",
      "Hyperparameters:\n",
      " {'learning_rate': 0.05, 'loss': 'lad', 'max_depth': 6, 'max_features': 0.3, 'min_samples_leaf': 5, 'n_estimators': 2000}\n",
      "GradientBoostingRegressor run at: 2020-01-29 11:09:10.801377 . Saving to models/RDKit_VPAS/GradientBoostingRegressor_model_29_01_2020_11_09_10.joblib\n"
     ]
    }
   ],
   "source": [
    "gbr_model, gbr_hp = train_model(model = GradientBoostingRegressor,\n",
    "           feature_set= top_15_features_model,\n",
    "            grid_search=True,\n",
    "           hyperparameters=gbr_param_grid)\n",
    "\n",
    "exp_vs_calc_gbr_model = produce_exp_vs_pred_df('top_15_features_model', gbr_model,\n",
    "                                         \"GradBoost, model-chosen features\")"
   ]
  },
  {
   "cell_type": "markdown",
   "metadata": {},
   "source": [
    "### F-regression features"
   ]
  },
  {
   "cell_type": "code",
   "execution_count": 13,
   "metadata": {
    "ExecuteTime": {
     "end_time": "2020-01-29T11:09:24.793579Z",
     "start_time": "2020-01-29T11:09:10.990880Z"
    }
   },
   "outputs": [
    {
     "name": "stdout",
     "output_type": "stream",
     "text": [
      "No grid search\n",
      "Hyperparameters:\n",
      " {'learning_rate': 0.05, 'loss': 'lad', 'max_depth': 6, 'max_features': 0.3, 'min_samples_leaf': 5, 'n_estimators': 2000}\n",
      "GradientBoostingRegressor run at: 2020-01-29 11:09:24.662229 . Saving to models/RDKit_VPAS/GradientBoostingRegressor_kbest_29_01_2020_11_09_24.joblib\n"
     ]
    }
   ],
   "source": [
    "gbr_freg = train_model(model = GradientBoostingRegressor,\n",
    "           feature_set= top_15_features_kbest,\n",
    "            grid_search=False,\n",
    "           hyperparameters=gbr_hp)\n",
    "\n",
    "exp_vs_calc_gbr_freg = produce_exp_vs_pred_df('top_15_features_kbest', gbr_freg,\n",
    "                                                    \"GradBoost, f_reg features\")"
   ]
  },
  {
   "cell_type": "markdown",
   "metadata": {},
   "source": [
    "### Mutual info features"
   ]
  },
  {
   "cell_type": "code",
   "execution_count": 14,
   "metadata": {
    "ExecuteTime": {
     "end_time": "2020-01-29T11:09:37.983647Z",
     "start_time": "2020-01-29T11:09:24.796588Z"
    }
   },
   "outputs": [
    {
     "name": "stdout",
     "output_type": "stream",
     "text": [
      "No grid search\n",
      "Hyperparameters:\n",
      " {'learning_rate': 0.05, 'loss': 'lad', 'max_depth': 6, 'max_features': 0.3, 'min_samples_leaf': 5, 'n_estimators': 2000}\n",
      "GradientBoostingRegressor run at: 2020-01-29 11:09:37.859318 . Saving to models/RDKit_VPAS/GradientBoostingRegressor_mutual_info_29_01_2020_11_09_37.joblib\n"
     ]
    }
   ],
   "source": [
    "gbr_mu = train_model(model = GradientBoostingRegressor,\n",
    "           feature_set= top_15_features_mutual_info,\n",
    "            grid_search=False,\n",
    "           hyperparameters=gbr_hp)\n",
    "\n",
    "exp_vs_calc_gbr_mu = produce_exp_vs_pred_df('top_15_features_mutual_info', gbr_mu,\n",
    "                                            \"GradBoost, Mutual Info\")"
   ]
  },
  {
   "cell_type": "markdown",
   "metadata": {},
   "source": [
    "### LASSO features"
   ]
  },
  {
   "cell_type": "code",
   "execution_count": 15,
   "metadata": {
    "ExecuteTime": {
     "end_time": "2020-01-29T11:09:51.497603Z",
     "start_time": "2020-01-29T11:09:37.985652Z"
    }
   },
   "outputs": [
    {
     "name": "stdout",
     "output_type": "stream",
     "text": [
      "No grid search\n",
      "Hyperparameters:\n",
      " {'learning_rate': 0.05, 'loss': 'lad', 'max_depth': 6, 'max_features': 0.3, 'min_samples_leaf': 5, 'n_estimators': 2000}\n",
      "GradientBoostingRegressor run at: 2020-01-29 11:09:51.225855 . Saving to models/RDKit_VPAS/GradientBoostingRegressor_lasso_29_01_2020_11_09_51.joblib\n"
     ]
    }
   ],
   "source": [
    "gbr_lasso = train_model(model = GradientBoostingRegressor,\n",
    "           feature_set= top_15_features_lasso,\n",
    "            grid_search=False,\n",
    "           hyperparameters=gbr_hp)\n",
    "exp_vs_calc_gbr_lasso = produce_exp_vs_pred_df('top_15_features_lasso', gbr_lasso,\n",
    "                                               \"LASSO-features, GBR model\")"
   ]
  },
  {
   "cell_type": "markdown",
   "metadata": {},
   "source": [
    "## Decision Tree\n",
    "### Model-Chosen Features"
   ]
  },
  {
   "cell_type": "code",
   "execution_count": 16,
   "metadata": {
    "ExecuteTime": {
     "end_time": "2020-01-29T11:09:51.507604Z",
     "start_time": "2020-01-29T11:09:51.499583Z"
    }
   },
   "outputs": [],
   "source": [
    "dtr_param_grid = {\n",
    "    'criterion': ['mse', 'friedman_mse', 'mae'], #function measuring quality of a split\n",
    "    'max_depth': [5, 10, 20] , # max depth of tree\n",
    "    'max_features': [5, 10, 15], # N features to be considered when looking for split\n",
    "    'max_leaf_nodes': [None, 10, 15, 20, 30], #grows tree with N nodes in best-first fashion\n",
    "    'min_impurity_decrease': [0.0, 0.1],\n",
    "    'min_samples_leaf': [1, 2, 3], \n",
    "    'min_samples_split': [1.0, 2, 3],\n",
    "    'min_weight_fraction_leaf': [0.0, 0.1, 0.5] , \n",
    "    'splitter': ['best', 'random']\n",
    "} #hyperparameters for dtr gridsearch"
   ]
  },
  {
   "cell_type": "code",
   "execution_count": 17,
   "metadata": {
    "ExecuteTime": {
     "end_time": "2020-01-29T11:13:56.946985Z",
     "start_time": "2020-01-29T11:09:51.510614Z"
    }
   },
   "outputs": [
    {
     "name": "stdout",
     "output_type": "stream",
     "text": [
      "DecisionTreeRegressor grid search.\n"
     ]
    },
    {
     "name": "stderr",
     "output_type": "stream",
     "text": [
      "C:\\Users\\jtd1g16\\AppData\\Local\\Continuum\\anaconda3\\lib\\site-packages\\sklearn\\model_selection\\_split.py:1978: FutureWarning: The default value of cv will change from 3 to 5 in version 0.22. Specify it explicitly to silence this warning.\n",
      "  warnings.warn(CV_WARNING, FutureWarning)\n"
     ]
    },
    {
     "name": "stdout",
     "output_type": "stream",
     "text": [
      "{'criterion': 'friedman_mse', 'max_depth': 20, 'max_features': 15, 'max_leaf_nodes': None, 'min_impurity_decrease': 0.1, 'min_samples_leaf': 3, 'min_samples_split': 2, 'min_weight_fraction_leaf': 0.0, 'splitter': 'random'}\n",
      "Grid search complete!\n",
      "Hyperparameters:\n",
      " {'criterion': 'friedman_mse', 'max_depth': 20, 'max_features': 15, 'max_leaf_nodes': None, 'min_impurity_decrease': 0.1, 'min_samples_leaf': 3, 'min_samples_split': 2, 'min_weight_fraction_leaf': 0.0, 'splitter': 'random'}\n",
      "DecisionTreeRegressor run at: 2020-01-29 11:13:56.936958 . Saving to models/RDKit_VPAS/DecisionTreeRegressor_model_29_01_2020_11_13_56.joblib\n"
     ]
    }
   ],
   "source": [
    "dtr_model, dtr_hp = train_model(model = DecisionTreeRegressor,\n",
    "           feature_set= top_15_features_model,\n",
    "            grid_search=True,\n",
    "           hyperparameters=dtr_param_grid)\n",
    "\n",
    "\n",
    "exp_vs_calc_dtr_model = produce_exp_vs_pred_df('top_15_features_model', dtr_model,\n",
    "                                         \"Decision Tree, model-chosen features\")"
   ]
  },
  {
   "cell_type": "markdown",
   "metadata": {},
   "source": [
    "### F-regression features"
   ]
  },
  {
   "cell_type": "code",
   "execution_count": 18,
   "metadata": {
    "ExecuteTime": {
     "end_time": "2020-01-29T11:13:59.996091Z",
     "start_time": "2020-01-29T11:13:56.950995Z"
    }
   },
   "outputs": [
    {
     "name": "stdout",
     "output_type": "stream",
     "text": [
      "No grid search\n",
      "Hyperparameters:\n",
      " {'criterion': 'friedman_mse', 'max_depth': 20, 'max_features': 15, 'max_leaf_nodes': None, 'min_impurity_decrease': 0.1, 'min_samples_leaf': 3, 'min_samples_split': 2, 'min_weight_fraction_leaf': 0.0, 'splitter': 'random'}\n",
      "DecisionTreeRegressor run at: 2020-01-29 11:13:59.988100 . Saving to models/RDKit_VPAS/DecisionTreeRegressor_kbest_29_01_2020_11_13_59.joblib\n"
     ]
    }
   ],
   "source": [
    "dtr_freg = train_model(model = DecisionTreeRegressor,\n",
    "           feature_set= top_15_features_kbest,\n",
    "            grid_search=False,\n",
    "           hyperparameters=dtr_hp)\n",
    "exp_vs_calc_dtr_freg = produce_exp_vs_pred_df('top_15_features_kbest', dtr_freg,\n",
    "                                         \"Decision Tree, freg features\")"
   ]
  },
  {
   "cell_type": "markdown",
   "metadata": {},
   "source": [
    "### Mutual info features"
   ]
  },
  {
   "cell_type": "code",
   "execution_count": 19,
   "metadata": {
    "ExecuteTime": {
     "end_time": "2020-01-29T11:14:03.085304Z",
     "start_time": "2020-01-29T11:13:59.999099Z"
    }
   },
   "outputs": [
    {
     "name": "stdout",
     "output_type": "stream",
     "text": [
      "No grid search\n",
      "Hyperparameters:\n",
      " {'criterion': 'friedman_mse', 'max_depth': 20, 'max_features': 15, 'max_leaf_nodes': None, 'min_impurity_decrease': 0.1, 'min_samples_leaf': 3, 'min_samples_split': 2, 'min_weight_fraction_leaf': 0.0, 'splitter': 'random'}\n",
      "DecisionTreeRegressor run at: 2020-01-29 11:14:03.057263 . Saving to models/RDKit_VPAS/DecisionTreeRegressor_mutual_info_29_01_2020_11_14_03.joblib\n"
     ]
    }
   ],
   "source": [
    "dtr_mu = train_model(model = DecisionTreeRegressor,\n",
    "           feature_set= top_15_features_mutual_info,\n",
    "            grid_search=False,\n",
    "           hyperparameters=dtr_hp)\n",
    "exp_vs_calc_dtr_mu = produce_exp_vs_pred_df('top_15_features_mutual_info', dtr_mu,\n",
    "                                         \"Decision Tree, mutual info features\")"
   ]
  },
  {
   "cell_type": "markdown",
   "metadata": {},
   "source": [
    "### LASSO features"
   ]
  },
  {
   "cell_type": "code",
   "execution_count": 20,
   "metadata": {
    "ExecuteTime": {
     "end_time": "2020-01-29T11:14:06.067880Z",
     "start_time": "2020-01-29T11:14:03.087311Z"
    }
   },
   "outputs": [
    {
     "name": "stdout",
     "output_type": "stream",
     "text": [
      "No grid search\n",
      "Hyperparameters:\n",
      " {'criterion': 'friedman_mse', 'max_depth': 20, 'max_features': 15, 'max_leaf_nodes': None, 'min_impurity_decrease': 0.1, 'min_samples_leaf': 3, 'min_samples_split': 2, 'min_weight_fraction_leaf': 0.0, 'splitter': 'random'}\n",
      "DecisionTreeRegressor run at: 2020-01-29 11:14:06.059860 . Saving to models/RDKit_VPAS/DecisionTreeRegressor_lasso_29_01_2020_11_14_06.joblib\n"
     ]
    }
   ],
   "source": [
    "dtr_lasso = train_model(model = DecisionTreeRegressor,\n",
    "           feature_set= top_15_features_lasso,\n",
    "            grid_search=False,\n",
    "           hyperparameters=dtr_hp)\n",
    "\n",
    "exp_vs_calc_dtr_lasso = produce_exp_vs_pred_df('top_15_features_lasso', dtr_lasso,\n",
    "                                         \"Decision Tree, lasso features\")"
   ]
  },
  {
   "cell_type": "markdown",
   "metadata": {},
   "source": [
    "## AdaBoost Regressor\n",
    "### Model Chosen Features"
   ]
  },
  {
   "cell_type": "code",
   "execution_count": 21,
   "metadata": {
    "ExecuteTime": {
     "end_time": "2020-01-29T11:14:06.078912Z",
     "start_time": "2020-01-29T11:14:06.070891Z"
    }
   },
   "outputs": [],
   "source": [
    "base_models = [ExtraTreesRegressor(n_estimators= 5,\n",
    "                                   criterion= 'mse',\n",
    "                                   max_features = 'log2'),\n",
    "               RandomForestRegressor(n_estimators= 5,\n",
    "                                     criterion= 'mse',\n",
    "                                     max_features = 'sqrt',\n",
    "                                     min_samples_split = 3),\n",
    "              GradientBoostingRegressor(),\n",
    "              DecisionTreeRegressor(),\n",
    "              Lars(),\n",
    "              ElasticNet()]\n",
    "\n",
    "ada_param_grid = {\n",
    "    'base_estimator' : base_models, \n",
    "    'learning_rate' : [0.3, 0.5, 0.8, 1], \n",
    "    'loss' : ['linear', 'square', 'exponential'], \n",
    "    'n_estimators' : [50, 100]\n",
    "} #hyperparameters for adaboost gridsearch"
   ]
  },
  {
   "cell_type": "code",
   "execution_count": 22,
   "metadata": {
    "ExecuteTime": {
     "end_time": "2020-01-29T11:21:28.639421Z",
     "start_time": "2020-01-29T11:14:06.081919Z"
    }
   },
   "outputs": [
    {
     "name": "stdout",
     "output_type": "stream",
     "text": [
      "AdaBoostRegressor grid search.\n"
     ]
    },
    {
     "name": "stderr",
     "output_type": "stream",
     "text": [
      "C:\\Users\\jtd1g16\\AppData\\Local\\Continuum\\anaconda3\\lib\\site-packages\\sklearn\\model_selection\\_split.py:1978: FutureWarning: The default value of cv will change from 3 to 5 in version 0.22. Specify it explicitly to silence this warning.\n",
      "  warnings.warn(CV_WARNING, FutureWarning)\n"
     ]
    },
    {
     "name": "stdout",
     "output_type": "stream",
     "text": [
      "{'base_estimator': ExtraTreesRegressor(bootstrap=False, criterion='mse', max_depth=None,\n",
      "                    max_features='log2', max_leaf_nodes=None,\n",
      "                    min_impurity_decrease=0.0, min_impurity_split=None,\n",
      "                    min_samples_leaf=1, min_samples_split=2,\n",
      "                    min_weight_fraction_leaf=0.0, n_estimators=5, n_jobs=None,\n",
      "                    oob_score=False, random_state=None, verbose=0,\n",
      "                    warm_start=False), 'learning_rate': 0.8, 'loss': 'linear', 'n_estimators': 50}\n",
      "Grid search complete!\n",
      "Hyperparameters:\n",
      " {'base_estimator': ExtraTreesRegressor(bootstrap=False, criterion='mse', max_depth=None,\n",
      "                    max_features='log2', max_leaf_nodes=None,\n",
      "                    min_impurity_decrease=0.0, min_impurity_split=None,\n",
      "                    min_samples_leaf=1, min_samples_split=2,\n",
      "                    min_weight_fraction_leaf=0.0, n_estimators=5, n_jobs=None,\n",
      "                    oob_score=False, random_state=None, verbose=0,\n",
      "                    warm_start=False), 'learning_rate': 0.8, 'loss': 'linear', 'n_estimators': 50}\n",
      "AdaBoostRegressor run at: 2020-01-29 11:21:28.505061 . Saving to models/RDKit_VPAS/AdaBoostRegressor_model_29_01_2020_11_21_28.joblib\n"
     ]
    }
   ],
   "source": [
    "ada_model, ada_hp = train_model(model = AdaBoostRegressor,\n",
    "           feature_set= top_15_features_model,\n",
    "            grid_search=True,\n",
    "           hyperparameters=ada_param_grid)\n",
    "\n",
    "exp_vs_calc_ada_model = produce_exp_vs_pred_df('top_15_features_model', ada_model,\n",
    "                                               \"AdaBoost, model features\")"
   ]
  },
  {
   "cell_type": "markdown",
   "metadata": {},
   "source": [
    "### F-regression features"
   ]
  },
  {
   "cell_type": "code",
   "execution_count": 23,
   "metadata": {
    "ExecuteTime": {
     "end_time": "2020-01-29T11:22:36.342428Z",
     "start_time": "2020-01-29T11:21:28.649446Z"
    }
   },
   "outputs": [
    {
     "name": "stdout",
     "output_type": "stream",
     "text": [
      "No grid search\n",
      "Hyperparameters:\n",
      " {'base_estimator': ExtraTreesRegressor(bootstrap=False, criterion='mse', max_depth=None,\n",
      "                    max_features='log2', max_leaf_nodes=None,\n",
      "                    min_impurity_decrease=0.0, min_impurity_split=None,\n",
      "                    min_samples_leaf=1, min_samples_split=2,\n",
      "                    min_weight_fraction_leaf=0.0, n_estimators=5, n_jobs=None,\n",
      "                    oob_score=False, random_state=None, verbose=0,\n",
      "                    warm_start=False), 'learning_rate': 0.8, 'loss': 'linear', 'n_estimators': 50}\n",
      "AdaBoostRegressor run at: 2020-01-29 11:22:36.190019 . Saving to models/RDKit_VPAS/AdaBoostRegressor_kbest_29_01_2020_11_22_36.joblib\n"
     ]
    }
   ],
   "source": [
    "ada_freg = train_model(model = AdaBoostRegressor,\n",
    "           feature_set= top_15_features_kbest,\n",
    "            grid_search=False,\n",
    "           hyperparameters=ada_hp)\n",
    "\n",
    "exp_vs_calc_ada_freg = produce_exp_vs_pred_df('top_15_features_kbest', ada_freg,\n",
    "                                               \"AdaBoost, freg features\")"
   ]
  },
  {
   "cell_type": "markdown",
   "metadata": {},
   "source": [
    "### Mutual info features"
   ]
  },
  {
   "cell_type": "code",
   "execution_count": 24,
   "metadata": {
    "ExecuteTime": {
     "end_time": "2020-01-29T11:23:42.220615Z",
     "start_time": "2020-01-29T11:22:36.347440Z"
    }
   },
   "outputs": [
    {
     "name": "stdout",
     "output_type": "stream",
     "text": [
      "No grid search\n",
      "Hyperparameters:\n",
      " {'base_estimator': ExtraTreesRegressor(bootstrap=False, criterion='mse', max_depth=None,\n",
      "                    max_features='log2', max_leaf_nodes=None,\n",
      "                    min_impurity_decrease=0.0, min_impurity_split=None,\n",
      "                    min_samples_leaf=1, min_samples_split=2,\n",
      "                    min_weight_fraction_leaf=0.0, n_estimators=5, n_jobs=None,\n",
      "                    oob_score=False, random_state=None, verbose=0,\n",
      "                    warm_start=False), 'learning_rate': 0.8, 'loss': 'linear', 'n_estimators': 50}\n",
      "AdaBoostRegressor run at: 2020-01-29 11:23:42.095246 . Saving to models/RDKit_VPAS/AdaBoostRegressor_mutual_info_29_01_2020_11_23_42.joblib\n"
     ]
    }
   ],
   "source": [
    "ada_mu = train_model(model = AdaBoostRegressor,\n",
    "           feature_set= top_15_features_mutual_info,\n",
    "            grid_search=False,\n",
    "           hyperparameters=ada_hp)\n",
    "\n",
    "exp_vs_calc_ada_mu = produce_exp_vs_pred_df('top_15_features_mutual_info', ada_mu,\n",
    "                                               \"AdaBoost, mutual info features\")"
   ]
  },
  {
   "cell_type": "markdown",
   "metadata": {},
   "source": [
    "### LASSO features"
   ]
  },
  {
   "cell_type": "code",
   "execution_count": 25,
   "metadata": {
    "ExecuteTime": {
     "end_time": "2020-01-29T11:24:48.718381Z",
     "start_time": "2020-01-29T11:23:42.222585Z"
    }
   },
   "outputs": [
    {
     "name": "stdout",
     "output_type": "stream",
     "text": [
      "No grid search\n",
      "Hyperparameters:\n",
      " {'base_estimator': ExtraTreesRegressor(bootstrap=False, criterion='mse', max_depth=None,\n",
      "                    max_features='log2', max_leaf_nodes=None,\n",
      "                    min_impurity_decrease=0.0, min_impurity_split=None,\n",
      "                    min_samples_leaf=1, min_samples_split=2,\n",
      "                    min_weight_fraction_leaf=0.0, n_estimators=5, n_jobs=None,\n",
      "                    oob_score=False, random_state=None, verbose=0,\n",
      "                    warm_start=False), 'learning_rate': 0.8, 'loss': 'linear', 'n_estimators': 50}\n",
      "AdaBoostRegressor run at: 2020-01-29 11:24:48.584024 . Saving to models/RDKit_VPAS/AdaBoostRegressor_lasso_29_01_2020_11_24_48.joblib\n"
     ]
    }
   ],
   "source": [
    "ada_lasso = train_model(model = AdaBoostRegressor,\n",
    "           feature_set= top_15_features_lasso,\n",
    "            grid_search=False,\n",
    "           hyperparameters=ada_hp)\n",
    "\n",
    "exp_vs_calc_ada_lasso = produce_exp_vs_pred_df('top_15_features_lasso', ada_lasso,\n",
    "                                               \"AdaBoost, model features\")"
   ]
  },
  {
   "cell_type": "markdown",
   "metadata": {},
   "source": [
    "## LASSO\n",
    "### Model Chosen Features"
   ]
  },
  {
   "cell_type": "code",
   "execution_count": 26,
   "metadata": {
    "ExecuteTime": {
     "end_time": "2020-01-29T11:24:48.729410Z",
     "start_time": "2020-01-29T11:24:48.722391Z"
    }
   },
   "outputs": [],
   "source": [
    "lasso_param_grid = {\n",
    "    'alpha':[0.2, 0.4, 0.6, 0.8],\n",
    "    'max_iter':[1000, 5000, 10000, 50000],\n",
    "    'selection':['cyclic', 'random']\n",
    "}"
   ]
  },
  {
   "cell_type": "code",
   "execution_count": 27,
   "metadata": {
    "ExecuteTime": {
     "end_time": "2020-01-29T11:24:55.990751Z",
     "start_time": "2020-01-29T11:24:48.733420Z"
    }
   },
   "outputs": [
    {
     "name": "stdout",
     "output_type": "stream",
     "text": [
      "Lasso grid search.\n"
     ]
    },
    {
     "name": "stderr",
     "output_type": "stream",
     "text": [
      "C:\\Users\\jtd1g16\\AppData\\Local\\Continuum\\anaconda3\\lib\\site-packages\\sklearn\\model_selection\\_split.py:1978: FutureWarning: The default value of cv will change from 3 to 5 in version 0.22. Specify it explicitly to silence this warning.\n",
      "  warnings.warn(CV_WARNING, FutureWarning)\n"
     ]
    },
    {
     "name": "stdout",
     "output_type": "stream",
     "text": [
      "{'alpha': 0.2, 'max_iter': 5000, 'selection': 'random'}\n",
      "Grid search complete!\n",
      "Hyperparameters:\n",
      " {'alpha': 0.2, 'max_iter': 5000, 'selection': 'random'}\n",
      "Lasso run at: 2020-01-29 11:24:55.983733 . Saving to models/RDKit_VPAS/Lasso_model_29_01_2020_11_24_55.joblib\n"
     ]
    }
   ],
   "source": [
    "lasso_model, lasso_hp = train_model(model = Lasso,\n",
    "           feature_set= top_15_features_model,\n",
    "            grid_search=True,\n",
    "           hyperparameters=lasso_param_grid)\n",
    "\n",
    "\n",
    "exp_vs_calc_lasso_model = produce_exp_vs_pred_df('top_15_features_model', lasso_model,\n",
    "                                                 \"LASSO, model features\")"
   ]
  },
  {
   "cell_type": "markdown",
   "metadata": {},
   "source": [
    "### F-regression features"
   ]
  },
  {
   "cell_type": "code",
   "execution_count": 28,
   "metadata": {
    "ExecuteTime": {
     "end_time": "2020-01-29T11:24:59.296411Z",
     "start_time": "2020-01-29T11:24:55.993757Z"
    }
   },
   "outputs": [
    {
     "name": "stdout",
     "output_type": "stream",
     "text": [
      "No grid search\n",
      "Hyperparameters:\n",
      " {'alpha': 0.2, 'max_iter': 5000, 'selection': 'random'}\n",
      "Lasso run at: 2020-01-29 11:24:59.290390 . Saving to models/RDKit_VPAS/Lasso_kbest_29_01_2020_11_24_59.joblib\n"
     ]
    }
   ],
   "source": [
    "lasso_freg = train_model(model = Lasso,\n",
    "           feature_set= top_15_features_kbest,\n",
    "            grid_search=False,\n",
    "           hyperparameters=lasso_hp)\n",
    "\n",
    "exp_vs_calc_lasso_freg = produce_exp_vs_pred_df('top_15_features_kbest', lasso_freg,\n",
    "                                                 \"LASSO, f-reg features\")"
   ]
  },
  {
   "cell_type": "markdown",
   "metadata": {},
   "source": [
    "### Mutual info features"
   ]
  },
  {
   "cell_type": "code",
   "execution_count": 29,
   "metadata": {
    "ExecuteTime": {
     "end_time": "2020-01-29T11:25:02.779670Z",
     "start_time": "2020-01-29T11:24:59.299416Z"
    }
   },
   "outputs": [
    {
     "name": "stdout",
     "output_type": "stream",
     "text": [
      "No grid search\n",
      "Hyperparameters:\n",
      " {'alpha': 0.2, 'max_iter': 5000, 'selection': 'random'}\n",
      "Lasso run at: 2020-01-29 11:25:02.772652 . Saving to models/RDKit_VPAS/Lasso_mutual_info_29_01_2020_11_25_02.joblib\n"
     ]
    }
   ],
   "source": [
    "lasso_mu = train_model(model = Lasso,\n",
    "           feature_set= top_15_features_mutual_info,\n",
    "            grid_search=False,\n",
    "           hyperparameters=lasso_hp)\n",
    "\n",
    "exp_vs_calc_lasso_mu = produce_exp_vs_pred_df('top_15_features_mutual_info', lasso_mu,\n",
    "                                                 \"LASSO, mutual info features\")"
   ]
  },
  {
   "cell_type": "markdown",
   "metadata": {},
   "source": [
    "### LASSO Features"
   ]
  },
  {
   "cell_type": "code",
   "execution_count": 30,
   "metadata": {
    "ExecuteTime": {
     "end_time": "2020-01-29T11:25:06.118548Z",
     "start_time": "2020-01-29T11:25:02.782678Z"
    }
   },
   "outputs": [
    {
     "name": "stdout",
     "output_type": "stream",
     "text": [
      "No grid search\n",
      "Hyperparameters:\n",
      " {'alpha': 0.2, 'max_iter': 5000, 'selection': 'random'}\n",
      "Lasso run at: 2020-01-29 11:25:06.109524 . Saving to models/RDKit_VPAS/Lasso_lasso_29_01_2020_11_25_06.joblib\n"
     ]
    }
   ],
   "source": [
    "lasso_lasso = train_model(model = Lasso,\n",
    "           feature_set= top_15_features_lasso,\n",
    "            grid_search=False,\n",
    "           hyperparameters=lasso_hp)\n",
    "\n",
    "exp_vs_calc_lasso_lasso = produce_exp_vs_pred_df('top_15_features_lasso', lasso_lasso,\n",
    "                                                 \"LASSO, lasso features\")"
   ]
  },
  {
   "cell_type": "markdown",
   "metadata": {},
   "source": [
    "## Random Forest Regressor\n",
    "### Model Chosen Features"
   ]
  },
  {
   "cell_type": "code",
   "execution_count": 31,
   "metadata": {
    "ExecuteTime": {
     "end_time": "2020-01-29T11:25:06.129579Z",
     "start_time": "2020-01-29T11:25:06.122560Z"
    }
   },
   "outputs": [],
   "source": [
    "random_forest_param_grid = {\n",
    "    'max_depth': [10, 20, 30, 40, 50, 60, 70, 80, 90, None],\n",
    "    'max_features': ['auto', 'sqrt'],\n",
    "    'min_samples_leaf': [1, 2, 4],\n",
    "    'min_samples_split': [2, 5, 10],\n",
    "    'n_estimators': [200, 400, 600, 800, 1000, 1200, 1400, 1600]\n",
    "}"
   ]
  },
  {
   "cell_type": "code",
   "execution_count": 32,
   "metadata": {
    "ExecuteTime": {
     "end_time": "2020-01-29T13:44:25.518289Z",
     "start_time": "2020-01-29T11:25:06.133587Z"
    }
   },
   "outputs": [
    {
     "name": "stdout",
     "output_type": "stream",
     "text": [
      "RandomForestRegressor grid search.\n"
     ]
    },
    {
     "name": "stderr",
     "output_type": "stream",
     "text": [
      "C:\\Users\\jtd1g16\\AppData\\Local\\Continuum\\anaconda3\\lib\\site-packages\\sklearn\\model_selection\\_split.py:1978: FutureWarning: The default value of cv will change from 3 to 5 in version 0.22. Specify it explicitly to silence this warning.\n",
      "  warnings.warn(CV_WARNING, FutureWarning)\n"
     ]
    },
    {
     "name": "stdout",
     "output_type": "stream",
     "text": [
      "{'max_depth': 70, 'max_features': 'sqrt', 'min_samples_leaf': 1, 'min_samples_split': 2, 'n_estimators': 200}\n",
      "Grid search complete!\n",
      "Hyperparameters:\n",
      " {'max_depth': 70, 'max_features': 'sqrt', 'min_samples_leaf': 1, 'min_samples_split': 2, 'n_estimators': 200}\n",
      "RandomForestRegressor run at: 2020-01-29 13:44:25.389944 . Saving to models/RDKit_VPAS/RandomForestRegressor_model_29_01_2020_13_44_25.joblib\n"
     ]
    }
   ],
   "source": [
    "random_forest_model, rfr_hp = train_model(model = RandomForestRegressor,\n",
    "           feature_set= top_15_features_model,\n",
    "            grid_search=True,\n",
    "           hyperparameters=random_forest_param_grid)\n",
    "exp_vs_calc_random_forest_model = produce_exp_vs_pred_df('top_15_features_model', random_forest_model,\n",
    "                                                         \"RandomForest, model features\")"
   ]
  },
  {
   "cell_type": "markdown",
   "metadata": {},
   "source": [
    "### F-regression features"
   ]
  },
  {
   "cell_type": "code",
   "execution_count": 33,
   "metadata": {
    "ExecuteTime": {
     "end_time": "2020-01-29T13:45:02.559445Z",
     "start_time": "2020-01-29T13:44:25.525307Z"
    }
   },
   "outputs": [
    {
     "name": "stdout",
     "output_type": "stream",
     "text": [
      "No grid search\n",
      "Hyperparameters:\n",
      " {'max_depth': 70, 'max_features': 'sqrt', 'min_samples_leaf': 1, 'min_samples_split': 2, 'n_estimators': 200}\n",
      "RandomForestRegressor run at: 2020-01-29 13:45:02.422406 . Saving to models/RDKit_VPAS/RandomForestRegressor_kbest_29_01_2020_13_45_02.joblib\n"
     ]
    }
   ],
   "source": [
    "random_forest_freg = train_model(model = RandomForestRegressor,\n",
    "           feature_set= top_15_features_kbest,\n",
    "            grid_search=False,\n",
    "           hyperparameters=rfr_hp)\n",
    "exp_vs_calc_random_forest_freg = produce_exp_vs_pred_df('top_15_features_kbest', random_forest_freg,\n",
    "                                                         \"RandomForest, freg features\")"
   ]
  },
  {
   "cell_type": "markdown",
   "metadata": {},
   "source": [
    "### Mutual info features"
   ]
  },
  {
   "cell_type": "code",
   "execution_count": 34,
   "metadata": {
    "ExecuteTime": {
     "end_time": "2020-01-29T13:45:39.641780Z",
     "start_time": "2020-01-29T13:45:02.562453Z"
    }
   },
   "outputs": [
    {
     "name": "stdout",
     "output_type": "stream",
     "text": [
      "No grid search\n",
      "Hyperparameters:\n",
      " {'max_depth': 70, 'max_features': 'sqrt', 'min_samples_leaf': 1, 'min_samples_split': 2, 'n_estimators': 200}\n",
      "RandomForestRegressor run at: 2020-01-29 13:45:39.515435 . Saving to models/RDKit_VPAS/RandomForestRegressor_mutual_info_29_01_2020_13_45_39.joblib\n"
     ]
    }
   ],
   "source": [
    "random_forest_mu = train_model(model = RandomForestRegressor,\n",
    "           feature_set= top_15_features_mutual_info,\n",
    "            grid_search=False,\n",
    "           hyperparameters=rfr_hp)\n",
    "exp_vs_calc_random_forest_mu = produce_exp_vs_pred_df('top_15_features_mutual_info', random_forest_mu,\n",
    "                                                         \"RandomForest, mutual info features\")"
   ]
  },
  {
   "cell_type": "markdown",
   "metadata": {},
   "source": [
    "### LASSO features"
   ]
  },
  {
   "cell_type": "code",
   "execution_count": 35,
   "metadata": {
    "ExecuteTime": {
     "end_time": "2020-01-29T13:46:16.432084Z",
     "start_time": "2020-01-29T13:45:39.646787Z"
    }
   },
   "outputs": [
    {
     "name": "stdout",
     "output_type": "stream",
     "text": [
      "No grid search\n",
      "Hyperparameters:\n",
      " {'max_depth': 70, 'max_features': 'sqrt', 'min_samples_leaf': 1, 'min_samples_split': 2, 'n_estimators': 200}\n",
      "RandomForestRegressor run at: 2020-01-29 13:46:16.305747 . Saving to models/RDKit_VPAS/RandomForestRegressor_lasso_29_01_2020_13_46_16.joblib\n"
     ]
    }
   ],
   "source": [
    "random_forest_lasso = train_model(model = RandomForestRegressor,\n",
    "           feature_set= top_15_features_lasso,\n",
    "            grid_search=False,\n",
    "           hyperparameters=rfr_hp)\n",
    "exp_vs_calc_random_forest_lasso = produce_exp_vs_pred_df('top_15_features_lasso', random_forest_lasso,\n",
    "                                                         \"RandomForest, lasso features\")"
   ]
  },
  {
   "cell_type": "markdown",
   "metadata": {},
   "source": [
    "## LARS - Least angle regression\n",
    "### Model chosen features"
   ]
  },
  {
   "cell_type": "code",
   "execution_count": 36,
   "metadata": {
    "ExecuteTime": {
     "end_time": "2020-01-29T13:46:16.443115Z",
     "start_time": "2020-01-29T13:46:16.439104Z"
    }
   },
   "outputs": [],
   "source": [
    "lars_param_grid = {'n_nonzero_coefs': [0, 5, 10, 15]}"
   ]
  },
  {
   "cell_type": "code",
   "execution_count": 37,
   "metadata": {
    "ExecuteTime": {
     "end_time": "2020-01-29T13:46:35.820854Z",
     "start_time": "2020-01-29T13:46:16.445120Z"
    }
   },
   "outputs": [
    {
     "name": "stdout",
     "output_type": "stream",
     "text": [
      "Lars grid search.\n"
     ]
    },
    {
     "name": "stderr",
     "output_type": "stream",
     "text": [
      "C:\\Users\\jtd1g16\\AppData\\Local\\Continuum\\anaconda3\\lib\\site-packages\\sklearn\\model_selection\\_split.py:1978: FutureWarning: The default value of cv will change from 3 to 5 in version 0.22. Specify it explicitly to silence this warning.\n",
      "  warnings.warn(CV_WARNING, FutureWarning)\n"
     ]
    },
    {
     "name": "stdout",
     "output_type": "stream",
     "text": [
      "{'n_nonzero_coefs': 5}\n",
      "Grid search complete!\n",
      "Hyperparameters:\n",
      " {'n_nonzero_coefs': 5}\n",
      "Lars run at: 2020-01-29 13:46:35.810828 . Saving to models/RDKit_VPAS/Lars_model_29_01_2020_13_46_35.joblib\n"
     ]
    }
   ],
   "source": [
    "lars_model, lars_hp = train_model(model = Lars,\n",
    "           feature_set= top_15_features_model,\n",
    "            grid_search=True,\n",
    "           hyperparameters= lars_param_grid)\n",
    "exp_vs_calc_lars_model = produce_exp_vs_pred_df('top_15_features_model', lars_model, \"LARS model features\")"
   ]
  },
  {
   "cell_type": "markdown",
   "metadata": {},
   "source": [
    "### F-regression features"
   ]
  },
  {
   "cell_type": "code",
   "execution_count": 38,
   "metadata": {
    "ExecuteTime": {
     "end_time": "2020-01-29T13:46:39.872592Z",
     "start_time": "2020-01-29T13:46:35.823863Z"
    }
   },
   "outputs": [
    {
     "name": "stdout",
     "output_type": "stream",
     "text": [
      "No grid search\n",
      "Hyperparameters:\n",
      " {'n_nonzero_coefs': 5}\n",
      "Lars run at: 2020-01-29 13:46:39.861559 . Saving to models/RDKit_VPAS/Lars_kbest_29_01_2020_13_46_39.joblib\n"
     ]
    }
   ],
   "source": [
    "lars_freg = train_model(model = Lars,\n",
    "           feature_set= top_15_features_kbest,\n",
    "            grid_search=False,\n",
    "           hyperparameters= lars_hp)\n",
    "exp_vs_calc_lars_freg = produce_exp_vs_pred_df('top_15_features_kbest', lars_freg, \"LARS freg features\")"
   ]
  },
  {
   "cell_type": "markdown",
   "metadata": {},
   "source": [
    "### Mutual info features"
   ]
  },
  {
   "cell_type": "code",
   "execution_count": 39,
   "metadata": {
    "ExecuteTime": {
     "end_time": "2020-01-29T13:46:43.734860Z",
     "start_time": "2020-01-29T13:46:39.875600Z"
    }
   },
   "outputs": [
    {
     "name": "stdout",
     "output_type": "stream",
     "text": [
      "No grid search\n",
      "Hyperparameters:\n",
      " {'n_nonzero_coefs': 5}\n",
      "Lars run at: 2020-01-29 13:46:43.724869 . Saving to models/RDKit_VPAS/Lars_mutual_info_29_01_2020_13_46_43.joblib\n"
     ]
    }
   ],
   "source": [
    "lars_mu = train_model(model = Lars,\n",
    "           feature_set= top_15_features_mutual_info,\n",
    "            grid_search=False,\n",
    "           hyperparameters= lars_hp)\n",
    "\n",
    "exp_vs_calc_lars_mu = produce_exp_vs_pred_df('top_15_features_mutual_info', lars_mu, \"LARS mutual info features\")"
   ]
  },
  {
   "cell_type": "markdown",
   "metadata": {},
   "source": [
    "### LASSO features"
   ]
  },
  {
   "cell_type": "code",
   "execution_count": 40,
   "metadata": {
    "ExecuteTime": {
     "end_time": "2020-01-29T13:46:47.534964Z",
     "start_time": "2020-01-29T13:46:43.737870Z"
    }
   },
   "outputs": [
    {
     "name": "stdout",
     "output_type": "stream",
     "text": [
      "No grid search\n",
      "Hyperparameters:\n",
      " {'n_nonzero_coefs': 5}\n",
      "Lars run at: 2020-01-29 13:46:47.523972 . Saving to models/RDKit_VPAS/Lars_lasso_29_01_2020_13_46_47.joblib\n"
     ]
    }
   ],
   "source": [
    "lars_lasso = train_model(model = Lars,\n",
    "           feature_set= top_15_features_lasso,\n",
    "            grid_search=False,\n",
    "           hyperparameters= lars_hp)\n",
    "exp_vs_calc_lars_lasso = produce_exp_vs_pred_df('top_15_features_lasso', lars_lasso, \"LARS lasso features\")"
   ]
  },
  {
   "cell_type": "markdown",
   "metadata": {},
   "source": [
    "## Elastic Net (linear regression l1 l2 norm regularization)\n",
    "### Model chosen features"
   ]
  },
  {
   "cell_type": "code",
   "execution_count": 41,
   "metadata": {
    "ExecuteTime": {
     "end_time": "2020-01-29T13:46:47.544990Z",
     "start_time": "2020-01-29T13:46:47.537973Z"
    }
   },
   "outputs": [],
   "source": [
    "net_param_grid = {\n",
    "    'alpha':[0.1, 0.3, 0.5, 0.8, 1.0],\n",
    "    'l1_ratio':[0.0, 0.2, 0.4, 0.6, 0.8, 1.0],\n",
    "    'fit_intercept':[True, False],\n",
    "    'max_iter': [1000, 3000, 5000],\n",
    "    'tol':[0.0001, 0.001, 0.01],\n",
    "    'selection':['cyclic', 'random']\n",
    "}"
   ]
  },
  {
   "cell_type": "code",
   "execution_count": 42,
   "metadata": {
    "ExecuteTime": {
     "end_time": "2020-01-29T13:47:21.412743Z",
     "start_time": "2020-01-29T13:46:47.549001Z"
    }
   },
   "outputs": [
    {
     "name": "stdout",
     "output_type": "stream",
     "text": [
      "ElasticNet grid search.\n"
     ]
    },
    {
     "name": "stderr",
     "output_type": "stream",
     "text": [
      "C:\\Users\\jtd1g16\\AppData\\Local\\Continuum\\anaconda3\\lib\\site-packages\\sklearn\\model_selection\\_split.py:1978: FutureWarning: The default value of cv will change from 3 to 5 in version 0.22. Specify it explicitly to silence this warning.\n",
      "  warnings.warn(CV_WARNING, FutureWarning)\n"
     ]
    },
    {
     "name": "stdout",
     "output_type": "stream",
     "text": [
      "{'alpha': 0.3, 'fit_intercept': True, 'l1_ratio': 0.4, 'max_iter': 1000, 'selection': 'cyclic', 'tol': 0.0001}\n",
      "Grid search complete!\n",
      "Hyperparameters:\n",
      " {'alpha': 0.3, 'fit_intercept': True, 'l1_ratio': 0.4, 'max_iter': 1000, 'selection': 'cyclic', 'tol': 0.0001}\n",
      "ElasticNet run at: 2020-01-29 13:47:21.401712 . Saving to models/RDKit_VPAS/ElasticNet_model_29_01_2020_13_47_21.joblib\n"
     ]
    }
   ],
   "source": [
    "net_model, net_hp = train_model(model = ElasticNet,\n",
    "           feature_set= top_15_features_model,\n",
    "            grid_search=True,\n",
    "           hyperparameters= net_param_grid)\n",
    "exp_vs_calc_net_model = produce_exp_vs_pred_df('top_15_features_model', net_model, \"ElasticNet model features\")"
   ]
  },
  {
   "cell_type": "markdown",
   "metadata": {},
   "source": [
    "### F regression features"
   ]
  },
  {
   "cell_type": "code",
   "execution_count": 43,
   "metadata": {
    "ExecuteTime": {
     "end_time": "2020-01-29T13:47:25.373279Z",
     "start_time": "2020-01-29T13:47:21.415749Z"
    }
   },
   "outputs": [
    {
     "name": "stdout",
     "output_type": "stream",
     "text": [
      "No grid search\n",
      "Hyperparameters:\n",
      " {'alpha': 0.3, 'fit_intercept': True, 'l1_ratio': 0.4, 'max_iter': 1000, 'selection': 'cyclic', 'tol': 0.0001}\n"
     ]
    },
    {
     "name": "stderr",
     "output_type": "stream",
     "text": [
      "C:\\Users\\jtd1g16\\AppData\\Local\\Continuum\\anaconda3\\lib\\site-packages\\sklearn\\linear_model\\coordinate_descent.py:475: ConvergenceWarning: Objective did not converge. You might want to increase the number of iterations. Duality gap: 1691.237155666753, tolerance: 8.44530395603002\n",
      "  positive)\n"
     ]
    },
    {
     "name": "stdout",
     "output_type": "stream",
     "text": [
      "ElasticNet run at: 2020-01-29 13:47:25.366251 . Saving to models/RDKit_VPAS/ElasticNet_kbest_29_01_2020_13_47_25.joblib\n"
     ]
    }
   ],
   "source": [
    "net_freg = train_model(model = ElasticNet,\n",
    "           feature_set= top_15_features_kbest,\n",
    "            grid_search=False,\n",
    "           hyperparameters= net_hp)\n",
    "exp_vs_calc_net_freg = produce_exp_vs_pred_df('top_15_features_kbest', net_freg, \"ElasticNet freg features\")"
   ]
  },
  {
   "cell_type": "markdown",
   "metadata": {},
   "source": [
    "### Mutual info features"
   ]
  },
  {
   "cell_type": "code",
   "execution_count": 44,
   "metadata": {
    "ExecuteTime": {
     "end_time": "2020-01-29T13:47:29.264618Z",
     "start_time": "2020-01-29T13:47:25.379289Z"
    }
   },
   "outputs": [
    {
     "name": "stdout",
     "output_type": "stream",
     "text": [
      "No grid search\n",
      "Hyperparameters:\n",
      " {'alpha': 0.3, 'fit_intercept': True, 'l1_ratio': 0.4, 'max_iter': 1000, 'selection': 'cyclic', 'tol': 0.0001}\n"
     ]
    },
    {
     "name": "stderr",
     "output_type": "stream",
     "text": [
      "C:\\Users\\jtd1g16\\AppData\\Local\\Continuum\\anaconda3\\lib\\site-packages\\sklearn\\linear_model\\coordinate_descent.py:475: ConvergenceWarning: Objective did not converge. You might want to increase the number of iterations. Duality gap: 1003.1704196947067, tolerance: 8.44530395603002\n",
      "  positive)\n"
     ]
    },
    {
     "name": "stdout",
     "output_type": "stream",
     "text": [
      "ElasticNet run at: 2020-01-29 13:47:29.256615 . Saving to models/RDKit_VPAS/ElasticNet_mutual_info_29_01_2020_13_47_29.joblib\n"
     ]
    }
   ],
   "source": [
    "net_mu = train_model(model = ElasticNet,\n",
    "           feature_set= top_15_features_mutual_info,\n",
    "            grid_search=False,\n",
    "           hyperparameters= net_hp)\n",
    "exp_vs_calc_net_mu = produce_exp_vs_pred_df('top_15_features_mutual_info', net_mu, \"ElasticNet mutual info features\")"
   ]
  },
  {
   "cell_type": "markdown",
   "metadata": {},
   "source": [
    "### LASSO features"
   ]
  },
  {
   "cell_type": "code",
   "execution_count": 45,
   "metadata": {
    "ExecuteTime": {
     "end_time": "2020-01-29T13:47:33.181724Z",
     "start_time": "2020-01-29T13:47:29.266624Z"
    }
   },
   "outputs": [
    {
     "name": "stdout",
     "output_type": "stream",
     "text": [
      "No grid search\n",
      "Hyperparameters:\n",
      " {'alpha': 0.3, 'fit_intercept': True, 'l1_ratio': 0.4, 'max_iter': 1000, 'selection': 'cyclic', 'tol': 0.0001}\n",
      "ElasticNet run at: 2020-01-29 13:47:33.175700 . Saving to models/RDKit_VPAS/ElasticNet_lasso_29_01_2020_13_47_33.joblib\n"
     ]
    }
   ],
   "source": [
    "net_lasso = train_model(model = ElasticNet,\n",
    "           feature_set= top_15_features_lasso,\n",
    "            grid_search=False,\n",
    "           hyperparameters= net_hp)\n",
    "exp_vs_calc_net_lasso = produce_exp_vs_pred_df('top_15_features_lasso', net_lasso, \"ElasticNet lasso features\")"
   ]
  }
 ],
 "metadata": {
  "kernelspec": {
   "display_name": "Python 3",
   "language": "python",
   "name": "python3"
  },
  "language_info": {
   "codemirror_mode": {
    "name": "ipython",
    "version": 3
   },
   "file_extension": ".py",
   "mimetype": "text/x-python",
   "name": "python",
   "nbconvert_exporter": "python",
   "pygments_lexer": "ipython3",
   "version": "3.7.3"
  },
  "notify_time": "30",
  "toc": {
   "base_numbering": 1,
   "nav_menu": {},
   "number_sections": true,
   "sideBar": true,
   "skip_h1_title": false,
   "title_cell": "Table of Contents",
   "title_sidebar": "Contents",
   "toc_cell": false,
   "toc_position": {
    "height": "calc(100% - 180px)",
    "left": "10px",
    "top": "150px",
    "width": "303.516px"
   },
   "toc_section_display": true,
   "toc_window_display": true
  },
  "varInspector": {
   "cols": {
    "lenName": 16,
    "lenType": 16,
    "lenVar": 40
   },
   "kernels_config": {
    "python": {
     "delete_cmd_postfix": "",
     "delete_cmd_prefix": "del ",
     "library": "var_list.py",
     "varRefreshCmd": "print(var_dic_list())"
    },
    "r": {
     "delete_cmd_postfix": ") ",
     "delete_cmd_prefix": "rm(",
     "library": "var_list.r",
     "varRefreshCmd": "cat(var_dic_list()) "
    }
   },
   "types_to_exclude": [
    "module",
    "function",
    "builtin_function_or_method",
    "instance",
    "_Feature"
   ],
   "window_display": false
  }
 },
 "nbformat": 4,
 "nbformat_minor": 2
}
