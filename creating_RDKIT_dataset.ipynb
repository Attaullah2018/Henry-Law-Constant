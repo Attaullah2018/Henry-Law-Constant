{
 "cells": [
  {
   "cell_type": "markdown",
   "metadata": {},
   "source": [
    "# Initialisations"
   ]
  },
  {
   "cell_type": "code",
   "execution_count": 1,
   "metadata": {
    "ExecuteTime": {
     "end_time": "2020-01-30T09:35:23.292935Z",
     "start_time": "2020-01-30T09:35:14.178639Z"
    },
    "code_folding": []
   },
   "outputs": [],
   "source": [
    "import pandas as pd ; pd.set_option('display.max_columns', None, 'display.max_rows', None)\n",
    "pd.set_option('expand_frame_repr', True)\n",
    "import numpy as np\n",
    "import pubchempy as pcp\n",
    "from rdkit import Chem\n",
    "import cirpy #for changing between identifiers\n",
    "import matplotlib.pyplot as plt\n",
    "import seaborn as sns\n",
    "\n",
    "#for web integration\n",
    "from googlesearch import search\n",
    "import webbrowser\n",
    "\n",
    "#for molecular drawings and descriptor calculation\n",
    "from rdkit import Chem\n",
    "from rdkit.Chem import Draw\n",
    "from rdkit.Chem import rdMolDescriptors as descriptor\n",
    "from rdkit.Chem import Crippen\n",
    "from rdkit.Chem import AllChem\n",
    "#size = (120, 120)  # Smaller figures than the default.\n",
    "\n",
    "from sklearn import linear_model\n",
    "import statsmodels.api as sm\n",
    "\n",
    "#for progress bars\n",
    "from ipywidgets import widgets, Layout\n",
    "from IPython.display import display\n",
    "from ipywidgets import IntProgress \n",
    "#Run this part outside of the loop - create progress bar\n",
    "\n",
    "#max_count = len(cal_df.index.values)\n",
    "#f = IntProgress(min=0, max=max_count, description='CIDs') # instantiate the bar\n",
    "#display(f) # display the bar\n",
    "#count = 0\n",
    "    \n",
    "    \n",
    "#Place this part inside the loop\n",
    "\n",
    "    #f.value += 1 # signal to increment the progress bar\n",
    "    #count += 1"
   ]
  },
  {
   "cell_type": "markdown",
   "metadata": {},
   "source": [
    "Each constant is marked with a symbol denoting how the HLC was obtained\n",
    "- Some values are calculated (T for thermo calc, Q for QSAR calc)\n",
    "- Some values are estimates (E)\n",
    "- Some values are probable incorrect (W)\n",
    "- As stated above, some data was extrapolated to a different temperature or concentration range (R)"
   ]
  },
  {
   "cell_type": "markdown",
   "metadata": {},
   "source": [
    "Here I will remove estimated/calculated values from the dataset"
   ]
  },
  {
   "cell_type": "markdown",
   "metadata": {},
   "source": [
    "# Getting data from the supplement"
   ]
  },
  {
   "cell_type": "code",
   "execution_count": 2,
   "metadata": {
    "ExecuteTime": {
     "end_time": "2020-01-30T09:35:26.087314Z",
     "start_time": "2020-01-30T09:35:25.864932Z"
    }
   },
   "outputs": [
    {
     "name": "stdout",
     "output_type": "stream",
     "text": [
      "noVPAS 4632 4632 4632 \n",
      " <class 'list'> <class 'list'> <class 'list'> \n",
      " <class 'str'> <class 'str'> <class 'list'>\n",
      "VPAS 4632 4632 4632 \n",
      " <class 'list'> <class 'list'> <class 'list'> \n",
      " <class 'str'> <class 'str'> <class 'list'>\n"
     ]
    }
   ],
   "source": [
    "file = open(\"henry_law_dataset/output/HcpSI.f90\", \"r\")\n",
    "species_f90 = (file.read().split(sep=\"! species:\")) # create list where each element contains one species\n",
    "species_list = [] \n",
    "constant_list_noVPAS = []\n",
    "constant_list_VPAS = []\n",
    "cas_list = []\n",
    "\n",
    "for i in species_f90[1:]: #first line is ! alpha, skip this line with [1:]\n",
    "    cas_line = i.split(sep='\\n')[3] # fourth line contains CAS number\n",
    "    cas_list.append(cas_line.split(sep='! casrn:   ')[1]) # isolate CAS number and place it in the list\n",
    "    \n",
    "    species = i.split(sep='\\n')[0] #first line contains species name\n",
    "    species_list.append(species[1:]) # isolate species name and place it in list\n",
    "    hcpsi_lines = (i.split(sep='\\n')[5:]) #lines past the 6th contain constants\n",
    "    # each species has a different number of constants\n",
    "    # loop through them and pull the constant from each line, place them into a list\n",
    "    const_per_line_VPAS = []\n",
    "    const_per_line_noVPAS = [] #list for each species' constants\n",
    "    for j in range(0, len(hcpsi_lines)):\n",
    "        if 'HcpSI' in hcpsi_lines[j]: #check if line contains constant\n",
    "            const_type = hcpsi_lines[j].split(sep='type: ')[1].split(sep=',')[0] # isolate 'type' code\n",
    "            if (const_type != 'W') and (const_type != 'E') and (const_type != 'T') and (const_type != 'Q') and (const_type != 'V'):\n",
    "                # remove calculated / incorrect constants\n",
    "                const_per_line_noVPAS.append(hcpsi_lines[j].split(sep='=  ')[1][0:8]) # add remaining constants to list\n",
    "            if (const_type != 'W') and (const_type != 'E') and (const_type != 'T') and (const_type != 'Q'):\n",
    "                const_per_line_VPAS.append(hcpsi_lines[j].split(sep='=  ')[1][0:8]) # add remaining constants to list\n",
    "        else:\n",
    "            pass\n",
    "    \n",
    "    if 'HcpSI' in i:\n",
    "        new_value_list_noVPAS = []\n",
    "        for const in const_per_line_noVPAS:\n",
    "            # convert constants from strings to floats\n",
    "            if type(const) == str:\n",
    "                number = float(const.split(sep='E')[0])\n",
    "                power = float((const.split(sep='E')[1]))\n",
    "                new_value = (number*np.power(10, power)) # create float\n",
    "                log_value = np.log(1/new_value) # inverse of H gives Kh, then take log.\n",
    "            new_value_list_noVPAS.append(log_value) # put new value into list per species\n",
    "        constant_list_noVPAS.append(new_value_list_noVPAS) # put new lists into final list of constant lists\n",
    "    else:\n",
    "        constant_list_noVPAS.append(np.nan)\n",
    "\n",
    "    if 'HcpSI' in i:\n",
    "        new_value_list_VPAS = []\n",
    "        for const in const_per_line_VPAS:\n",
    "            # convert constants from strings to floats\n",
    "            if type(const) == str:\n",
    "                number = float(const.split(sep='E')[0])\n",
    "                power = float((const.split(sep='E')[1]))\n",
    "                new_value = (number*np.power(10, power)) # create float\n",
    "                log_value = np.log(1/new_value) # inverse of H gives Kh, then take log.\n",
    "            new_value_list_VPAS.append(log_value) # put new value into list per species\n",
    "        constant_list_VPAS.append(new_value_list_VPAS) # put new lists into final list of constant lists\n",
    "    else:\n",
    "        constant_list_VPAS.append(np.nan)\n",
    "        \n",
    "print(\"noVPAS\", len(cas_list), len(species_list), len(constant_list_noVPAS), '\\n',\n",
    "     type(cas_list), type(species_list), type(constant_list_noVPAS), '\\n',\n",
    "     type(cas_list[0]), type(species_list[0]), type(constant_list_noVPAS[0])) #checking lists are full and correct type\n",
    "print(\"VPAS\", len(cas_list), len(species_list), len(constant_list_VPAS), '\\n',\n",
    "     type(cas_list), type(species_list), type(constant_list_VPAS), '\\n',\n",
    "     type(cas_list[0]), type(species_list[0]), type(constant_list_VPAS[0])) #checking lists are full and correct type"
   ]
  },
  {
   "cell_type": "markdown",
   "metadata": {},
   "source": [
    "# Conversion of CAS numbers to SMILES strings"
   ]
  },
  {
   "cell_type": "code",
   "execution_count": 6,
   "metadata": {
    "ExecuteTime": {
     "end_time": "2020-01-26T17:25:55.908037Z",
     "start_time": "2020-01-26T16:47:34.488124Z"
    }
   },
   "outputs": [
    {
     "data": {
      "application/vnd.jupyter.widget-view+json": {
       "model_id": "82c3a4f42b5a459a866e4e127629756f",
       "version_major": 2,
       "version_minor": 0
      },
      "text/plain": [
       "IntProgress(value=0, description='CAS->SMILES', max=4632)"
      ]
     },
     "metadata": {},
     "output_type": "display_data"
    }
   ],
   "source": [
    "smiles_list = []\n",
    "\n",
    "max_count = len(cas_list)\n",
    "f = IntProgress(min=0, max=max_count, description='CAS->SMILES') # instantiate the bar\n",
    "display(f) # display the bar\n",
    "count = 0\n",
    "    \n",
    "for cas in cas_list:\n",
    "    smiles_list.append(cirpy.resolve(cas, 'smiles')) #convert CAS to SMILES\n",
    "    f.value += 1 # signal to increment the progress bar\n",
    "    count += 1"
   ]
  },
  {
   "cell_type": "code",
   "execution_count": 25,
   "metadata": {
    "ExecuteTime": {
     "end_time": "2020-01-26T17:40:25.664608Z",
     "start_time": "2020-01-26T17:40:25.035938Z"
    }
   },
   "outputs": [],
   "source": [
    "for dataset in ['VPAS', 'noVPAS']:\n",
    "    constant_list = eval('constant_list_%s'%dataset)\n",
    "    min_list = []; max_list = []; mean_list = []; median_list = []; num_constants_list = []\n",
    "    for clist in constant_list:\n",
    "        if (type(clist) == list):\n",
    "            if (len(clist) != 0):\n",
    "                #get various stats for each species' constants\n",
    "                min_list.append(np.min(clist))\n",
    "                max_list.append(np.max(clist))\n",
    "                mean_list.append(np.mean(clist))\n",
    "                median_list.append(np.median(clist))\n",
    "            else:\n",
    "                min_list.append(0)\n",
    "                max_list.append(0)\n",
    "                mean_list.append(0)\n",
    "                median_list.append(0)\n",
    "        else:\n",
    "            min_list.append(0)\n",
    "            max_list.append(0)\n",
    "            mean_list.append(0)\n",
    "            median_list.append(0)\n",
    "        if type(clist) == list:\n",
    "            num_constants_list.append(len(clist))\n",
    "        else:\n",
    "            num_constants_list.append(0)\n",
    "    const_list_df = pd.DataFrame(species_list)\n",
    "    const_list_df.rename({0:'Species'}, axis=1, inplace=True)\n",
    "    const_list_df['Num'] = num_constants_list\n",
    "    const_list_df['min'] = min_list    \n",
    "    const_list_df['max'] = max_list    \n",
    "    const_list_df['mean'] = mean_list    \n",
    "    const_list_df['median'] = median_list\n",
    "    const_list_df['max-min'] = np.array(max_list) - np.array(min_list)\n",
    "    const_list_df.set_index('Species', inplace=True)\n",
    "    exec('const_list_df_%s = const_list_df'%dataset)"
   ]
  },
  {
   "cell_type": "markdown",
   "metadata": {},
   "source": [
    "# Visualise data distribution, look at varying constants"
   ]
  },
  {
   "cell_type": "code",
   "execution_count": 28,
   "metadata": {
    "ExecuteTime": {
     "end_time": "2020-01-26T17:41:19.581962Z",
     "start_time": "2020-01-26T17:41:19.192929Z"
    }
   },
   "outputs": [
    {
     "data": {
      "image/png": "[encoded data removed]",
      "text/plain": [
       "<Figure size 432x288 with 1 Axes>"
      ]
     },
     "metadata": {
      "needs_background": "light"
     },
     "output_type": "display_data"
    }
   ],
   "source": [
    "plt.hist(const_list_df[const_list_df_noVPAS['max-min']!=0]['max-min'], bins=30)\n",
    "plt.title('Max-Min $log(K_H)$ per species')\n",
    "plt.xlabel('Max $log(K_H)$ - Min $log(K_H)$')\n",
    "plt.ylabel('Frequency')\n",
    "hist = plt.gcf()\n",
    "\n",
    "hist.savefig('range_per_species.png')"
   ]
  },
  {
   "cell_type": "code",
   "execution_count": 29,
   "metadata": {
    "ExecuteTime": {
     "end_time": "2020-01-26T17:41:31.487616Z",
     "start_time": "2020-01-26T17:41:30.955200Z"
    }
   },
   "outputs": [
    {
     "data": {
      "image/png": "[encoded data removed]",
      "text/plain": [
       "<Figure size 432x288 with 1 Axes>"
      ]
     },
     "metadata": {
      "needs_background": "light"
     },
     "output_type": "display_data"
    }
   ],
   "source": [
    "plt.hist(const_list_df[const_list_df_VPAS['max-min']!=0]['max-min'], bins=30)\n",
    "plt.title('Max-Min $log(K_H)$ per species')\n",
    "plt.xlabel('Max $log(K_H)$ - Min $log(K_H)$')\n",
    "plt.ylabel('Frequency')\n",
    "hist = plt.gcf()\n",
    "\n",
    "hist.savefig('range_per_species.png')"
   ]
  },
  {
   "cell_type": "code",
   "execution_count": 36,
   "metadata": {
    "ExecuteTime": {
     "end_time": "2020-01-26T17:47:25.807667Z",
     "start_time": "2020-01-26T17:47:24.388897Z"
    }
   },
   "outputs": [
    {
     "name": "stdout",
     "output_type": "stream",
     "text": [
      "VPAS\n"
     ]
    },
    {
     "data": {
      "text/html": [
       "<div>\n",
       "<style scoped>\n",
       "    .dataframe tbody tr th:only-of-type {\n",
       "        vertical-align: middle;\n",
       "    }\n",
       "\n",
       "    .dataframe tbody tr th {\n",
       "        vertical-align: top;\n",
       "    }\n",
       "\n",
       "    .dataframe thead th {\n",
       "        text-align: right;\n",
       "    }\n",
       "</style>\n",
       "<table border=\"1\" class=\"dataframe\">\n",
       "  <thead>\n",
       "    <tr style=\"text-align: right;\">\n",
       "      <th></th>\n",
       "      <th>Num</th>\n",
       "      <th>min</th>\n",
       "      <th>max</th>\n",
       "      <th>mean</th>\n",
       "      <th>median</th>\n",
       "      <th>max-min</th>\n",
       "    </tr>\n",
       "    <tr>\n",
       "      <th>Species</th>\n",
       "      <th></th>\n",
       "      <th></th>\n",
       "      <th></th>\n",
       "      <th></th>\n",
       "      <th></th>\n",
       "      <th></th>\n",
       "    </tr>\n",
       "  </thead>\n",
       "  <tbody>\n",
       "    <tr>\n",
       "      <th>hexanedioic acid</th>\n",
       "      <td>4</td>\n",
       "      <td>-18.005165</td>\n",
       "      <td>-2.397895</td>\n",
       "      <td>-11.765305</td>\n",
       "      <td>-13.329080</td>\n",
       "      <td>15.607270</td>\n",
       "    </tr>\n",
       "    <tr>\n",
       "      <th>(2,4-dichlorophenoxy)-ethanoic acid</th>\n",
       "      <td>11</td>\n",
       "      <td>-15.520259</td>\n",
       "      <td>1.966113</td>\n",
       "      <td>-6.163701</td>\n",
       "      <td>-6.877296</td>\n",
       "      <td>17.486372</td>\n",
       "    </tr>\n",
       "    <tr>\n",
       "      <th>pebulate</th>\n",
       "      <td>4</td>\n",
       "      <td>-23.858760</td>\n",
       "      <td>3.194183</td>\n",
       "      <td>-4.310896</td>\n",
       "      <td>1.710496</td>\n",
       "      <td>27.052943</td>\n",
       "    </tr>\n",
       "    <tr>\n",
       "      <th>iodofenphos</th>\n",
       "      <td>2</td>\n",
       "      <td>-23.858760</td>\n",
       "      <td>-0.788457</td>\n",
       "      <td>-12.323609</td>\n",
       "      <td>-12.323609</td>\n",
       "      <td>23.070303</td>\n",
       "    </tr>\n",
       "  </tbody>\n",
       "</table>\n",
       "</div>"
      ],
      "text/plain": [
       "                                     Num        min       max       mean  \\\n",
       "Species                                                                    \n",
       "hexanedioic acid                       4 -18.005165 -2.397895 -11.765305   \n",
       "(2,4-dichlorophenoxy)-ethanoic acid   11 -15.520259  1.966113  -6.163701   \n",
       "pebulate                               4 -23.858760  3.194183  -4.310896   \n",
       "iodofenphos                            2 -23.858760 -0.788457 -12.323609   \n",
       "\n",
       "                                        median    max-min  \n",
       "Species                                                    \n",
       "hexanedioic acid                    -13.329080  15.607270  \n",
       "(2,4-dichlorophenoxy)-ethanoic acid  -6.877296  17.486372  \n",
       "pebulate                              1.710496  27.052943  \n",
       "iodofenphos                         -12.323609  23.070303  "
      ]
     },
     "metadata": {},
     "output_type": "display_data"
    },
    {
     "name": "stdout",
     "output_type": "stream",
     "text": [
      "3018 species with 0 constant(s)\n",
      "852 species with 1 constant(s)\n",
      "267 species with 2 constant(s)\n",
      "113 species with 3 constant(s)\n",
      "85 species with 4 constant(s)\n",
      "65 species with 5 constant(s)\n",
      "38 species with 6 constant(s)\n",
      "26 species with 7 constant(s)\n",
      "21 species with 8 constant(s)\n",
      "24 species with 9 constant(s)\n",
      "22 species with 10 constant(s)\n",
      "12 species with 11 constant(s)\n",
      "10 species with 12 constant(s)\n",
      "6 species with 13 constant(s)\n",
      "9 species with 14 constant(s)\n",
      "4 species with 15 constant(s)\n",
      "6 species with 16 constant(s)\n",
      "7 species with 17 constant(s)\n",
      "3 species with 18 constant(s)\n",
      "4 species with 19 constant(s)\n",
      "5 species with 20 constant(s)\n",
      "3 species with 21 constant(s)\n",
      "1 species with 22 constant(s)\n",
      "5 species with 23 constant(s)\n",
      "5 species with 24 constant(s)\n",
      "2 species with 25 constant(s)\n",
      "2 species with 26 constant(s)\n",
      "1 species with 28 constant(s)\n",
      "3 species with 29 constant(s)\n",
      "1 species with 37 constant(s)\n",
      "1 species with 39 constant(s)\n",
      "2 species with 40 constant(s)\n",
      "2 species with 42 constant(s)\n",
      "1 species with 45 constant(s)\n",
      "2 species with 49 constant(s)\n",
      "1 species with 60 constant(s)\n",
      "1 species with 61 constant(s)\n",
      "1 species with 74 constant(s)\n",
      "1 species with 83 constant(s)\n",
      "This accounts for all species\n",
      "noVPAS\n"
     ]
    },
    {
     "data": {
      "text/html": [
       "<div>\n",
       "<style scoped>\n",
       "    .dataframe tbody tr th:only-of-type {\n",
       "        vertical-align: middle;\n",
       "    }\n",
       "\n",
       "    .dataframe tbody tr th {\n",
       "        vertical-align: top;\n",
       "    }\n",
       "\n",
       "    .dataframe thead th {\n",
       "        text-align: right;\n",
       "    }\n",
       "</style>\n",
       "<table border=\"1\" class=\"dataframe\">\n",
       "  <thead>\n",
       "    <tr style=\"text-align: right;\">\n",
       "      <th></th>\n",
       "      <th>Num</th>\n",
       "      <th>min</th>\n",
       "      <th>max</th>\n",
       "      <th>mean</th>\n",
       "      <th>median</th>\n",
       "      <th>max-min</th>\n",
       "    </tr>\n",
       "    <tr>\n",
       "      <th>Species</th>\n",
       "      <th></th>\n",
       "      <th></th>\n",
       "      <th></th>\n",
       "      <th></th>\n",
       "      <th></th>\n",
       "      <th></th>\n",
       "    </tr>\n",
       "  </thead>\n",
       "  <tbody>\n",
       "    <tr>\n",
       "      <th>(2,4-dichlorophenoxy)-ethanoic acid</th>\n",
       "      <td>5</td>\n",
       "      <td>-15.520259</td>\n",
       "      <td>1.966113</td>\n",
       "      <td>-6.359637</td>\n",
       "      <td>-6.877296</td>\n",
       "      <td>17.486372</td>\n",
       "    </tr>\n",
       "  </tbody>\n",
       "</table>\n",
       "</div>"
      ],
      "text/plain": [
       "                                     Num        min       max      mean  \\\n",
       "Species                                                                   \n",
       "(2,4-dichlorophenoxy)-ethanoic acid    5 -15.520259  1.966113 -6.359637   \n",
       "\n",
       "                                       median    max-min  \n",
       "Species                                                   \n",
       "(2,4-dichlorophenoxy)-ethanoic acid -6.877296  17.486372  "
      ]
     },
     "metadata": {},
     "output_type": "display_data"
    },
    {
     "name": "stdout",
     "output_type": "stream",
     "text": [
      "3018 species with 0 constant(s)\n",
      "852 species with 1 constant(s)\n",
      "267 species with 2 constant(s)\n",
      "113 species with 3 constant(s)\n",
      "85 species with 4 constant(s)\n",
      "65 species with 5 constant(s)\n",
      "38 species with 6 constant(s)\n",
      "26 species with 7 constant(s)\n",
      "21 species with 8 constant(s)\n",
      "24 species with 9 constant(s)\n",
      "22 species with 10 constant(s)\n",
      "12 species with 11 constant(s)\n",
      "10 species with 12 constant(s)\n",
      "6 species with 13 constant(s)\n",
      "9 species with 14 constant(s)\n",
      "4 species with 15 constant(s)\n",
      "6 species with 16 constant(s)\n",
      "7 species with 17 constant(s)\n",
      "3 species with 18 constant(s)\n",
      "4 species with 19 constant(s)\n",
      "5 species with 20 constant(s)\n",
      "3 species with 21 constant(s)\n",
      "1 species with 22 constant(s)\n",
      "5 species with 23 constant(s)\n",
      "5 species with 24 constant(s)\n",
      "2 species with 25 constant(s)\n",
      "2 species with 26 constant(s)\n",
      "1 species with 28 constant(s)\n",
      "3 species with 29 constant(s)\n",
      "1 species with 37 constant(s)\n",
      "1 species with 39 constant(s)\n",
      "2 species with 40 constant(s)\n",
      "2 species with 42 constant(s)\n",
      "1 species with 45 constant(s)\n",
      "2 species with 49 constant(s)\n",
      "1 species with 60 constant(s)\n",
      "1 species with 61 constant(s)\n",
      "1 species with 74 constant(s)\n",
      "1 species with 83 constant(s)\n",
      "This accounts for all species\n"
     ]
    }
   ],
   "source": [
    "for dataset in ['VPAS', 'noVPAS']:\n",
    "    print(dataset)\n",
    "    display(eval('const_list_df_%s[const_list_df_%s[\"max-min\"] > 15]'%(dataset, dataset))) #these vary by more than 15 log units\n",
    "    num_species = 0\n",
    "    for num in range(0, 100):\n",
    "        if len(const_list_df[const_list_df['Num'] == num] != 0):\n",
    "            print(len(const_list_df[const_list_df['Num'] == num]), \"species with %i constant(s)\" % num)\n",
    "        num_species += len(const_list_df[const_list_df['Num'] == num])\n",
    "    if num_species == len(const_list_df):\n",
    "        print(\"This accounts for all species\")\n",
    "    else:\n",
    "        print(\"Not all species accounted for - there are %i species missing from this count\" % (len(const_list_df) - num_species))"
   ]
  },
  {
   "cell_type": "markdown",
   "metadata": {},
   "source": [
    "# Marking species with varying HLCs\n",
    "One-hot encoding to mark these species - not to be used as a feature to train models with."
   ]
  },
  {
   "cell_type": "code",
   "execution_count": 56,
   "metadata": {
    "ExecuteTime": {
     "end_time": "2020-01-26T18:09:14.951360Z",
     "start_time": "2020-01-26T18:08:47.296834Z"
    }
   },
   "outputs": [
    {
     "name": "stdout",
     "output_type": "stream",
     "text": [
      "vary_list_0_VPAS 4632 constants total. 1179 varying constants\n",
      "vary_list_1_VPAS 4632 constants total. 665 varying constants\n",
      "vary_list_2_VPAS 4632 constants total. 465 varying constants\n",
      "vary_list_3_VPAS 4632 constants total. 296 varying constants\n",
      "vary_list_4_VPAS 4632 constants total. 182 varying constants\n",
      "vary_list_5_VPAS 4632 constants total. 110 varying constants\n",
      "vary_list_6_VPAS 4632 constants total. 82 varying constants\n",
      "vary_list_7_VPAS 4632 constants total. 60 varying constants\n",
      "vary_list_8_VPAS 4632 constants total. 40 varying constants\n",
      "vary_list_9_VPAS 4632 constants total. 29 varying constants\n",
      "vary_list_0_noVPAS 4632 constants total. 687 varying constants\n",
      "vary_list_1_noVPAS 4632 constants total. 318 varying constants\n",
      "vary_list_2_noVPAS 4632 constants total. 200 varying constants\n",
      "vary_list_3_noVPAS 4632 constants total. 110 varying constants\n",
      "vary_list_4_noVPAS 4632 constants total. 60 varying constants\n",
      "vary_list_5_noVPAS 4632 constants total. 44 varying constants\n",
      "vary_list_6_noVPAS 4632 constants total. 34 varying constants\n",
      "vary_list_7_noVPAS 4632 constants total. 27 varying constants\n",
      "vary_list_8_noVPAS 4632 constants total. 17 varying constants\n",
      "vary_list_9_noVPAS 4632 constants total. 9 varying constants\n"
     ]
    }
   ],
   "source": [
    "for dataset in ['VPAS', 'noVPAS']:\n",
    "    const_list_df = eval('const_list_df_%s'%dataset)\n",
    "    for vary_by in range(0, 10):\n",
    "        exec('vary_list_%s_%s = []'% (str(vary_by), dataset)) # create many empty lists at once\n",
    "        for i in range(0, len(eval('const_list_df_%s'%dataset))):\n",
    "            exec('max_min = const_list_df_%s.iloc[i][\"max-min\"]'%dataset)\n",
    "            # one hot encoding - for vary_list_x, append 1 if range is larger than x and 0 if not\n",
    "            if max_min > vary_by:\n",
    "                exec('vary_list_%i_%s.append(1)'%(vary_by, dataset))\n",
    "            else:\n",
    "                exec('vary_list_%i_%s.append(0)'%(vary_by, dataset))\n",
    "        exec('print(\"vary_list_%i_%s\", len(vary_list_%i_%s), \"constants total.\", vary_list_%i_%s.count(1), \"varying constants\")'\n",
    "             %(vary_by, dataset, vary_by, dataset, vary_by, dataset)) #ensure all constants are processed properly"
   ]
  },
  {
   "cell_type": "markdown",
   "metadata": {},
   "source": [
    "# Picking constants to use for each species\n",
    "Henry's Law constants vary by a fair amount - values between species can differ by orders of magnitude. Perhaps its an idea to take the log of the constants as we get them and then work out how to split from there?\n",
    "> Changed the code in `Getting data from the supplement` to use the log value from the start\n",
    "\n",
    "Now to figure out which values to use. I think a difference of one log unit is a reasonable threshold to drop, but will check this with Jeremy.\n",
    "\n",
    "> For now, I will not drop any constants, and will instead use the mean for each species.\n",
    "\n",
    "I'm going to create several columns in this dataframe - each holding a different choice of constant."
   ]
  },
  {
   "cell_type": "code",
   "execution_count": 71,
   "metadata": {
    "ExecuteTime": {
     "end_time": "2020-01-26T18:23:44.694797Z",
     "start_time": "2020-01-26T18:23:44.689784Z"
    }
   },
   "outputs": [
    {
     "data": {
      "text/plain": [
       "4632"
      ]
     },
     "execution_count": 71,
     "metadata": {},
     "output_type": "execute_result"
    }
   ],
   "source": [
    "len(constant_list_VPAS)"
   ]
  },
  {
   "cell_type": "code",
   "execution_count": 72,
   "metadata": {
    "ExecuteTime": {
     "end_time": "2020-01-26T18:25:11.805402Z",
     "start_time": "2020-01-26T18:25:10.957148Z"
    }
   },
   "outputs": [
    {
     "name": "stderr",
     "output_type": "stream",
     "text": [
      "C:\\Users\\jtd1g16\\AppData\\Local\\Continuum\\anaconda3\\lib\\site-packages\\numpy\\core\\fromnumeric.py:3257: RuntimeWarning: Mean of empty slice.\n",
      "  out=out, **kwargs)\n",
      "C:\\Users\\jtd1g16\\AppData\\Local\\Continuum\\anaconda3\\lib\\site-packages\\numpy\\core\\_methods.py:161: RuntimeWarning: invalid value encountered in double_scalars\n",
      "  ret = ret.dtype.type(ret / rcount)\n"
     ]
    }
   ],
   "source": [
    "for dataset in ['VPAS', 'noVPAS']:\n",
    "    exec('mean_constant_list_%s = []'%dataset) #take mean for each list of constants\n",
    "    for i in range(0, len(eval('constant_list_%s'%dataset))):\n",
    "        if type(constant_list[i]) == list:\n",
    "            eval('mean_constant_list_%s.append(np.mean(constant_list_%s[i]))'%(dataset, dataset))\n",
    "        else:\n",
    "            eval('mean_constant_list_%s.append(np.nan)'%dataset)\n",
    "\n",
    "    exec('first_constant_list_%s = []'%dataset) #use first constant in each case\n",
    "    for i in range(0, len(eval('constant_list_%s'%dataset))):\n",
    "        if type(eval('constant_list_%s'%dataset)[i]) == list:\n",
    "            if len(eval('constant_list_%s'%dataset)[i]) > 0:\n",
    "                eval('first_constant_list_%s.append(np.mean(constant_list_%s[i]))'%(dataset, dataset))\n",
    "            else:\n",
    "                eval('first_constant_list_%s.append(np.nan)'%dataset)\n",
    "        else:\n",
    "            eval('first_constant_list_%s.append(np.nan)'%dataset)"
   ]
  },
  {
   "cell_type": "code",
   "execution_count": 73,
   "metadata": {
    "ExecuteTime": {
     "end_time": "2020-01-26T18:25:17.916651Z",
     "start_time": "2020-01-26T18:25:17.909632Z"
    }
   },
   "outputs": [
    {
     "data": {
      "text/plain": [
       "4632"
      ]
     },
     "execution_count": 73,
     "metadata": {},
     "output_type": "execute_result"
    }
   ],
   "source": [
    "len(first_constant_list_VPAS)"
   ]
  },
  {
   "cell_type": "markdown",
   "metadata": {},
   "source": [
    "# Construct dataframe of SMILES, names and constants for all species"
   ]
  },
  {
   "cell_type": "code",
   "execution_count": 4,
   "metadata": {
    "ExecuteTime": {
     "end_time": "2020-01-30T09:44:09.123358Z",
     "start_time": "2020-01-30T09:44:09.062244Z"
    }
   },
   "outputs": [
    {
     "data": {
      "text/plain": [
       "0         O=O\n",
       "1     O=[O]=O\n",
       "2      [H][H]\n",
       "3         [H]\n",
       "4    [2H][2H]\n",
       "5       [OH-]\n",
       "6       O[O-]\n",
       "7          OO\n",
       "8         N#N\n",
       "9           N\n",
       "Name: 1, dtype: object"
      ]
     },
     "execution_count": 4,
     "metadata": {},
     "output_type": "execute_result"
    }
   ],
   "source": [
    "if not 'smiles_list' in dir():\n",
    "    smiles_list = pd.read_csv('../smiles_constants.csv').iloc[:, 2] #already constructed smiles list from CAS numbers\n",
    "smiles_list[0:10]"
   ]
  },
  {
   "cell_type": "code",
   "execution_count": 88,
   "metadata": {
    "ExecuteTime": {
     "end_time": "2020-01-26T18:39:45.937506Z",
     "start_time": "2020-01-26T18:39:45.645732Z"
    }
   },
   "outputs": [],
   "source": [
    "for dataset in ['VPAS', 'noVPAS']:\n",
    "    smiles_constant_species = pd.concat([pd.Series(species_list), #creating dataframe to hold all info found so far\n",
    "                                         pd.Series(smiles_list),\n",
    "                                         pd.Series(eval('mean_constant_list_%s'%dataset)), #kept first Kh and mean in each case\n",
    "                                         pd.Series(eval('first_constant_list_%s'%dataset)), #will train on both sets and see which is better\n",
    "                                        pd.Series(eval('vary_list_1_%s'%dataset)), #one-hot encoded variation in constants\n",
    "                                        pd.Series(eval('vary_list_2_%s'%dataset)), #to be used for highlighting after training\n",
    "                                        pd.Series(eval('vary_list_3_%s'%dataset)), # /not/ to be used as a feature\n",
    "                                        pd.Series(eval('vary_list_4_%s'%dataset)), #perhaps could be used to weight certain species?\n",
    "                                        pd.Series(eval('vary_list_5_%s'%dataset)),\n",
    "                                        pd.Series(eval('vary_list_6_%s'%dataset)),\n",
    "                                        pd.Series(eval('vary_list_7_%s'%dataset)),\n",
    "                                        pd.Series(eval('vary_list_8_%s'%dataset)),\n",
    "                                        pd.Series(eval('vary_list_9_%s'%dataset))],\n",
    "                                        axis=1)\n",
    "    smiles_constant_species.to_csv('smiles_constants_kh_noVPAS.csv') #export so all the work isn't lost\n",
    "    smiles_constant_species.set_index(0, inplace=True)\n",
    "    smiles_constant_species.rename({0+1:'SMILES', 1+1:'Kh_mean', 2+1:'Kh_first', 3+1:'Varying_1',\n",
    "                                   4+1:'Varying_2', 5+1:'Varying_3', 6+1:'Varying_4', 7+1:'Varying_5',\n",
    "                                   8+1:'Varying_6', 9+1:'Varying_7', 10+1:'Varying_8', 11+1:'Varying_9'}, axis=1, inplace=True)\n",
    "    exec('smiles_constant_species_%s = smiles_constant_species'%dataset)"
   ]
  },
  {
   "cell_type": "code",
   "execution_count": 90,
   "metadata": {
    "ExecuteTime": {
     "end_time": "2020-01-26T18:40:59.294546Z",
     "start_time": "2020-01-26T18:40:59.277500Z"
    }
   },
   "outputs": [
    {
     "data": {
      "text/html": [
       "<div>\n",
       "<style scoped>\n",
       "    .dataframe tbody tr th:only-of-type {\n",
       "        vertical-align: middle;\n",
       "    }\n",
       "\n",
       "    .dataframe tbody tr th {\n",
       "        vertical-align: top;\n",
       "    }\n",
       "\n",
       "    .dataframe thead th {\n",
       "        text-align: right;\n",
       "    }\n",
       "</style>\n",
       "<table border=\"1\" class=\"dataframe\">\n",
       "  <thead>\n",
       "    <tr style=\"text-align: right;\">\n",
       "      <th></th>\n",
       "      <th>SMILES</th>\n",
       "      <th>Kh_mean</th>\n",
       "      <th>Kh_first</th>\n",
       "      <th>Varying_1</th>\n",
       "      <th>Varying_2</th>\n",
       "      <th>Varying_3</th>\n",
       "      <th>Varying_4</th>\n",
       "      <th>Varying_5</th>\n",
       "      <th>Varying_6</th>\n",
       "      <th>Varying_7</th>\n",
       "      <th>Varying_8</th>\n",
       "      <th>Varying_9</th>\n",
       "    </tr>\n",
       "    <tr>\n",
       "      <th>0</th>\n",
       "      <th></th>\n",
       "      <th></th>\n",
       "      <th></th>\n",
       "      <th></th>\n",
       "      <th></th>\n",
       "      <th></th>\n",
       "      <th></th>\n",
       "      <th></th>\n",
       "      <th></th>\n",
       "      <th></th>\n",
       "      <th></th>\n",
       "      <th></th>\n",
       "    </tr>\n",
       "  </thead>\n",
       "  <tbody>\n",
       "    <tr>\n",
       "      <th>oxygen</th>\n",
       "      <td>O=O</td>\n",
       "      <td>11.267713</td>\n",
       "      <td>11.267713</td>\n",
       "      <td>0</td>\n",
       "      <td>0</td>\n",
       "      <td>0</td>\n",
       "      <td>0</td>\n",
       "      <td>0</td>\n",
       "      <td>0</td>\n",
       "      <td>0</td>\n",
       "      <td>0</td>\n",
       "      <td>0</td>\n",
       "    </tr>\n",
       "    <tr>\n",
       "      <th>ozone</th>\n",
       "      <td>O=[O]=O</td>\n",
       "      <td>9.508258</td>\n",
       "      <td>9.508258</td>\n",
       "      <td>1</td>\n",
       "      <td>1</td>\n",
       "      <td>1</td>\n",
       "      <td>1</td>\n",
       "      <td>0</td>\n",
       "      <td>0</td>\n",
       "      <td>0</td>\n",
       "      <td>0</td>\n",
       "      <td>0</td>\n",
       "    </tr>\n",
       "    <tr>\n",
       "      <th>hydrogen atom</th>\n",
       "      <td>[H][H]</td>\n",
       "      <td>12.859999</td>\n",
       "      <td>12.859999</td>\n",
       "      <td>0</td>\n",
       "      <td>0</td>\n",
       "      <td>0</td>\n",
       "      <td>0</td>\n",
       "      <td>0</td>\n",
       "      <td>0</td>\n",
       "      <td>0</td>\n",
       "      <td>0</td>\n",
       "      <td>0</td>\n",
       "    </tr>\n",
       "    <tr>\n",
       "      <th>hydrogen</th>\n",
       "      <td>[H]</td>\n",
       "      <td>11.768784</td>\n",
       "      <td>11.768784</td>\n",
       "      <td>0</td>\n",
       "      <td>0</td>\n",
       "      <td>0</td>\n",
       "      <td>0</td>\n",
       "      <td>0</td>\n",
       "      <td>0</td>\n",
       "      <td>0</td>\n",
       "      <td>0</td>\n",
       "      <td>0</td>\n",
       "    </tr>\n",
       "    <tr>\n",
       "      <th>deuterium</th>\n",
       "      <td>[2H][2H]</td>\n",
       "      <td>11.748648</td>\n",
       "      <td>11.748648</td>\n",
       "      <td>0</td>\n",
       "      <td>0</td>\n",
       "      <td>0</td>\n",
       "      <td>0</td>\n",
       "      <td>0</td>\n",
       "      <td>0</td>\n",
       "      <td>0</td>\n",
       "      <td>0</td>\n",
       "      <td>0</td>\n",
       "    </tr>\n",
       "  </tbody>\n",
       "</table>\n",
       "</div>"
      ],
      "text/plain": [
       "                 SMILES    Kh_mean   Kh_first  Varying_1  Varying_2  \\\n",
       "0                                                                     \n",
       "oxygen              O=O  11.267713  11.267713          0          0   \n",
       "ozone           O=[O]=O   9.508258   9.508258          1          1   \n",
       "hydrogen atom    [H][H]  12.859999  12.859999          0          0   \n",
       "hydrogen            [H]  11.768784  11.768784          0          0   \n",
       "deuterium      [2H][2H]  11.748648  11.748648          0          0   \n",
       "\n",
       "               Varying_3  Varying_4  Varying_5  Varying_6  Varying_7  \\\n",
       "0                                                                      \n",
       "oxygen                 0          0          0          0          0   \n",
       "ozone                  1          1          0          0          0   \n",
       "hydrogen atom          0          0          0          0          0   \n",
       "hydrogen               0          0          0          0          0   \n",
       "deuterium              0          0          0          0          0   \n",
       "\n",
       "               Varying_8  Varying_9  \n",
       "0                                    \n",
       "oxygen                 0          0  \n",
       "ozone                  0          0  \n",
       "hydrogen atom          0          0  \n",
       "hydrogen               0          0  \n",
       "deuterium              0          0  "
      ]
     },
     "execution_count": 90,
     "metadata": {},
     "output_type": "execute_result"
    }
   ],
   "source": [
    "smiles_constant_species_VPAS.head()"
   ]
  },
  {
   "cell_type": "markdown",
   "metadata": {},
   "source": [
    "# Dropping species with no experimental constants"
   ]
  },
  {
   "cell_type": "code",
   "execution_count": 97,
   "metadata": {
    "ExecuteTime": {
     "end_time": "2020-01-26T18:50:24.344877Z",
     "start_time": "2020-01-26T18:50:24.326830Z"
    }
   },
   "outputs": [
    {
     "name": "stdout",
     "output_type": "stream",
     "text": [
      "Species to drop in VPAS data:  2100\n",
      "Species to drop in noVPAS data:  3018\n"
     ]
    }
   ],
   "source": [
    "for dataset in ['VPAS', 'noVPAS']:\n",
    "    print('Species to drop in %s data: '%dataset, len(eval('const_list_df_%s[const_list_df_%s[\"Num\"] == 0]'%(dataset, dataset))))\n",
    "    no_constants = eval('const_list_df_%s[const_list_df_%s[\"Num\"] == 0]'%(dataset, dataset))\n",
    "    exec('to_drop_%s = list(no_constants.index.values)'%dataset)\n",
    "    constants = eval('const_list_df_%s[const_list_df_%s[\"Num\"] != 0]'%(dataset, dataset))\n",
    "    exec('to_keep_%s = list(constants.index.values)'%dataset)"
   ]
  },
  {
   "cell_type": "code",
   "execution_count": 98,
   "metadata": {
    "ExecuteTime": {
     "end_time": "2020-01-26T18:50:47.013146Z",
     "start_time": "2020-01-26T18:50:46.963013Z"
    }
   },
   "outputs": [
    {
     "data": {
      "text/html": [
       "<div>\n",
       "<style scoped>\n",
       "    .dataframe tbody tr th:only-of-type {\n",
       "        vertical-align: middle;\n",
       "    }\n",
       "\n",
       "    .dataframe tbody tr th {\n",
       "        vertical-align: top;\n",
       "    }\n",
       "\n",
       "    .dataframe thead th {\n",
       "        text-align: right;\n",
       "    }\n",
       "</style>\n",
       "<table border=\"1\" class=\"dataframe\">\n",
       "  <thead>\n",
       "    <tr style=\"text-align: right;\">\n",
       "      <th></th>\n",
       "      <th>SMILES</th>\n",
       "      <th>Kh_mean</th>\n",
       "      <th>Kh_first</th>\n",
       "      <th>Varying_1</th>\n",
       "      <th>Varying_2</th>\n",
       "      <th>Varying_3</th>\n",
       "      <th>Varying_4</th>\n",
       "      <th>Varying_5</th>\n",
       "      <th>Varying_6</th>\n",
       "      <th>Varying_7</th>\n",
       "      <th>Varying_8</th>\n",
       "      <th>Varying_9</th>\n",
       "    </tr>\n",
       "    <tr>\n",
       "      <th>0</th>\n",
       "      <th></th>\n",
       "      <th></th>\n",
       "      <th></th>\n",
       "      <th></th>\n",
       "      <th></th>\n",
       "      <th></th>\n",
       "      <th></th>\n",
       "      <th></th>\n",
       "      <th></th>\n",
       "      <th></th>\n",
       "      <th></th>\n",
       "      <th></th>\n",
       "    </tr>\n",
       "  </thead>\n",
       "  <tbody>\n",
       "    <tr>\n",
       "      <th>oxygen</th>\n",
       "      <td>O=O</td>\n",
       "      <td>11.267713</td>\n",
       "      <td>11.267713</td>\n",
       "      <td>0</td>\n",
       "      <td>0</td>\n",
       "      <td>0</td>\n",
       "      <td>0</td>\n",
       "      <td>0</td>\n",
       "      <td>0</td>\n",
       "      <td>0</td>\n",
       "      <td>0</td>\n",
       "      <td>0</td>\n",
       "    </tr>\n",
       "    <tr>\n",
       "      <th>ozone</th>\n",
       "      <td>O=[O]=O</td>\n",
       "      <td>9.508258</td>\n",
       "      <td>9.508258</td>\n",
       "      <td>1</td>\n",
       "      <td>1</td>\n",
       "      <td>1</td>\n",
       "      <td>1</td>\n",
       "      <td>0</td>\n",
       "      <td>0</td>\n",
       "      <td>0</td>\n",
       "      <td>0</td>\n",
       "      <td>0</td>\n",
       "    </tr>\n",
       "    <tr>\n",
       "      <th>hydrogen atom</th>\n",
       "      <td>[H][H]</td>\n",
       "      <td>12.859999</td>\n",
       "      <td>12.859999</td>\n",
       "      <td>0</td>\n",
       "      <td>0</td>\n",
       "      <td>0</td>\n",
       "      <td>0</td>\n",
       "      <td>0</td>\n",
       "      <td>0</td>\n",
       "      <td>0</td>\n",
       "      <td>0</td>\n",
       "      <td>0</td>\n",
       "    </tr>\n",
       "    <tr>\n",
       "      <th>hydrogen</th>\n",
       "      <td>[H]</td>\n",
       "      <td>11.768784</td>\n",
       "      <td>11.768784</td>\n",
       "      <td>0</td>\n",
       "      <td>0</td>\n",
       "      <td>0</td>\n",
       "      <td>0</td>\n",
       "      <td>0</td>\n",
       "      <td>0</td>\n",
       "      <td>0</td>\n",
       "      <td>0</td>\n",
       "      <td>0</td>\n",
       "    </tr>\n",
       "    <tr>\n",
       "      <th>deuterium</th>\n",
       "      <td>[2H][2H]</td>\n",
       "      <td>11.748648</td>\n",
       "      <td>11.748648</td>\n",
       "      <td>0</td>\n",
       "      <td>0</td>\n",
       "      <td>0</td>\n",
       "      <td>0</td>\n",
       "      <td>0</td>\n",
       "      <td>0</td>\n",
       "      <td>0</td>\n",
       "      <td>0</td>\n",
       "      <td>0</td>\n",
       "    </tr>\n",
       "  </tbody>\n",
       "</table>\n",
       "</div>"
      ],
      "text/plain": [
       "                 SMILES    Kh_mean   Kh_first  Varying_1  Varying_2  \\\n",
       "0                                                                     \n",
       "oxygen              O=O  11.267713  11.267713          0          0   \n",
       "ozone           O=[O]=O   9.508258   9.508258          1          1   \n",
       "hydrogen atom    [H][H]  12.859999  12.859999          0          0   \n",
       "hydrogen            [H]  11.768784  11.768784          0          0   \n",
       "deuterium      [2H][2H]  11.748648  11.748648          0          0   \n",
       "\n",
       "               Varying_3  Varying_4  Varying_5  Varying_6  Varying_7  \\\n",
       "0                                                                      \n",
       "oxygen                 0          0          0          0          0   \n",
       "ozone                  1          1          0          0          0   \n",
       "hydrogen atom          0          0          0          0          0   \n",
       "hydrogen               0          0          0          0          0   \n",
       "deuterium              0          0          0          0          0   \n",
       "\n",
       "               Varying_8  Varying_9  \n",
       "0                                    \n",
       "oxygen                 0          0  \n",
       "ozone                  0          0  \n",
       "hydrogen atom          0          0  \n",
       "hydrogen               0          0  \n",
       "deuterium              0          0  "
      ]
     },
     "metadata": {},
     "output_type": "display_data"
    },
    {
     "data": {
      "text/html": [
       "<div>\n",
       "<style scoped>\n",
       "    .dataframe tbody tr th:only-of-type {\n",
       "        vertical-align: middle;\n",
       "    }\n",
       "\n",
       "    .dataframe tbody tr th {\n",
       "        vertical-align: top;\n",
       "    }\n",
       "\n",
       "    .dataframe thead th {\n",
       "        text-align: right;\n",
       "    }\n",
       "</style>\n",
       "<table border=\"1\" class=\"dataframe\">\n",
       "  <thead>\n",
       "    <tr style=\"text-align: right;\">\n",
       "      <th></th>\n",
       "      <th>SMILES</th>\n",
       "      <th>Kh_mean</th>\n",
       "      <th>Kh_first</th>\n",
       "      <th>Varying_1</th>\n",
       "      <th>Varying_2</th>\n",
       "      <th>Varying_3</th>\n",
       "      <th>Varying_4</th>\n",
       "      <th>Varying_5</th>\n",
       "      <th>Varying_6</th>\n",
       "      <th>Varying_7</th>\n",
       "      <th>Varying_8</th>\n",
       "      <th>Varying_9</th>\n",
       "    </tr>\n",
       "    <tr>\n",
       "      <th>0</th>\n",
       "      <th></th>\n",
       "      <th></th>\n",
       "      <th></th>\n",
       "      <th></th>\n",
       "      <th></th>\n",
       "      <th></th>\n",
       "      <th></th>\n",
       "      <th></th>\n",
       "      <th></th>\n",
       "      <th></th>\n",
       "      <th></th>\n",
       "      <th></th>\n",
       "    </tr>\n",
       "  </thead>\n",
       "  <tbody>\n",
       "    <tr>\n",
       "      <th>oxygen</th>\n",
       "      <td>O=O</td>\n",
       "      <td>11.267713</td>\n",
       "      <td>11.267713</td>\n",
       "      <td>0</td>\n",
       "      <td>0</td>\n",
       "      <td>0</td>\n",
       "      <td>0</td>\n",
       "      <td>0</td>\n",
       "      <td>0</td>\n",
       "      <td>0</td>\n",
       "      <td>0</td>\n",
       "      <td>0</td>\n",
       "    </tr>\n",
       "    <tr>\n",
       "      <th>ozone</th>\n",
       "      <td>O=[O]=O</td>\n",
       "      <td>9.508258</td>\n",
       "      <td>9.508258</td>\n",
       "      <td>1</td>\n",
       "      <td>1</td>\n",
       "      <td>1</td>\n",
       "      <td>1</td>\n",
       "      <td>0</td>\n",
       "      <td>0</td>\n",
       "      <td>0</td>\n",
       "      <td>0</td>\n",
       "      <td>0</td>\n",
       "    </tr>\n",
       "    <tr>\n",
       "      <th>hydrogen atom</th>\n",
       "      <td>[H][H]</td>\n",
       "      <td>12.859999</td>\n",
       "      <td>12.859999</td>\n",
       "      <td>0</td>\n",
       "      <td>0</td>\n",
       "      <td>0</td>\n",
       "      <td>0</td>\n",
       "      <td>0</td>\n",
       "      <td>0</td>\n",
       "      <td>0</td>\n",
       "      <td>0</td>\n",
       "      <td>0</td>\n",
       "    </tr>\n",
       "    <tr>\n",
       "      <th>hydrogen</th>\n",
       "      <td>[H]</td>\n",
       "      <td>11.768784</td>\n",
       "      <td>11.768784</td>\n",
       "      <td>0</td>\n",
       "      <td>0</td>\n",
       "      <td>0</td>\n",
       "      <td>0</td>\n",
       "      <td>0</td>\n",
       "      <td>0</td>\n",
       "      <td>0</td>\n",
       "      <td>0</td>\n",
       "      <td>0</td>\n",
       "    </tr>\n",
       "    <tr>\n",
       "      <th>deuterium</th>\n",
       "      <td>[2H][2H]</td>\n",
       "      <td>11.748648</td>\n",
       "      <td>11.748648</td>\n",
       "      <td>0</td>\n",
       "      <td>0</td>\n",
       "      <td>0</td>\n",
       "      <td>0</td>\n",
       "      <td>0</td>\n",
       "      <td>0</td>\n",
       "      <td>0</td>\n",
       "      <td>0</td>\n",
       "      <td>0</td>\n",
       "    </tr>\n",
       "  </tbody>\n",
       "</table>\n",
       "</div>"
      ],
      "text/plain": [
       "                 SMILES    Kh_mean   Kh_first  Varying_1  Varying_2  \\\n",
       "0                                                                     \n",
       "oxygen              O=O  11.267713  11.267713          0          0   \n",
       "ozone           O=[O]=O   9.508258   9.508258          1          1   \n",
       "hydrogen atom    [H][H]  12.859999  12.859999          0          0   \n",
       "hydrogen            [H]  11.768784  11.768784          0          0   \n",
       "deuterium      [2H][2H]  11.748648  11.748648          0          0   \n",
       "\n",
       "               Varying_3  Varying_4  Varying_5  Varying_6  Varying_7  \\\n",
       "0                                                                      \n",
       "oxygen                 0          0          0          0          0   \n",
       "ozone                  1          1          0          0          0   \n",
       "hydrogen atom          0          0          0          0          0   \n",
       "hydrogen               0          0          0          0          0   \n",
       "deuterium              0          0          0          0          0   \n",
       "\n",
       "               Varying_8  Varying_9  \n",
       "0                                    \n",
       "oxygen                 0          0  \n",
       "ozone                  0          0  \n",
       "hydrogen atom          0          0  \n",
       "hydrogen               0          0  \n",
       "deuterium              0          0  "
      ]
     },
     "metadata": {},
     "output_type": "display_data"
    }
   ],
   "source": [
    "for dataset in ['VPAS', 'noVPAS']:\n",
    "    \n",
    "    exec('filtered_smiles_constant_species_%s = smiles_constant_species_%s.loc[to_keep_%s]'%(dataset, dataset, dataset))\n",
    "    eval('filtered_smiles_constant_species_%s.rename({1:\"SMILES\", 2:\"Constant\", 3:\"Varying\"}, axis=1, inplace=True)'%dataset)\n",
    "    display(eval('filtered_smiles_constant_species_%s.head()'%dataset))"
   ]
  },
  {
   "cell_type": "markdown",
   "metadata": {},
   "source": [
    "# Organic/inorganic split"
   ]
  },
  {
   "cell_type": "code",
   "execution_count": 99,
   "metadata": {
    "ExecuteTime": {
     "end_time": "2020-01-26T18:55:32.203396Z",
     "start_time": "2020-01-26T18:55:30.724465Z"
    }
   },
   "outputs": [],
   "source": [
    "for dataset in ['VPAS', 'noVPAS']:\n",
    "    exec('carbons_list_%s = [] ; no_carbons_list_%s = []'%(dataset, dataset))\n",
    "    for i in range(0, len(eval('filtered_smiles_constant_species_%s'%dataset))):\n",
    "        smiles = eval('filtered_smiles_constant_species_%s.SMILES.iloc[i]'%dataset)\n",
    "        try:\n",
    "            mol = Chem.MolFromSmiles(smiles) # create rdkit mol object\n",
    "            smarts = Chem.MolToSmarts(mol) # use mol object to create SMARTS\n",
    "        except:\n",
    "            smarts = 'x' #mark failed species in the list\n",
    "        name = eval('filtered_smiles_constant_species_%s.index[i]'%dataset)\n",
    "        if type(smarts) == str:\n",
    "            if '#6' in smarts:\n",
    "                eval('carbons_list_%s.append(i)'%dataset) # RDKit SMARTS strings work by atomic number (hence carbon = #6)\n",
    "            else:\n",
    "                eval('no_carbons_list_%s.append(i)'%dataset) # append non-carbon-containing species to a seperate list"
   ]
  },
  {
   "cell_type": "code",
   "execution_count": 105,
   "metadata": {
    "ExecuteTime": {
     "end_time": "2020-01-26T18:57:43.606767Z",
     "start_time": "2020-01-26T18:57:43.599749Z"
    }
   },
   "outputs": [],
   "source": [
    "organics_VPAS = filtered_smiles_constant_species_VPAS.iloc[carbons_list_VPAS] # new df containing carbon compounds only\n",
    "organics_noVPAS = filtered_smiles_constant_species_noVPAS.iloc[carbons_list_noVPAS] # new df containing carbon compounds only"
   ]
  },
  {
   "cell_type": "markdown",
   "metadata": {},
   "source": [
    "# Removing metal-containing species"
   ]
  },
  {
   "cell_type": "code",
   "execution_count": 108,
   "metadata": {
    "ExecuteTime": {
     "end_time": "2020-01-26T19:03:34.693041Z",
     "start_time": "2020-01-26T19:03:33.210099Z"
    }
   },
   "outputs": [
    {
     "name": "stderr",
     "output_type": "stream",
     "text": [
      "C:\\Users\\jtd1g16\\AppData\\Local\\Continuum\\anaconda3\\lib\\site-packages\\pandas\\core\\frame.py:4117: SettingWithCopyWarning: \n",
      "A value is trying to be set on a copy of a slice from a DataFrame\n",
      "\n",
      "See the caveats in the documentation: http://pandas.pydata.org/pandas-docs/stable/user_guide/indexing.html#returning-a-view-versus-a-copy\n",
      "  errors=errors,\n"
     ]
    }
   ],
   "source": [
    "for dataset in ['VPAS', 'noVPAS']:\n",
    "    drop_list = []\n",
    "    # removing metals using list of common metals.\n",
    "    # aniline compound at beginnning contains (corrupted?) SMILES string full of tungsten.\n",
    "    metals_removal_list = [\"4,4',4''-methanetriyltris(N,N-diethylaniline)\", 'Hg', 'Se', 'As', 'Zn', 'Si', 'Na', 'Al', 'Pb', 'Sn']\n",
    "    for i in range(0, len(eval('organics_%s'%dataset))):\n",
    "        for metal in metals_removal_list:\n",
    "            if metal in eval('organics_%s.SMILES[i]'%dataset):\n",
    "                drop_list.append(eval('organics_%s.index[i]'%dataset))\n",
    "                #create drop list in loop, then remove all metal-containing species at once\n",
    "\n",
    "    eval('organics_%s.drop(labels=drop_list, inplace=True, axis=0)'%dataset)"
   ]
  },
  {
   "cell_type": "markdown",
   "metadata": {},
   "source": [
    "# Export organics as csv"
   ]
  },
  {
   "cell_type": "code",
   "execution_count": 111,
   "metadata": {
    "ExecuteTime": {
     "end_time": "2020-01-26T19:05:58.516433Z",
     "start_time": "2020-01-26T19:05:58.416168Z"
    }
   },
   "outputs": [],
   "source": [
    "organics_VPAS.to_csv('organics_constants_VPAS.csv')\n",
    "organics_noVPAS.to_csv('organics_constants_noVPAS.csv')"
   ]
  },
  {
   "cell_type": "markdown",
   "metadata": {},
   "source": [
    "# Create RDKit descriptors"
   ]
  },
  {
   "cell_type": "code",
   "execution_count": 114,
   "metadata": {
    "ExecuteTime": {
     "end_time": "2020-01-26T19:15:49.331266Z",
     "start_time": "2020-01-26T19:15:49.326254Z"
    }
   },
   "outputs": [],
   "source": [
    "def try_func(list_name, function, mol):\n",
    "    \"\"\"Tries function on an rdkit mol object; if function throws error then np.nan\n",
    "    is appended to the list - if the function succeeds then the output is appended\"\"\"\n",
    "    try:    \n",
    "        var = (function(mol))\n",
    "        list_name.append(var)\n",
    "    except:\n",
    "        list_name.append(np.nan)"
   ]
  },
  {
   "cell_type": "code",
   "execution_count": 115,
   "metadata": {
    "ExecuteTime": {
     "end_time": "2020-01-26T19:16:23.241425Z",
     "start_time": "2020-01-26T19:16:17.941334Z"
    }
   },
   "outputs": [
    {
     "name": "stderr",
     "output_type": "stream",
     "text": [
      "C:\\Users\\jtd1g16\\AppData\\Local\\Continuum\\anaconda3\\lib\\site-packages\\ipykernel_launcher.py:1: SettingWithCopyWarning: \n",
      "A value is trying to be set on a copy of a slice from a DataFrame.\n",
      "Try using .loc[row_indexer,col_indexer] = value instead\n",
      "\n",
      "See the caveats in the documentation: http://pandas.pydata.org/pandas-docs/stable/user_guide/indexing.html#returning-a-view-versus-a-copy\n",
      "  \"\"\"Entry point for launching an IPython kernel.\n"
     ]
    }
   ],
   "source": [
    "for dataset in ['VPAS', 'noVPAS']:\n",
    "    wt_list = [] ; logp_list = [] ; fraction_sp3_list = []\n",
    "    ali_homo_rings_list = [] ; ali_hetero_rings_list = [] \n",
    "    aro_homo_rings_list = [] ; aro_hetero_rings_list = []\n",
    "    amide_bonds_list = [] ; hba_list = [] ; hbd_list = []\n",
    "    tpsa_list = []\n",
    "\n",
    "    for i in range(0, len(eval('organics_%s'%dataset))):\n",
    "        exec('smiles = (organics_%s.SMILES[i])'%dataset)\n",
    "        try:\n",
    "            mol = Chem.AddHs(Chem.MolFromSmiles(smiles))\n",
    "        except Exception as e:\n",
    "            pass\n",
    "\n",
    "\n",
    "        if type(mol) != str and type(mol) != None:\n",
    "            try_func(wt_list, descriptor.CalcExactMolWt, mol)\n",
    "            try_func(logp_list, Crippen.MolLogP, mol)\n",
    "            try_func(fraction_sp3_list, descriptor.CalcFractionCSP3, mol)\n",
    "            try_func(ali_homo_rings_list, descriptor.CalcNumAliphaticCarbocycles, mol)\n",
    "            try_func(ali_hetero_rings_list, descriptor.CalcNumAliphaticHeterocycles, mol)\n",
    "            try_func(aro_homo_rings_list, descriptor.CalcNumAromaticCarbocycles, mol)\n",
    "            try_func(aro_hetero_rings_list, descriptor.CalcNumAromaticHeterocycles, mol)\n",
    "            try_func(amide_bonds_list, descriptor.CalcNumAmideBonds, mol)\n",
    "            try_func(hba_list, descriptor.CalcNumHBA, mol)\n",
    "            try_func(hbd_list, descriptor.CalcNumHBD, mol)\n",
    "            try_func(tpsa_list, descriptor.CalcTPSA, mol)\n",
    "\n",
    "    exec(\"organics_%s['wt'] = wt_list\"%dataset)\n",
    "    exec(\"organics_%s['logp'] = logp_list\"%dataset)\n",
    "    exec(\"organics_%s['fraction_sp3'] = fraction_sp3_list\"%dataset)\n",
    "    exec(\"organics_%s['ali_homo_rings'] = ali_homo_rings_list\"%dataset)\n",
    "    exec(\"organics_%s['ali_hetero_rings'] = ali_hetero_rings_list\"%dataset)\n",
    "    exec(\"organics_%s['amide_bonds'] = amide_bonds_list\"%dataset)\n",
    "    exec(\"organics_%s['aro_homo_rings'] = aro_homo_rings_list\"%dataset)\n",
    "    exec(\"organics_%s['aro_hetero_rings'] = aro_hetero_rings_list\"%dataset)\n",
    "    exec(\"organics_%s['hba'] = hba_list\"%dataset)\n",
    "    exec(\"organics_%s['hbd'] = hbd_list\"%dataset)\n",
    "    exec(\"organics_%s['tpsa'] = tpsa_list\"%dataset)"
   ]
  },
  {
   "cell_type": "code",
   "execution_count": 123,
   "metadata": {
    "ExecuteTime": {
     "end_time": "2020-01-26T19:30:12.521278Z",
     "start_time": "2020-01-26T19:26:26.325879Z"
    }
   },
   "outputs": [
    {
     "data": {
      "application/vnd.jupyter.widget-view+json": {
       "model_id": "ce06b64c21754cc99e85be5640107ab8",
       "version_major": 2,
       "version_minor": 0
      },
      "text/plain": [
       "IntProgress(value=0, description='Progress', max=2196)"
      ]
     },
     "metadata": {},
     "output_type": "display_data"
    },
    {
     "name": "stderr",
     "output_type": "stream",
     "text": [
      "C:\\Users\\jtd1g16\\AppData\\Local\\Continuum\\anaconda3\\lib\\site-packages\\ipykernel_launcher.py:1: SettingWithCopyWarning: \n",
      "A value is trying to be set on a copy of a slice from a DataFrame.\n",
      "Try using .loc[row_indexer,col_indexer] = value instead\n",
      "\n",
      "See the caveats in the documentation: http://pandas.pydata.org/pandas-docs/stable/user_guide/indexing.html#returning-a-view-versus-a-copy\n",
      "  \"\"\"Entry point for launching an IPython kernel.\n"
     ]
    },
    {
     "data": {
      "application/vnd.jupyter.widget-view+json": {
       "model_id": "b302895951814ac2bf60eb619e1b6f6f",
       "version_major": 2,
       "version_minor": 0
      },
      "text/plain": [
       "IntProgress(value=0, description='Progress', max=1404)"
      ]
     },
     "metadata": {},
     "output_type": "display_data"
    }
   ],
   "source": [
    "for dataset in ['VPAS', 'noVPAS']:\n",
    "    asph_list = [] ; ecce_list = [] ; isf_list = [] ; npr1_list = [] ; npr2_list = [] \n",
    "    pmi1_list = [] ; pmi2_list = [] ; pmi3_list = [] ; rog_list = [] ; si_list = [] \n",
    "\n",
    "\n",
    "    max_count = len(eval('organics_%s'%dataset))\n",
    "    f = IntProgress(min=0, max=max_count, description='Progress') # instantiate the bar\n",
    "    display(f) # display the bar\n",
    "    count = 0\n",
    "\n",
    "\n",
    "    #Place this part inside the loop\n",
    "\n",
    "\n",
    "    from rdkit.Chem import Descriptors3D\n",
    "\n",
    "    for i in range(0, len(eval('organics_%s'%dataset))):\n",
    "        exec('smiles = (organics_%s.SMILES[i])'%dataset)\n",
    "        try:\n",
    "            mol = Chem.AddHs(Chem.MolFromSmiles(smiles))\n",
    "            AllChem.EmbedMolecule(mol) #embed to calc 3D descriptors\n",
    "            Chem.rdForceFieldHelpers.MMFFOptimizeMolecule(mol) #optimize\n",
    "        except Exception as e:\n",
    "            mol=None\n",
    "        try_func(asph_list, Descriptors3D.Asphericity, mol)\n",
    "        try_func(ecce_list, Descriptors3D.Eccentricity, mol)\n",
    "        try_func(isf_list, Descriptors3D.InertialShapeFactor, mol)\n",
    "        try_func(npr1_list, Descriptors3D.NPR1, mol)\n",
    "        try_func(npr2_list, Descriptors3D.NPR2, mol)\n",
    "        try_func(pmi1_list, Descriptors3D.PMI1, mol)\n",
    "        try_func(pmi2_list, Descriptors3D.PMI2, mol)\n",
    "        try_func(pmi3_list, Descriptors3D.PMI3, mol)\n",
    "        try_func(rog_list, Descriptors3D.RadiusOfGyration, mol)\n",
    "        try_func(si_list, Descriptors3D.SpherocityIndex, mol)\n",
    "        f.value += 1 # signal to increment the progress bar\n",
    "        count += 1\n",
    "\n",
    "    exec(\"organics_%s['asph'] = asph_list\"%dataset)\n",
    "    exec(\"organics_%s['ecce'] = ecce_list\"%dataset)\n",
    "    exec(\"organics_%s['isf'] = isf_list\"%dataset)\n",
    "    exec(\"organics_%s['npr1'] = npr1_list\"%dataset)\n",
    "    exec(\"organics_%s['npr2'] = npr2_list\"%dataset)\n",
    "    exec(\"organics_%s['pmi1'] = pmi1_list\"%dataset)\n",
    "    exec(\"organics_%s['pmi2'] = pmi2_list\"%dataset)\n",
    "    exec(\"organics_%s['pmi3'] = pmi3_list\"%dataset)\n",
    "    exec(\"organics_%s['rog'] = rog_list\"%dataset)\n",
    "    exec(\"organics_%s['si'] = si_list\"%dataset)"
   ]
  },
  {
   "cell_type": "code",
   "execution_count": 126,
   "metadata": {
    "ExecuteTime": {
     "end_time": "2020-01-26T21:42:10.480833Z",
     "start_time": "2020-01-26T21:42:10.163991Z"
    }
   },
   "outputs": [],
   "source": [
    "organics_VPAS.to_csv('rdkit_desc_VPAS.csv')\n",
    "organics_noVPAS.to_csv('rdkit_desc_noVPAS.csv')"
   ]
  }
 ],
 "metadata": {
  "kernelspec": {
   "display_name": "Python 3",
   "language": "python",
   "name": "python3"
  },
  "language_info": {
   "codemirror_mode": {
    "name": "ipython",
    "version": 3
   },
   "file_extension": ".py",
   "mimetype": "text/x-python",
   "name": "python",
   "nbconvert_exporter": "python",
   "pygments_lexer": "ipython3",
   "version": "3.7.3"
  },
  "toc": {
   "base_numbering": 1,
   "nav_menu": {},
   "number_sections": true,
   "sideBar": true,
   "skip_h1_title": false,
   "title_cell": "Table of Contents",
   "title_sidebar": "Contents",
   "toc_cell": false,
   "toc_position": {
    "height": "calc(100% - 180px)",
    "left": "10px",
    "top": "150px",
    "width": "248.188px"
   },
   "toc_section_display": true,
   "toc_window_display": false
  },
  "varInspector": {
   "cols": {
    "lenName": 16,
    "lenType": 16,
    "lenVar": 40
   },
   "kernels_config": {
    "python": {
     "delete_cmd_postfix": "",
     "delete_cmd_prefix": "del ",
     "library": "var_list.py",
     "varRefreshCmd": "print(var_dic_list())"
    },
    "r": {
     "delete_cmd_postfix": ") ",
     "delete_cmd_prefix": "rm(",
     "library": "var_list.r",
     "varRefreshCmd": "cat(var_dic_list()) "
    }
   },
   "types_to_exclude": [
    "module",
    "function",
    "builtin_function_or_method",
    "instance",
    "_Feature"
   ],
   "window_display": false
  }
 },
 "nbformat": 4,
 "nbformat_minor": 4
}
