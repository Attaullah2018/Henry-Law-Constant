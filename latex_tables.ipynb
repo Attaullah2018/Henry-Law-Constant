{
 "cells": [
  {
   "cell_type": "markdown",
   "metadata": {},
   "source": [
    "# `tably.py` [link](https://github.com/narimiran/tably)"
   ]
  },
  {
   "cell_type": "code",
   "execution_count": 1,
   "metadata": {
    "ExecuteTime": {
     "end_time": "2020-01-30T16:09:30.968959Z",
     "start_time": "2020-01-30T16:09:30.965950Z"
    }
   },
   "outputs": [],
   "source": [
    "import os"
   ]
  },
  {
   "cell_type": "code",
   "execution_count": 16,
   "metadata": {
    "ExecuteTime": {
     "end_time": "2020-01-30T16:24:25.943935Z",
     "start_time": "2020-01-30T16:24:23.044159Z"
    }
   },
   "outputs": [
    {
     "name": "stdout",
     "output_type": "stream",
     "text": [
      "by dataset scoresing data\n",
      "!python diss_scores/tably.py -c by dataset scoresing data diss_scores/Average_scores_by_dataset.csv \n",
      "by feature type scoresing data\n",
      "!python diss_scores/tably.py -c by feature type scoresing data diss_scores/Average_scores_by_feature_type.csv \n",
      "by model type scoresing data\n",
      "!python diss_scores/tably.py -c by model type scoresing data diss_scores/Average_scores_by_model_type.csv \n",
      "PCA DRAGON noVPAS PCA data\n",
      "!python diss_scores/tably.py -c PCA DRAGON noVPAS PCA data diss_scores/av_PCA_PCA_DRAGON_noVPAS.csv \n",
      "PCA DRAGON VPAS PCA data\n",
      "!python diss_scores/tably.py -c PCA DRAGON VPAS PCA data diss_scores/av_PCA_PCA_DRAGON_VPAS.csv \n",
      "DRAGON noVPAS testing data\n",
      "!python diss_scores/tably.py -c DRAGON noVPAS testing data diss_scores/av_test_DRAGON_noVPAS.csv \n",
      "DRAGON VPAS testing data\n",
      "!python diss_scores/tably.py -c DRAGON VPAS testing data diss_scores/av_test_DRAGON_VPAS.csv \n",
      "RDKit noVPAS testing data\n",
      "!python diss_scores/tably.py -c RDKit noVPAS testing data diss_scores/av_test_RDKit_noVPAS.csv \n",
      "RDKit VPAS testing data\n",
      "!python diss_scores/tably.py -c RDKit VPAS testing data diss_scores/av_test_RDKit_VPAS.csv \n",
      "DRAGON noVPAS training data\n",
      "!python diss_scores/tably.py -c DRAGON noVPAS training data diss_scores/av_train_DRAGON_noVPAS.csv \n",
      "DRAGON VPAS training data\n",
      "!python diss_scores/tably.py -c DRAGON VPAS training data diss_scores/av_train_DRAGON_VPAS.csv \n",
      "RDKit noVPAS training data\n",
      "!python diss_scores/tably.py -c RDKit noVPAS training data diss_scores/av_train_RDKit_noVPAS.csv \n",
      "RDKit VPAS training data\n",
      "!python diss_scores/tably.py -c RDKit VPAS training data diss_scores/av_train_RDKit_VPAS.csv \n"
     ]
    }
   ],
   "source": [
    "for file in os.listdir('diss_scores/'):\n",
    "    if '.csv' in file:\n",
    "        path = str('diss_scores/%s'%file)\n",
    "        name = file.split(sep='.')[0]\n",
    "        \n",
    "        space=' '\n",
    "        if 'PCA' in file:\n",
    "            dataset = str(space.join(name.split(sep='_')[2:]) +\" \"+ name.split(sep='_')[1] +\" data\")\n",
    "        if not 'PCA' in file:\n",
    "            dataset = str(space.join(name.split(sep='_')[2:]) +\" \"+ name.split(sep='_')[1] +\"ing data\")\n",
    "        print(dataset)\n",
    "        print('!python diss_scores/tably.py -c %s %s '%(dataset, path))\n",
    "        !python diss_scores/tably.py -c \"{dataset}\" {path} >> diss_scores/appendix.tex"
   ]
  },
  {
   "cell_type": "code",
   "execution_count": 22,
   "metadata": {
    "ExecuteTime": {
     "end_time": "2020-01-30T16:37:43.649215Z",
     "start_time": "2020-01-30T16:37:42.691107Z"
    },
    "scrolled": true
   },
   "outputs": [
    {
     "name": "stdout",
     "output_type": "stream",
     "text": [
      "Average_scores_by_dataset.csv \n",
      " diss_scores/Average_scores_by_dataset.csv \n",
      " Average_scores_by_dataset \n",
      "\n",
      "\n",
      "Average_scores_by_feature_type.csv \n",
      " diss_scores/Average_scores_by_feature_type.csv \n",
      " Average_scores_by_feature_type \n",
      "\n",
      "\n",
      "Average_scores_by_model_type.csv \n",
      " diss_scores/Average_scores_by_model_type.csv \n",
      " Average_scores_by_model_type \n",
      "\n",
      "\n"
     ]
    }
   ],
   "source": [
    "for file in os.listdir('diss_scores/'):\n",
    "    if file.startswith('Average'):\n",
    "        path = str('diss_scores/%s'%file)\n",
    "        name = file.split(sep='.')[0]\n",
    "        caption = ' '.join(name.split(sep='_'))\n",
    "        label = '_'.join(name.split(sep='_')[1:])\n",
    "        print(file, '\\n', path, '\\n', name, \"\\n\\n\")\n",
    "        !python diss_scores/tably.py -c \"{caption}\" -l \"tab:{label}\" {path} >> diss_scores/mass_averages.tex"
   ]
  }
 ],
 "metadata": {
  "kernelspec": {
   "display_name": "Python 3",
   "language": "python",
   "name": "python3"
  },
  "language_info": {
   "codemirror_mode": {
    "name": "ipython",
    "version": 3
   },
   "file_extension": ".py",
   "mimetype": "text/x-python",
   "name": "python",
   "nbconvert_exporter": "python",
   "pygments_lexer": "ipython3",
   "version": "3.7.3"
  },
  "toc": {
   "base_numbering": 1,
   "nav_menu": {},
   "number_sections": true,
   "sideBar": true,
   "skip_h1_title": false,
   "title_cell": "Table of Contents",
   "title_sidebar": "Contents",
   "toc_cell": false,
   "toc_position": {},
   "toc_section_display": true,
   "toc_window_display": false
  },
  "varInspector": {
   "cols": {
    "lenName": 16,
    "lenType": 16,
    "lenVar": 40
   },
   "kernels_config": {
    "python": {
     "delete_cmd_postfix": "",
     "delete_cmd_prefix": "del ",
     "library": "var_list.py",
     "varRefreshCmd": "print(var_dic_list())"
    },
    "r": {
     "delete_cmd_postfix": ") ",
     "delete_cmd_prefix": "rm(",
     "library": "var_list.r",
     "varRefreshCmd": "cat(var_dic_list()) "
    }
   },
   "types_to_exclude": [
    "module",
    "function",
    "builtin_function_or_method",
    "instance",
    "_Feature"
   ],
   "window_display": false
  }
 },
 "nbformat": 4,
 "nbformat_minor": 2
}
