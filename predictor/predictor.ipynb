{
 "cells": [
  {
   "cell_type": "code",
   "execution_count": 1,
   "metadata": {
    "ExecuteTime": {
     "end_time": "2020-02-01T22:39:52.233873Z",
     "start_time": "2020-02-01T22:39:45.695509Z"
    }
   },
   "outputs": [],
   "source": [
    "import joblib\n",
    "import numpy as np\n",
    "import pandas as pd\n",
    "import os\n",
    "import matplotlib.pyplot as plt\n",
    "from ipywidgets import widgets, IntProgress\n",
    "from IPython.display import display\n",
    "\n",
    "\n",
    "from rdkit import Chem\n",
    "from rdkit.Chem import Draw, Crippen, AllChem, Descriptors3D\n",
    "from rdkit.Chem import rdMolDescriptors as descriptor"
   ]
  },
  {
   "cell_type": "code",
   "execution_count": 2,
   "metadata": {
    "ExecuteTime": {
     "end_time": "2020-02-01T22:39:52.464099Z",
     "start_time": "2020-02-01T22:39:52.235824Z"
    }
   },
   "outputs": [
    {
     "name": "stdout",
     "output_type": "stream",
     "text": [
      "X_test_main.csv\n",
      "X_train_main.csv\n",
      "final_model.joblib\n",
      "final_model_importances.joblib\n",
      "predictor.ipynb\n",
      "y_test.csv\n",
      "y_train.csv\n"
     ]
    }
   ],
   "source": [
    "!ls"
   ]
  },
  {
   "cell_type": "code",
   "execution_count": 3,
   "metadata": {
    "ExecuteTime": {
     "end_time": "2020-02-01T22:39:53.305158Z",
     "start_time": "2020-02-01T22:39:52.468111Z"
    }
   },
   "outputs": [],
   "source": [
    "model = joblib.load('final_model.joblib')\n",
    "features = joblib.load('final_model_importances.joblib')\n",
    "X_test = pd.read_csv('X_test_main.csv')\n",
    "X_train = pd.read_csv('X_train_main.csv')\n",
    "y_test = pd.read_csv('y_test.csv')\n",
    "y_train = pd.read_csv('y_train.csv')"
   ]
  },
  {
   "cell_type": "code",
   "execution_count": 4,
   "metadata": {
    "ExecuteTime": {
     "end_time": "2020-02-01T22:39:53.324714Z",
     "start_time": "2020-02-01T22:39:53.307670Z"
    }
   },
   "outputs": [
    {
     "data": {
      "text/plain": [
       "['wt',\n",
       " 'logp',\n",
       " 'fraction_sp3',\n",
       " 'ali_homo_rings',\n",
       " 'ali_hetero_rings',\n",
       " 'amide_bonds',\n",
       " 'aro_homo_rings',\n",
       " 'aro_hetero_rings',\n",
       " 'hba',\n",
       " 'hbd',\n",
       " 'tpsa',\n",
       " 'asph',\n",
       " 'ecce',\n",
       " 'isf',\n",
       " 'npr1']"
      ]
     },
     "execution_count": 4,
     "metadata": {},
     "output_type": "execute_result"
    }
   ],
   "source": [
    "list(features.index.values)[:15]"
   ]
  },
  {
   "cell_type": "code",
   "execution_count": 5,
   "metadata": {
    "ExecuteTime": {
     "end_time": "2020-02-01T22:39:53.652539Z",
     "start_time": "2020-02-01T22:39:53.328726Z"
    }
   },
   "outputs": [],
   "source": [
    "smiles = 'CC(N)C(=O)CCc1cccc(O)c1'\n",
    "mol = Chem.AddHs(Chem.MolFromSmiles(smiles))\n",
    "wt = descriptor.CalcExactMolWt(mol)\n",
    "logp = Crippen.MolLogP(mol)\n",
    "ali_homo_rings = descriptor.CalcNumAliphaticCarbocycles(mol)\n",
    "ali_hetero_rings = descriptor.CalcNumAliphaticHeterocycles(mol)\n",
    "amide_bonds = descriptor.CalcNumAmideBonds(mol)\n",
    "aro_homo_rings = descriptor.CalcNumAromaticCarbocycles(mol)\n",
    "aro_hetero_rings = descriptor.CalcNumAromaticHeterocycles(mol)\n",
    "hba = descriptor.CalcNumHBA(mol)\n",
    "hbd = descriptor.CalcNumHBD(mol)\n",
    "tpsa = descriptor.CalcTPSA(mol)\n",
    "\n",
    "AllChem.EmbedMolecule(mol)\n",
    "Chem.rdForceFieldHelpers.MMFFOptimizeMolecule(mol)\n",
    "asph = Descriptors3D.Asphericity(mol)\n",
    "ecce = Descriptors3D.Eccentricity(mol)\n",
    "isf = Descriptors3D.InertialShapeFactor(mol)\n",
    "npr1 = Descriptors3D.NPR1(mol)"
   ]
  },
  {
   "cell_type": "code",
   "execution_count": 65,
   "metadata": {
    "ExecuteTime": {
     "end_time": "2020-02-01T23:09:33.166513Z",
     "start_time": "2020-02-01T23:09:33.162502Z"
    }
   },
   "outputs": [],
   "source": [
    "def draw(smiles, Size):\n",
    "    m = Chem.MolFromSmiles(smiles)\n",
    "    Draw.MolToMPL(m, size = (Size, Size))"
   ]
  },
  {
   "cell_type": "code",
   "execution_count": 67,
   "metadata": {
    "ExecuteTime": {
     "end_time": "2020-02-01T23:09:45.786755Z",
     "start_time": "2020-02-01T23:09:45.541101Z"
    }
   },
   "outputs": [
    {
     "data": {
      "application/vnd.jupyter.widget-view+json": {
       "model_id": "2fea71ffc29c43b68df81039779d5a91",
       "version_major": 2,
       "version_minor": 0
      },
      "text/plain": [
       "interactive(children=(Text(value='CC1=C(C=C(C=C1[N+](=O)[O-])[N+](=O)[O-])[N+](=O)[O-]', description='smiles')…"
      ]
     },
     "metadata": {},
     "output_type": "display_data"
    },
    {
     "data": {
      "text/plain": [
       "<function __main__.draw(smiles, Size)>"
      ]
     },
     "execution_count": 67,
     "metadata": {},
     "output_type": "execute_result"
    }
   ],
   "source": [
    "widgets.interact(draw, Size=100, smiles='CC1=C(C=C(C=C1[N+](=O)[O-])[N+](=O)[O-])[N+](=O)[O-]')"
   ]
  },
  {
   "cell_type": "code",
   "execution_count": 59,
   "metadata": {
    "ExecuteTime": {
     "end_time": "2020-02-01T23:07:27.019889Z",
     "start_time": "2020-02-01T23:07:27.009861Z"
    }
   },
   "outputs": [],
   "source": [
    "def predict(SMILES):\n",
    "    m = Chem.MolFromSmiles(SMILES)\n",
    "    Draw.MolToMPL(m, size=(100, 100))\n",
    "    \n",
    "    mol = Chem.AddHs(m)\n",
    "    \n",
    "    wt = descriptor.CalcExactMolWt(mol)\n",
    "    logp = Crippen.MolLogP(mol)\n",
    "    ali_homo_rings = descriptor.CalcNumAliphaticCarbocycles(mol)\n",
    "    ali_hetero_rings = descriptor.CalcNumAliphaticHeterocycles(mol)\n",
    "    amide_bonds = descriptor.CalcNumAmideBonds(mol)\n",
    "    aro_homo_rings = descriptor.CalcNumAromaticCarbocycles(mol)\n",
    "    aro_hetero_rings = descriptor.CalcNumAromaticHeterocycles(mol)\n",
    "    hba = descriptor.CalcNumHBA(mol)\n",
    "    hbd = descriptor.CalcNumHBD(mol)\n",
    "    tpsa = descriptor.CalcTPSA(mol)\n",
    "    fraction_sp3 = descriptor.CalcFractionCSP3(mol)\n",
    "\n",
    "    AllChem.EmbedMolecule(mol)\n",
    "    Chem.rdForceFieldHelpers.MMFFOptimizeMolecule(mol)\n",
    "    asph = Descriptors3D.Asphericity(mol)\n",
    "    ecce = Descriptors3D.Eccentricity(mol)\n",
    "    isf = Descriptors3D.InertialShapeFactor(mol)\n",
    "    npr1 = Descriptors3D.NPR1(mol)\n",
    "    features = np.array([wt, logp, ali_homo_rings, ali_hetero_rings,\n",
    "                   amide_bonds, aro_homo_rings, aro_hetero_rings, \n",
    "                   hba, hbd, tpsa, fraction_sp3, asph, ecce, isf, npr1]).reshape(1, -1)\n",
    "    print(\"Predicted HLC:\\t\", model.predict(features)[0])"
   ]
  },
  {
   "cell_type": "code",
   "execution_count": 60,
   "metadata": {
    "ExecuteTime": {
     "end_time": "2020-02-01T23:07:29.597235Z",
     "start_time": "2020-02-01T23:07:29.381666Z"
    }
   },
   "outputs": [
    {
     "data": {
      "application/vnd.jupyter.widget-view+json": {
       "model_id": "d8531617f86a4a18bc8a2e0fe9659299",
       "version_major": 2,
       "version_minor": 0
      },
      "text/plain": [
       "interactive(children=(Text(value='CC1=C(C=C(C=C1[N+](=O)[O-])[N+](=O)[O-])[N+](=O)[O-]', description='SMILES')…"
      ]
     },
     "metadata": {},
     "output_type": "display_data"
    },
    {
     "data": {
      "text/plain": [
       "<function __main__.predict(SMILES)>"
      ]
     },
     "execution_count": 60,
     "metadata": {},
     "output_type": "execute_result"
    }
   ],
   "source": [
    "widgets.interact(predict, SMILES='CC1=C(C=C(C=C1[N+](=O)[O-])[N+](=O)[O-])[N+](=O)[O-]')"
   ]
  },
  {
   "cell_type": "code",
   "execution_count": 37,
   "metadata": {
    "ExecuteTime": {
     "end_time": "2020-02-01T22:52:53.948817Z",
     "start_time": "2020-02-01T22:52:53.943797Z"
    }
   },
   "outputs": [
    {
     "data": {
      "text/plain": [
       "function"
      ]
     },
     "execution_count": 37,
     "metadata": {},
     "output_type": "execute_result"
    }
   ],
   "source": [
    "type(mol)"
   ]
  }
 ],
 "metadata": {
  "kernelspec": {
   "display_name": "Python 3",
   "language": "python",
   "name": "python3"
  },
  "language_info": {
   "codemirror_mode": {
    "name": "ipython",
    "version": 3
   },
   "file_extension": ".py",
   "mimetype": "text/x-python",
   "name": "python",
   "nbconvert_exporter": "python",
   "pygments_lexer": "ipython3",
   "version": "3.7.3"
  },
  "toc": {
   "base_numbering": 1,
   "nav_menu": {},
   "number_sections": true,
   "sideBar": true,
   "skip_h1_title": false,
   "title_cell": "Table of Contents",
   "title_sidebar": "Contents",
   "toc_cell": false,
   "toc_position": {},
   "toc_section_display": true,
   "toc_window_display": false
  },
  "varInspector": {
   "cols": {
    "lenName": 16,
    "lenType": 16,
    "lenVar": 40
   },
   "kernels_config": {
    "python": {
     "delete_cmd_postfix": "",
     "delete_cmd_prefix": "del ",
     "library": "var_list.py",
     "varRefreshCmd": "print(var_dic_list())"
    },
    "r": {
     "delete_cmd_postfix": ") ",
     "delete_cmd_prefix": "rm(",
     "library": "var_list.r",
     "varRefreshCmd": "cat(var_dic_list()) "
    }
   },
   "types_to_exclude": [
    "module",
    "function",
    "builtin_function_or_method",
    "instance",
    "_Feature"
   ],
   "window_display": false
  }
 },
 "nbformat": 4,
 "nbformat_minor": 2
}
