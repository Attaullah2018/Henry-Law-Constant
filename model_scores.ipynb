{
 "cells": [
  {
   "cell_type": "code",
   "execution_count": 1,
   "metadata": {
    "ExecuteTime": {
     "end_time": "2020-01-30T18:10:32.245537Z",
     "start_time": "2020-01-30T18:10:25.858872Z"
    }
   },
   "outputs": [],
   "source": [
    "import os\n",
    "import numpy as np\n",
    "import pandas as pd"
   ]
  },
  {
   "cell_type": "code",
   "execution_count": 2,
   "metadata": {
    "ExecuteTime": {
     "end_time": "2020-01-30T18:10:32.307804Z",
     "start_time": "2020-01-30T18:10:32.248548Z"
    }
   },
   "outputs": [],
   "source": [
    "dataset_list = []\n",
    "for file in os.listdir('scores/'):\n",
    "    path = 'scores/' + file\n",
    "    name = file.split(sep='.')[0]\n",
    "    dataset = '_'.join(name.split(sep='_')[2:])\n",
    "    if not dataset in dataset_list:\n",
    "        dataset_list.append(dataset)\n",
    "    if \".csv\" in file:\n",
    "        df = pd.read_csv(path)\n",
    "        df.rename({'Unnamed: 0': 'Model Type'}, inplace=True, axis=1)\n",
    "        df.set_index('Model Type', inplace=True)\n",
    "        if 'train' in file:\n",
    "            #display(name, df.mean(axis=1))\n",
    "            exec('%s_train_av_per_model = df.mean(axis=1)'%dataset)\n",
    "            exec('%s_train_av_per_feature = df.mean(axis=0)'%dataset)\n",
    "            exec('%s_train_overall_av_score = df.mean(axis=1).mean()'%dataset)\n",
    "        if 'test' in file:\n",
    "            #display(name, df.mean(axis=1))\n",
    "            exec('%s_test_av_per_model = df.mean(axis=1)'%dataset)\n",
    "            exec('%s_test_av_per_feature = df.mean(axis=0)'%dataset)\n",
    "            exec('%s_test_overall_av_score = df.mean(axis=1).mean()'%dataset)"
   ]
  },
  {
   "cell_type": "code",
   "execution_count": 3,
   "metadata": {
    "ExecuteTime": {
     "end_time": "2020-01-30T18:10:32.499236Z",
     "start_time": "2020-01-30T18:10:32.310716Z"
    }
   },
   "outputs": [
    {
     "data": {
      "text/html": [
       "<div>\n",
       "<style scoped>\n",
       "    .dataframe tbody tr th:only-of-type {\n",
       "        vertical-align: middle;\n",
       "    }\n",
       "\n",
       "    .dataframe tbody tr th {\n",
       "        vertical-align: top;\n",
       "    }\n",
       "\n",
       "    .dataframe thead th {\n",
       "        text-align: right;\n",
       "    }\n",
       "</style>\n",
       "<table border=\"1\" class=\"dataframe\">\n",
       "  <thead>\n",
       "    <tr style=\"text-align: right;\">\n",
       "      <th></th>\n",
       "      <th>Model</th>\n",
       "      <th>F-regression</th>\n",
       "      <th>Mutual Information</th>\n",
       "      <th>Lasso</th>\n",
       "    </tr>\n",
       "  </thead>\n",
       "  <tbody>\n",
       "    <tr>\n",
       "      <th>Train</th>\n",
       "      <td>0.849</td>\n",
       "      <td>0.839</td>\n",
       "      <td>0.828</td>\n",
       "      <td>0.807</td>\n",
       "    </tr>\n",
       "    <tr>\n",
       "      <th>Test</th>\n",
       "      <td>0.760</td>\n",
       "      <td>0.747</td>\n",
       "      <td>0.731</td>\n",
       "      <td>0.696</td>\n",
       "    </tr>\n",
       "  </tbody>\n",
       "</table>\n",
       "</div>"
      ],
      "text/plain": [
       "       Model  F-regression  Mutual Information  Lasso\n",
       "Train  0.849         0.839               0.828  0.807\n",
       "Test   0.760         0.747               0.731  0.696"
      ]
     },
     "metadata": {},
     "output_type": "display_data"
    }
   ],
   "source": [
    "DRAGON_feature_av_df_train = pd.concat([DRAGON_noVPAS_train_av_per_feature, \n",
    "                                 DRAGON_VPAS_train_av_per_feature], \n",
    "                                       axis=1, \n",
    "                                       keys=['noVPAS', 'VPAS'])\n",
    "RDKit_feature_av_df_train = pd.concat([RDKit_noVPAS_train_av_per_feature,\n",
    "                                       RDKit_VPAS_train_av_per_feature], \n",
    "                                      axis=1, \n",
    "                                      keys=['noVPAS', 'VPAS'])\n",
    "final_feature_train_av_df = pd.concat([DRAGON_feature_av_df_train, RDKit_feature_av_df_train],\n",
    "                               axis=1,\n",
    "                               keys=['DRAGON', 'RDkit'])\n",
    "#display(final_feature_train_av_df)\n",
    "\n",
    "DRAGON_feature_av_df_test = pd.concat([DRAGON_noVPAS_test_av_per_feature, \n",
    "                                 DRAGON_VPAS_test_av_per_feature], \n",
    "                                       axis=1, \n",
    "                                       keys=['noVPAS', 'VPAS'])\n",
    "RDKit_feature_av_df_test = pd.concat([RDKit_noVPAS_test_av_per_feature,\n",
    "                                       RDKit_VPAS_test_av_per_feature], \n",
    "                                      axis=1, \n",
    "                                      keys=['noVPAS', 'VPAS'])\n",
    "final_feature_test_av_df = pd.concat([DRAGON_feature_av_df_test, RDKit_feature_av_df_test],\n",
    "                               axis=1,\n",
    "                               keys=['DRAGON', 'RDkit'])\n",
    "#display(final_feature_test_av_df)\n",
    "\n",
    "export_feature_aves = pd.concat([final_feature_train_av_df.mean(axis=1), final_feature_test_av_df.mean(axis=1)],\n",
    "                               axis=1,\n",
    "                               keys=['Train', 'Test'])\n",
    "export_feature_aves.round(3).transpose().to_csv('diss_scores/Average_scores_by_feature_type.csv')\n",
    "display(export_feature_aves.round(3).transpose())"
   ]
  },
  {
   "cell_type": "code",
   "execution_count": 4,
   "metadata": {
    "ExecuteTime": {
     "end_time": "2020-01-30T18:10:32.719357Z",
     "start_time": "2020-01-30T18:10:32.502209Z"
    }
   },
   "outputs": [
    {
     "data": {
      "text/html": [
       "<div>\n",
       "<style scoped>\n",
       "    .dataframe tbody tr th:only-of-type {\n",
       "        vertical-align: middle;\n",
       "    }\n",
       "\n",
       "    .dataframe tbody tr th {\n",
       "        vertical-align: top;\n",
       "    }\n",
       "\n",
       "    .dataframe thead th {\n",
       "        text-align: right;\n",
       "    }\n",
       "</style>\n",
       "<table border=\"1\" class=\"dataframe\">\n",
       "  <thead>\n",
       "    <tr style=\"text-align: right;\">\n",
       "      <th></th>\n",
       "      <th>Train</th>\n",
       "      <th>Test</th>\n",
       "    </tr>\n",
       "    <tr>\n",
       "      <th>Model Type</th>\n",
       "      <th></th>\n",
       "      <th></th>\n",
       "    </tr>\n",
       "  </thead>\n",
       "  <tbody>\n",
       "    <tr>\n",
       "      <th>GradientBoostingRegressor</th>\n",
       "      <td>0.943</td>\n",
       "      <td>0.802</td>\n",
       "    </tr>\n",
       "    <tr>\n",
       "      <th>DecisionTreeRegressor</th>\n",
       "      <td>0.858</td>\n",
       "      <td>0.717</td>\n",
       "    </tr>\n",
       "    <tr>\n",
       "      <th>ElasticNet</th>\n",
       "      <td>0.700</td>\n",
       "      <td>0.683</td>\n",
       "    </tr>\n",
       "    <tr>\n",
       "      <th>AdaBoostRegressor</th>\n",
       "      <td>0.994</td>\n",
       "      <td>0.798</td>\n",
       "    </tr>\n",
       "    <tr>\n",
       "      <th>Lars</th>\n",
       "      <td>0.661</td>\n",
       "      <td>0.650</td>\n",
       "    </tr>\n",
       "    <tr>\n",
       "      <th>Lasso</th>\n",
       "      <td>0.703</td>\n",
       "      <td>0.686</td>\n",
       "    </tr>\n",
       "    <tr>\n",
       "      <th>RandomForestRegressor</th>\n",
       "      <td>0.957</td>\n",
       "      <td>0.798</td>\n",
       "    </tr>\n",
       "  </tbody>\n",
       "</table>\n",
       "</div>"
      ],
      "text/plain": [
       "                           Train   Test\n",
       "Model Type                             \n",
       "GradientBoostingRegressor  0.943  0.802\n",
       "DecisionTreeRegressor      0.858  0.717\n",
       "ElasticNet                 0.700  0.683\n",
       "AdaBoostRegressor          0.994  0.798\n",
       "Lars                       0.661  0.650\n",
       "Lasso                      0.703  0.686\n",
       "RandomForestRegressor      0.957  0.798"
      ]
     },
     "metadata": {},
     "output_type": "display_data"
    }
   ],
   "source": [
    "DRAGON_model_av_df_train = pd.concat([DRAGON_noVPAS_train_av_per_model, \n",
    "                                 DRAGON_VPAS_train_av_per_model], \n",
    "                                       axis=1, \n",
    "                                       keys=['noVPAS', 'VPAS'])\n",
    "RDKit_model_av_df_train = pd.concat([RDKit_noVPAS_train_av_per_model,\n",
    "                                       RDKit_VPAS_train_av_per_model], \n",
    "                                      axis=1, \n",
    "                                      keys=['noVPAS', 'VPAS'])\n",
    "final_model_train_av_df = pd.concat([DRAGON_model_av_df_train, RDKit_model_av_df_train],\n",
    "                               axis=1,\n",
    "                               keys=['DRAGON', 'RDkit'])\n",
    "#display(final_model_train_av_df)\n",
    "\n",
    "DRAGON_model_av_df_test = pd.concat([DRAGON_noVPAS_test_av_per_model, \n",
    "                                 DRAGON_VPAS_test_av_per_model], \n",
    "                                       axis=1, \n",
    "                                       keys=['noVPAS', 'VPAS'])\n",
    "RDKit_model_av_df_test = pd.concat([RDKit_noVPAS_test_av_per_model,\n",
    "                                       RDKit_VPAS_test_av_per_model], \n",
    "                                      axis=1, \n",
    "                                      keys=['noVPAS', 'VPAS'])\n",
    "final_model_test_av_df = pd.concat([DRAGON_model_av_df_test, RDKit_model_av_df_test],\n",
    "                               axis=1,\n",
    "                               keys=['DRAGON', 'RDkit'])\n",
    "#display(final_model_test_av_df)\n",
    "\n",
    "export_model_aves = pd.concat([final_model_train_av_df.mean(axis=1), final_model_test_av_df.mean(axis=1)],\n",
    "                               axis=1,\n",
    "                               keys=['Train', 'Test'])\n",
    "export_model_aves.round(3).to_csv('diss_scores/Average_scores_by_model_type.csv')\n",
    "display(export_model_aves.round(3))"
   ]
  },
  {
   "cell_type": "code",
   "execution_count": 5,
   "metadata": {
    "ExecuteTime": {
     "end_time": "2020-01-30T18:10:32.901224Z",
     "start_time": "2020-01-30T18:10:32.723366Z"
    }
   },
   "outputs": [
    {
     "data": {
      "text/html": [
       "<div>\n",
       "<style scoped>\n",
       "    .dataframe tbody tr th:only-of-type {\n",
       "        vertical-align: middle;\n",
       "    }\n",
       "\n",
       "    .dataframe tbody tr th {\n",
       "        vertical-align: top;\n",
       "    }\n",
       "\n",
       "    .dataframe thead th {\n",
       "        text-align: right;\n",
       "    }\n",
       "</style>\n",
       "<table border=\"1\" class=\"dataframe\">\n",
       "  <thead>\n",
       "    <tr style=\"text-align: right;\">\n",
       "      <th></th>\n",
       "      <th>Train</th>\n",
       "      <th>Test</th>\n",
       "    </tr>\n",
       "  </thead>\n",
       "  <tbody>\n",
       "    <tr>\n",
       "      <th>DRAGON_noVPAS</th>\n",
       "      <td>0.834345</td>\n",
       "      <td>0.748759</td>\n",
       "    </tr>\n",
       "    <tr>\n",
       "      <th>DRAGON_VPAS</th>\n",
       "      <td>0.837372</td>\n",
       "      <td>0.770040</td>\n",
       "    </tr>\n",
       "    <tr>\n",
       "      <th>PCA_DRAGON_noVPAS</th>\n",
       "      <td>0.859998</td>\n",
       "      <td>0.734908</td>\n",
       "    </tr>\n",
       "    <tr>\n",
       "      <th>PCA_DRAGON_VPAS</th>\n",
       "      <td>0.849068</td>\n",
       "      <td>0.746611</td>\n",
       "    </tr>\n",
       "    <tr>\n",
       "      <th>RDKit_noVPAS</th>\n",
       "      <td>0.839597</td>\n",
       "      <td>0.696139</td>\n",
       "    </tr>\n",
       "    <tr>\n",
       "      <th>RDKit_VPAS</th>\n",
       "      <td>0.811689</td>\n",
       "      <td>0.719035</td>\n",
       "    </tr>\n",
       "  </tbody>\n",
       "</table>\n",
       "</div>"
      ],
      "text/plain": [
       "                      Train      Test\n",
       "DRAGON_noVPAS      0.834345  0.748759\n",
       "DRAGON_VPAS        0.837372  0.770040\n",
       "PCA_DRAGON_noVPAS  0.859998  0.734908\n",
       "PCA_DRAGON_VPAS    0.849068  0.746611\n",
       "RDKit_noVPAS       0.839597  0.696139\n",
       "RDKit_VPAS         0.811689  0.719035"
      ]
     },
     "metadata": {},
     "output_type": "display_data"
    }
   ],
   "source": [
    "overall_test_av_list = []; overall_train_av_list = []\n",
    "for dataset in dataset_list:\n",
    "    for obj in dir():\n",
    "        if obj == \"%s_train_overall_av_score\"%dataset:\n",
    "            overall_train_av_list.append(eval(obj))\n",
    "        if obj == \"%s_test_overall_av_score\"%dataset:\n",
    "            overall_test_av_list.append(eval(obj))\n",
    "dataset_av_dict = {'Train':dict(zip(dataset_list, overall_train_av_list)),\n",
    "                  'Test':dict(zip(dataset_list, overall_test_av_list))}\n",
    "\n",
    "data_type_avs = pd.DataFrame.from_dict(dataset_av_dict)\n",
    "data_type_avs.round(3).to_csv('diss_scores/Average_scores_by_dataset.csv')\n",
    "display(data_type_avs)"
   ]
  },
  {
   "cell_type": "code",
   "execution_count": 6,
   "metadata": {
    "ExecuteTime": {
     "end_time": "2020-01-30T18:10:33.135130Z",
     "start_time": "2020-01-30T18:10:32.909248Z"
    }
   },
   "outputs": [],
   "source": [
    "max_train_score_list = []; max_test_score_list = []\n",
    "for file in os.listdir('scores/'):\n",
    "    if '.csv' in file:\n",
    "        if 'train' in file:\n",
    "            \n",
    "            df = pd.read_csv('scores/%s'%file)\n",
    "            df.rename({'Unnamed: 0': file.split(sep='.')[0][9:]}, axis=1, inplace=True)\n",
    "            df.set_index(file.split(sep='.')[0][9:], inplace=True)\n",
    "            array = np.array(df)\n",
    "            \n",
    "            max_av = (np.where(array == np.amax(array)))\n",
    "            row = max_av[0]\n",
    "            col = max_av[1]\n",
    "            top_train_model = (df.iloc[row, col].index.values[0])\n",
    "            top_train_data = (df.iloc[row, col].index.name)\n",
    "            top_train_features = (df.iloc[row, col].columns.values[0])\n",
    "            top_train_value = (df.iloc[row, col].values[0][0])\n",
    "            best_train = tuple([top_train_data, top_train_model, top_train_features, top_train_value])\n",
    "            exec('best_train_%s = best_train'%top_train_data)\n",
    "        if 'test' in file:\n",
    "            \n",
    "            df = pd.read_csv('scores/%s'%file)\n",
    "            df.rename({'Unnamed: 0': file.split(sep='.')[0][8:]}, axis=1, inplace=True)\n",
    "            df.set_index(file.split(sep='.')[0][8:], inplace=True)\n",
    "            array = np.array(df)\n",
    "            \n",
    "            max_av = (np.where(array == np.amax(array)))\n",
    "            row = max_av[0]\n",
    "            col = max_av[1]\n",
    "            top_test_model = (df.iloc[row, col].index.values[0])\n",
    "            top_test_data = (df.iloc[row, col].index.name)\n",
    "            top_test_features = (df.iloc[row, col].columns.values[0])\n",
    "            top_test_value = (df.iloc[row, col].values[0][0])\n",
    "            best_test = tuple([top_test_data, top_test_model, top_test_features, top_test_value])\n",
    "            exec('best_test_%s = best_test'%top_test_data)"
   ]
  },
  {
   "cell_type": "code",
   "execution_count": 24,
   "metadata": {
    "ExecuteTime": {
     "end_time": "2020-01-30T18:25:47.061468Z",
     "start_time": "2020-01-30T18:25:47.044425Z"
    }
   },
   "outputs": [
    {
     "data": {
      "text/plain": [
       "'Best training model'"
      ]
     },
     "metadata": {},
     "output_type": "display_data"
    },
    {
     "data": {
      "text/plain": [
       "('RDKit_noVPAS', 'AdaBoostRegressor', 'Mutual Information', 0.9999074773047704)"
      ]
     },
     "metadata": {},
     "output_type": "display_data"
    },
    {
     "data": {
      "text/plain": [
       "'Best testing model'"
      ]
     },
     "metadata": {},
     "output_type": "display_data"
    },
    {
     "data": {
      "text/plain": [
       "('DRAGON_VPAS', 'AdaBoostRegressor', 'Model', 0.8528606202924248)"
      ]
     },
     "metadata": {},
     "output_type": "display_data"
    }
   ],
   "source": [
    "top_train_list = []; top_test_list = []\n",
    "for obj in dir():\n",
    "    if obj.startswith('best_train'):\n",
    "        #print('train', eval(obj))\n",
    "        top_train_list.append(eval(obj))\n",
    "    if obj.startswith('best_test'):\n",
    "        #print('test', eval(obj))\n",
    "        top_test_list.append(eval(obj))\n",
    "        \n",
    "searchable_train_scores = [] ; searchable_test_scores = []\n",
    "for i in range(0, len(top_train_list)):\n",
    "    searchable_train_scores.append(top_train_list[i][3])\n",
    "    searchable_test_scores.append(top_test_list[i][3])\n",
    "searchable_train_scores = np.array(searchable_train_scores)\n",
    "searchable_test_scores = np.array(searchable_test_scores)\n",
    "\n",
    "display('Best training model', top_train_list[searchable_train_scores.argmax()])\n",
    "display('Best testing model', top_test_list[searchable_test_scores.argmax()])"
   ]
  }
 ],
 "metadata": {
  "kernelspec": {
   "display_name": "Python 3",
   "language": "python",
   "name": "python3"
  },
  "language_info": {
   "codemirror_mode": {
    "name": "ipython",
    "version": 3
   },
   "file_extension": ".py",
   "mimetype": "text/x-python",
   "name": "python",
   "nbconvert_exporter": "python",
   "pygments_lexer": "ipython3",
   "version": "3.7.3"
  },
  "toc": {
   "base_numbering": 1,
   "nav_menu": {},
   "number_sections": true,
   "sideBar": true,
   "skip_h1_title": false,
   "title_cell": "Table of Contents",
   "title_sidebar": "Contents",
   "toc_cell": false,
   "toc_position": {},
   "toc_section_display": true,
   "toc_window_display": false
  },
  "varInspector": {
   "cols": {
    "lenName": 16,
    "lenType": 16,
    "lenVar": 40
   },
   "kernels_config": {
    "python": {
     "delete_cmd_postfix": "",
     "delete_cmd_prefix": "del ",
     "library": "var_list.py",
     "varRefreshCmd": "print(var_dic_list())"
    },
    "r": {
     "delete_cmd_postfix": ") ",
     "delete_cmd_prefix": "rm(",
     "library": "var_list.r",
     "varRefreshCmd": "cat(var_dic_list()) "
    }
   },
   "types_to_exclude": [
    "module",
    "function",
    "builtin_function_or_method",
    "instance",
    "_Feature"
   ],
   "window_display": false
  }
 },
 "nbformat": 4,
 "nbformat_minor": 2
}
