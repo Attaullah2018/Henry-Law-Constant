{
 "cells": [
  {
   "cell_type": "markdown",
   "metadata": {},
   "source": [
    "# Initialisations"
   ]
  },
  {
   "cell_type": "code",
   "execution_count": 1,
   "metadata": {
    "ExecuteTime": {
     "end_time": "2020-01-28T12:09:19.279129Z",
     "start_time": "2020-01-28T12:08:00.079016Z"
    }
   },
   "outputs": [],
   "source": [
    "import pandas as pd ; pd.set_option('display.max_columns', 500) # dataframes\n",
    "import numpy as np # mathsy bits\n",
    "import ipywidgets as widgets # widgets\n",
    "\n",
    "from sklearn.model_selection import train_test_split #split data into train and test sets\n",
    "\n",
    "# feature selection + gridsearch\n",
    "from sklearn.feature_selection import SelectFromModel, SelectKBest\n",
    "from sklearn.feature_selection import f_regression, mutual_info_regression\n",
    "from sklearn.model_selection import GridSearchCV\n",
    "\n",
    "# models\n",
    "from sklearn.linear_model import Lars, ElasticNet, Lasso\n",
    "from sklearn.tree import DecisionTreeRegressor\n",
    "from sklearn.ensemble import RandomForestRegressor, ExtraTreesRegressor\n",
    "from sklearn.ensemble import AdaBoostRegressor, GradientBoostingRegressor\n",
    "\n",
    "import joblib # saving models\n",
    "from datetime import datetime # get time for labelling saved models\n",
    "\n",
    "# visualization\n",
    "import matplotlib.pyplot as plt\n",
    "%matplotlib inline\n",
    "\n",
    "import mpld3 # hover-over labels for plots\n",
    "mpld3.disable_notebook()\n",
    "\n",
    "train_scores = dict() ; test_scores  = dict() #to hold scores for viewing at the end"
   ]
  },
  {
   "cell_type": "code",
   "execution_count": 2,
   "metadata": {
    "ExecuteTime": {
     "end_time": "2020-01-28T12:09:19.316226Z",
     "start_time": "2020-01-28T12:09:19.285144Z"
    }
   },
   "outputs": [],
   "source": [
    "def grid_search_return_hp_dict(model, X_train_gs, y_train_gs, param_grid):\n",
    "    \"\"\"Run GridSearchCV on given model with defined param_grid, return best params as dict.\n",
    "    Pre-assign sklearn model to variable. Pass param_grid as dict.\"\"\"\n",
    "    print(str(model).split(sep='(')[0], \"grid search.\")\n",
    "    GS = GridSearchCV(model, param_grid, n_jobs=2)\n",
    "    GS.fit(X_train_gs, y_train_gs)\n",
    "    print(GS.best_params_)\n",
    "    return(GS.best_params_)\n",
    "\n",
    "def train_model(model, feature_set, hyperparameters, \n",
    "                grid_search = False):\n",
    "    \"\"\"Wrapper for training models with optional grid search and feature selection.\n",
    "    Pass model with no brackets, ie Lars not Lars()\n",
    "    If grid_search = True, hyperparameters is the hp ranges dictionary. Outputs trained model, best_hp\n",
    "    If grid_search = False, hyperparameters is the hp dictionary. Outputs trained model\"\"\"\n",
    "    X_train, X_test = X_train_main[feature_set], X_test_main[feature_set]\n",
    "    \n",
    "    if grid_search == True:\n",
    "        best_hp = grid_search_return_hp_dict(model(),\n",
    "                                             X_train, y_train, hyperparameters)\n",
    "        print(\"Grid search complete!\\nHyperparameters:\\n\", best_hp)\n",
    "        training_model = model(**best_hp).fit(X_train, y_train)\n",
    "        return training_model, best_hp\n",
    "\n",
    "    if grid_search == False:\n",
    "        print(\"No grid search\\nHyperparameters:\\n\", hyperparameters)\n",
    "        training_model = model(**hyperparameters).fit(X_train, y_train)\n",
    "        return training_model\n",
    "\n",
    "def produce_exp_vs_pred_df(features_list, model, codename): # generalise!\n",
    "    \"\"\"Pass features_list as a string\"\"\"\n",
    "    pred_list = []\n",
    "    for i in range(0, len(rdkit_features)):\n",
    "        prediction = model.predict([rdkit_features[eval(features_list)].iloc[i]])\n",
    "        pred_list.append(prediction)\n",
    "    \n",
    "    exp_vs_calc = pd.DataFrame(constants_first)\n",
    "    exp_vs_calc['Predicted'] = pred_list\n",
    "    exp_vs_calc.rename({'Kh_first':'Experimental'}, inplace=True, axis=1)\n",
    "    exp_vs_calc.to_csv('models/RDKit_noVPAS/%s'%(\"expvcalc_\" + str(model).split(sep='(')[0] + \"_\" + features_list[16:] + \".csv\"))\n",
    "    now = datetime.now()\n",
    "\n",
    "    dt_string = now.strftime(\"_%d_%m_%Y_%H_%M_%S\")\n",
    "    filename = \"models/RDKit_noVPAS/\" + str(model).split(sep='(')[0] + \"_\" + features_list[16:] + dt_string + \".joblib\"\n",
    "    print(str(model).split(sep='(')[0], \"run at:\", now, \". Saving to\", filename)\n",
    "    \n",
    "    joblib.dump(model, filename)\n",
    "    return exp_vs_calc\n",
    "\n",
    "def prediction_plot_scores(model_func, pred_df):\n",
    "    \"\"\"Print train+test scores, then plot scatter of predicted vs actual HLCs. Uses {X/y}_{train/test},\n",
    "    redefining these variables will change the output.\"\"\"\n",
    "    fig = plt.figure(figsize=(10, 10))\n",
    "    scatter = plt.scatter(pred_df['Experimental'], pred_df['Predicted'])\n",
    "    plt.xlabel('Experimental')\n",
    "    plt.ylabel('Predicted')\n",
    "    plt.title('%s predictions of HLCs' %str(model_func).split(sep='(')[0])\n",
    "    labels = ['{}'.format(i) for i in species_names]\n",
    "    tooltip = mpld3.plugins.PointLabelTooltip(scatter, labels=labels)\n",
    "    mpld3.plugins.connect(fig, tooltip)\n",
    "    plt.plot([-30, 10], [-30, 10], c='red')\n",
    "    plt.show()"
   ]
  },
  {
   "cell_type": "markdown",
   "metadata": {},
   "source": [
    "# RDkit descriptors\n",
    "## Bringing in data and splitting it into parts"
   ]
  },
  {
   "cell_type": "code",
   "execution_count": 3,
   "metadata": {
    "ExecuteTime": {
     "end_time": "2020-01-28T12:09:19.625018Z",
     "start_time": "2020-01-28T12:09:19.319235Z"
    }
   },
   "outputs": [
    {
     "name": "stdout",
     "output_type": "stream",
     "text": [
      "Input Shape (1404, 34)\n",
      "Removed NaN, new shape (1403, 34)\n"
     ]
    }
   ],
   "source": [
    "csv = pd.read_csv('rdkit_desc_noVPAS.csv') # contains non-VP/AS HLCs\n",
    "\n",
    "print(\"Input Shape\", csv.shape) #input shape\n",
    "\n",
    "csv.dropna(axis=0, inplace=True)\n",
    "\n",
    "print(\"Removed NaN, new shape\", csv.shape) #removed NaN shape\n",
    "\n",
    "species_names = csv.pop('0')\n",
    "smiles_strings = csv.pop('SMILES')\n",
    "constants_mean = csv.pop('Kh_mean')\n",
    "constants_first = csv.pop('Kh_first')\n",
    "\n",
    "varying_columns = csv[['Varying_1', 'Varying_2', 'Varying_3', 'Varying_4',\n",
    " 'Varying_5', 'Varying_6', 'Varying_7', 'Varying_8', 'Varying_9']] # popping one-hot encoding columns\n",
    "\n",
    "rdkit_features = csv.drop(['Varying_1', 'Varying_2', 'Varying_3', 'Varying_4',\n",
    " 'Varying_5', 'Varying_6', 'Varying_7', 'Varying_8', 'Varying_9'], axis=1) #seperating features\n",
    "\n",
    "X_train_main, X_test_main, y_train, y_test = train_test_split(rdkit_features, constants_first, test_size=0.3)"
   ]
  },
  {
   "cell_type": "code",
   "execution_count": 4,
   "metadata": {
    "ExecuteTime": {
     "end_time": "2020-01-28T12:09:19.885044Z",
     "start_time": "2020-01-28T12:09:19.629027Z"
    }
   },
   "outputs": [
    {
     "data": {
      "text/html": [
       "<div>\n",
       "<style scoped>\n",
       "    .dataframe tbody tr th:only-of-type {\n",
       "        vertical-align: middle;\n",
       "    }\n",
       "\n",
       "    .dataframe tbody tr th {\n",
       "        vertical-align: top;\n",
       "    }\n",
       "\n",
       "    .dataframe thead th {\n",
       "        text-align: right;\n",
       "    }\n",
       "</style>\n",
       "<table border=\"1\" class=\"dataframe\">\n",
       "  <thead>\n",
       "    <tr style=\"text-align: right;\">\n",
       "      <th></th>\n",
       "      <th>wt</th>\n",
       "      <th>logp</th>\n",
       "      <th>fraction_sp3</th>\n",
       "      <th>ali_homo_rings</th>\n",
       "      <th>ali_hetero_rings</th>\n",
       "      <th>amide_bonds</th>\n",
       "      <th>aro_homo_rings</th>\n",
       "      <th>aro_hetero_rings</th>\n",
       "      <th>hba</th>\n",
       "      <th>hbd</th>\n",
       "      <th>tpsa</th>\n",
       "      <th>asph</th>\n",
       "      <th>ecce</th>\n",
       "      <th>isf</th>\n",
       "      <th>npr1</th>\n",
       "      <th>npr2</th>\n",
       "      <th>pmi1</th>\n",
       "      <th>pmi2</th>\n",
       "      <th>pmi3</th>\n",
       "      <th>rog</th>\n",
       "      <th>si</th>\n",
       "    </tr>\n",
       "  </thead>\n",
       "  <tbody>\n",
       "    <tr>\n",
       "      <th>627</th>\n",
       "      <td>61.052764</td>\n",
       "      <td>-1.06260</td>\n",
       "      <td>1.000000</td>\n",
       "      <td>0</td>\n",
       "      <td>0</td>\n",
       "      <td>0</td>\n",
       "      <td>0</td>\n",
       "      <td>0</td>\n",
       "      <td>2</td>\n",
       "      <td>2</td>\n",
       "      <td>46.25</td>\n",
       "      <td>0.327472</td>\n",
       "      <td>0.947967</td>\n",
       "      <td>0.023044</td>\n",
       "      <td>0.318368</td>\n",
       "      <td>0.819236</td>\n",
       "      <td>35.551523</td>\n",
       "      <td>91.482506</td>\n",
       "      <td>111.668020</td>\n",
       "      <td>1.397814</td>\n",
       "      <td>5.186249e-01</td>\n",
       "    </tr>\n",
       "    <tr>\n",
       "      <th>144</th>\n",
       "      <td>28.031300</td>\n",
       "      <td>0.80220</td>\n",
       "      <td>0.000000</td>\n",
       "      <td>0</td>\n",
       "      <td>0</td>\n",
       "      <td>0</td>\n",
       "      <td>0</td>\n",
       "      <td>0</td>\n",
       "      <td>0</td>\n",
       "      <td>0</td>\n",
       "      <td>0.00</td>\n",
       "      <td>0.572881</td>\n",
       "      <td>0.985108</td>\n",
       "      <td>0.237475</td>\n",
       "      <td>0.171934</td>\n",
       "      <td>0.828066</td>\n",
       "      <td>3.486957</td>\n",
       "      <td>16.793787</td>\n",
       "      <td>20.280744</td>\n",
       "      <td>0.850246</td>\n",
       "      <td>2.640816e-14</td>\n",
       "    </tr>\n",
       "    <tr>\n",
       "      <th>535</th>\n",
       "      <td>138.068080</td>\n",
       "      <td>1.70922</td>\n",
       "      <td>0.250000</td>\n",
       "      <td>0</td>\n",
       "      <td>0</td>\n",
       "      <td>0</td>\n",
       "      <td>1</td>\n",
       "      <td>0</td>\n",
       "      <td>2</td>\n",
       "      <td>1</td>\n",
       "      <td>29.46</td>\n",
       "      <td>0.278255</td>\n",
       "      <td>0.918310</td>\n",
       "      <td>0.002223</td>\n",
       "      <td>0.395861</td>\n",
       "      <td>0.613500</td>\n",
       "      <td>275.973228</td>\n",
       "      <td>427.699462</td>\n",
       "      <td>697.146295</td>\n",
       "      <td>2.251518</td>\n",
       "      <td>6.319887e-02</td>\n",
       "    </tr>\n",
       "    <tr>\n",
       "      <th>607</th>\n",
       "      <td>117.057849</td>\n",
       "      <td>2.16790</td>\n",
       "      <td>0.000000</td>\n",
       "      <td>0</td>\n",
       "      <td>0</td>\n",
       "      <td>0</td>\n",
       "      <td>1</td>\n",
       "      <td>1</td>\n",
       "      <td>0</td>\n",
       "      <td>1</td>\n",
       "      <td>15.79</td>\n",
       "      <td>0.380183</td>\n",
       "      <td>0.956514</td>\n",
       "      <td>0.005538</td>\n",
       "      <td>0.291687</td>\n",
       "      <td>0.708313</td>\n",
       "      <td>127.896352</td>\n",
       "      <td>310.574566</td>\n",
       "      <td>438.470918</td>\n",
       "      <td>1.934628</td>\n",
       "      <td>2.614880e-11</td>\n",
       "    </tr>\n",
       "    <tr>\n",
       "      <th>1183</th>\n",
       "      <td>387.098584</td>\n",
       "      <td>4.23890</td>\n",
       "      <td>0.157895</td>\n",
       "      <td>0</td>\n",
       "      <td>0</td>\n",
       "      <td>1</td>\n",
       "      <td>2</td>\n",
       "      <td>1</td>\n",
       "      <td>6</td>\n",
       "      <td>0</td>\n",
       "      <td>65.82</td>\n",
       "      <td>0.678176</td>\n",
       "      <td>0.992427</td>\n",
       "      <td>0.000780</td>\n",
       "      <td>0.122835</td>\n",
       "      <td>0.955215</td>\n",
       "      <td>1225.332296</td>\n",
       "      <td>9528.703339</td>\n",
       "      <td>9975.452462</td>\n",
       "      <td>5.169666</td>\n",
       "      <td>1.825908e-01</td>\n",
       "    </tr>\n",
       "    <tr>\n",
       "      <th>...</th>\n",
       "      <td>...</td>\n",
       "      <td>...</td>\n",
       "      <td>...</td>\n",
       "      <td>...</td>\n",
       "      <td>...</td>\n",
       "      <td>...</td>\n",
       "      <td>...</td>\n",
       "      <td>...</td>\n",
       "      <td>...</td>\n",
       "      <td>...</td>\n",
       "      <td>...</td>\n",
       "      <td>...</td>\n",
       "      <td>...</td>\n",
       "      <td>...</td>\n",
       "      <td>...</td>\n",
       "      <td>...</td>\n",
       "      <td>...</td>\n",
       "      <td>...</td>\n",
       "      <td>...</td>\n",
       "      <td>...</td>\n",
       "      <td>...</td>\n",
       "    </tr>\n",
       "    <tr>\n",
       "      <th>180</th>\n",
       "      <td>106.078250</td>\n",
       "      <td>2.30344</td>\n",
       "      <td>0.250000</td>\n",
       "      <td>0</td>\n",
       "      <td>0</td>\n",
       "      <td>0</td>\n",
       "      <td>1</td>\n",
       "      <td>0</td>\n",
       "      <td>0</td>\n",
       "      <td>0</td>\n",
       "      <td>0.00</td>\n",
       "      <td>0.262946</td>\n",
       "      <td>0.909360</td>\n",
       "      <td>0.003714</td>\n",
       "      <td>0.416011</td>\n",
       "      <td>0.600571</td>\n",
       "      <td>161.720714</td>\n",
       "      <td>233.467110</td>\n",
       "      <td>388.741700</td>\n",
       "      <td>1.921439</td>\n",
       "      <td>8.905638e-02</td>\n",
       "    </tr>\n",
       "    <tr>\n",
       "      <th>1248</th>\n",
       "      <td>185.968027</td>\n",
       "      <td>2.45770</td>\n",
       "      <td>0.142857</td>\n",
       "      <td>0</td>\n",
       "      <td>0</td>\n",
       "      <td>0</td>\n",
       "      <td>1</td>\n",
       "      <td>0</td>\n",
       "      <td>1</td>\n",
       "      <td>0</td>\n",
       "      <td>9.23</td>\n",
       "      <td>0.295335</td>\n",
       "      <td>0.927046</td>\n",
       "      <td>0.001930</td>\n",
       "      <td>0.374948</td>\n",
       "      <td>0.628843</td>\n",
       "      <td>325.794339</td>\n",
       "      <td>546.405095</td>\n",
       "      <td>868.905963</td>\n",
       "      <td>2.157421</td>\n",
       "      <td>4.714947e-02</td>\n",
       "    </tr>\n",
       "    <tr>\n",
       "      <th>194</th>\n",
       "      <td>120.093900</td>\n",
       "      <td>2.55742</td>\n",
       "      <td>0.333333</td>\n",
       "      <td>0</td>\n",
       "      <td>0</td>\n",
       "      <td>0</td>\n",
       "      <td>1</td>\n",
       "      <td>0</td>\n",
       "      <td>0</td>\n",
       "      <td>0</td>\n",
       "      <td>0.00</td>\n",
       "      <td>0.250999</td>\n",
       "      <td>0.917650</td>\n",
       "      <td>0.003366</td>\n",
       "      <td>0.397390</td>\n",
       "      <td>0.686522</td>\n",
       "      <td>203.950943</td>\n",
       "      <td>352.341565</td>\n",
       "      <td>513.226585</td>\n",
       "      <td>2.109289</td>\n",
       "      <td>2.034648e-01</td>\n",
       "    </tr>\n",
       "    <tr>\n",
       "      <th>1060</th>\n",
       "      <td>425.766472</td>\n",
       "      <td>8.58080</td>\n",
       "      <td>0.000000</td>\n",
       "      <td>0</td>\n",
       "      <td>0</td>\n",
       "      <td>0</td>\n",
       "      <td>2</td>\n",
       "      <td>0</td>\n",
       "      <td>0</td>\n",
       "      <td>0</td>\n",
       "      <td>0.00</td>\n",
       "      <td>0.366557</td>\n",
       "      <td>0.956686</td>\n",
       "      <td>0.000551</td>\n",
       "      <td>0.291122</td>\n",
       "      <td>0.881701</td>\n",
       "      <td>1599.769804</td>\n",
       "      <td>4845.116195</td>\n",
       "      <td>5495.192767</td>\n",
       "      <td>3.727087</td>\n",
       "      <td>3.657966e-01</td>\n",
       "    </tr>\n",
       "    <tr>\n",
       "      <th>604</th>\n",
       "      <td>191.167400</td>\n",
       "      <td>3.67660</td>\n",
       "      <td>0.615385</td>\n",
       "      <td>0</td>\n",
       "      <td>0</td>\n",
       "      <td>0</td>\n",
       "      <td>0</td>\n",
       "      <td>1</td>\n",
       "      <td>1</td>\n",
       "      <td>0</td>\n",
       "      <td>12.89</td>\n",
       "      <td>0.330685</td>\n",
       "      <td>0.948783</td>\n",
       "      <td>0.001992</td>\n",
       "      <td>0.315928</td>\n",
       "      <td>0.849507</td>\n",
       "      <td>426.440103</td>\n",
       "      <td>1146.665848</td>\n",
       "      <td>1349.800884</td>\n",
       "      <td>2.763851</td>\n",
       "      <td>3.253494e-01</td>\n",
       "    </tr>\n",
       "  </tbody>\n",
       "</table>\n",
       "<p>982 rows × 21 columns</p>\n",
       "</div>"
      ],
      "text/plain": [
       "              wt     logp  fraction_sp3  ali_homo_rings  ali_hetero_rings  \\\n",
       "627    61.052764 -1.06260      1.000000               0                 0   \n",
       "144    28.031300  0.80220      0.000000               0                 0   \n",
       "535   138.068080  1.70922      0.250000               0                 0   \n",
       "607   117.057849  2.16790      0.000000               0                 0   \n",
       "1183  387.098584  4.23890      0.157895               0                 0   \n",
       "...          ...      ...           ...             ...               ...   \n",
       "180   106.078250  2.30344      0.250000               0                 0   \n",
       "1248  185.968027  2.45770      0.142857               0                 0   \n",
       "194   120.093900  2.55742      0.333333               0                 0   \n",
       "1060  425.766472  8.58080      0.000000               0                 0   \n",
       "604   191.167400  3.67660      0.615385               0                 0   \n",
       "\n",
       "      amide_bonds  aro_homo_rings  aro_hetero_rings  hba  hbd   tpsa  \\\n",
       "627             0               0                 0    2    2  46.25   \n",
       "144             0               0                 0    0    0   0.00   \n",
       "535             0               1                 0    2    1  29.46   \n",
       "607             0               1                 1    0    1  15.79   \n",
       "1183            1               2                 1    6    0  65.82   \n",
       "...           ...             ...               ...  ...  ...    ...   \n",
       "180             0               1                 0    0    0   0.00   \n",
       "1248            0               1                 0    1    0   9.23   \n",
       "194             0               1                 0    0    0   0.00   \n",
       "1060            0               2                 0    0    0   0.00   \n",
       "604             0               0                 1    1    0  12.89   \n",
       "\n",
       "          asph      ecce       isf      npr1      npr2         pmi1  \\\n",
       "627   0.327472  0.947967  0.023044  0.318368  0.819236    35.551523   \n",
       "144   0.572881  0.985108  0.237475  0.171934  0.828066     3.486957   \n",
       "535   0.278255  0.918310  0.002223  0.395861  0.613500   275.973228   \n",
       "607   0.380183  0.956514  0.005538  0.291687  0.708313   127.896352   \n",
       "1183  0.678176  0.992427  0.000780  0.122835  0.955215  1225.332296   \n",
       "...        ...       ...       ...       ...       ...          ...   \n",
       "180   0.262946  0.909360  0.003714  0.416011  0.600571   161.720714   \n",
       "1248  0.295335  0.927046  0.001930  0.374948  0.628843   325.794339   \n",
       "194   0.250999  0.917650  0.003366  0.397390  0.686522   203.950943   \n",
       "1060  0.366557  0.956686  0.000551  0.291122  0.881701  1599.769804   \n",
       "604   0.330685  0.948783  0.001992  0.315928  0.849507   426.440103   \n",
       "\n",
       "             pmi2         pmi3       rog            si  \n",
       "627     91.482506   111.668020  1.397814  5.186249e-01  \n",
       "144     16.793787    20.280744  0.850246  2.640816e-14  \n",
       "535    427.699462   697.146295  2.251518  6.319887e-02  \n",
       "607    310.574566   438.470918  1.934628  2.614880e-11  \n",
       "1183  9528.703339  9975.452462  5.169666  1.825908e-01  \n",
       "...           ...          ...       ...           ...  \n",
       "180    233.467110   388.741700  1.921439  8.905638e-02  \n",
       "1248   546.405095   868.905963  2.157421  4.714947e-02  \n",
       "194    352.341565   513.226585  2.109289  2.034648e-01  \n",
       "1060  4845.116195  5495.192767  3.727087  3.657966e-01  \n",
       "604   1146.665848  1349.800884  2.763851  3.253494e-01  \n",
       "\n",
       "[982 rows x 21 columns]"
      ]
     },
     "execution_count": 4,
     "metadata": {},
     "output_type": "execute_result"
    }
   ],
   "source": [
    "X_train_main"
   ]
  },
  {
   "cell_type": "code",
   "execution_count": 5,
   "metadata": {
    "ExecuteTime": {
     "end_time": "2020-01-28T12:09:20.052452Z",
     "start_time": "2020-01-28T12:09:19.890021Z"
    },
    "code_folding": []
   },
   "outputs": [
    {
     "name": "stderr",
     "output_type": "stream",
     "text": [
      "C:\\Users\\jtd1g16\\AppData\\Local\\Continuum\\anaconda3\\lib\\site-packages\\ipykernel_launcher.py:3: FutureWarning: The signature of `Series.to_csv` was aligned to that of `DataFrame.to_csv`, and argument 'header' will change its default value from False to True: please pass an explicit value to suppress this warning.\n",
      "  This is separate from the ipykernel package so we can avoid doing imports until\n"
     ]
    }
   ],
   "source": [
    "for i in ['X_train_main', 'X_test_main', 'y_train', 'y_test']:\n",
    "    #joblib.dump(exec('i'), \"models/RDKit_noVPAS/%s.joblib\"%i)\n",
    "    eval('%s'%i).to_csv('models/RDKit_noVPAS/%s.csv'%i)"
   ]
  },
  {
   "cell_type": "markdown",
   "metadata": {},
   "source": [
    "## Feature Selection\n",
    "Made aware of features selection methods in scikitlearn via https://towardsdatascience.com/feature-selection-techniques-in-machine-learning-with-python-f24e7da3f36e\n",
    "\n",
    "See also [scikit-learn docs](https://scikit-learn.org/stable/modules/feature_selection.html)\n",
    "### Importances via 'dummy' GradientBoostingRegressor"
   ]
  },
  {
   "cell_type": "code",
   "execution_count": 6,
   "metadata": {
    "ExecuteTime": {
     "end_time": "2020-01-28T12:09:20.418422Z",
     "start_time": "2020-01-28T12:09:20.055461Z"
    }
   },
   "outputs": [],
   "source": [
    "fs_model = GradientBoostingRegressor()\n",
    "fs_model.fit(X_train_main, y_train)\n",
    "importances = pd.Series(fs_model.feature_importances_, index = X_train_main.columns)\n",
    "top_15_features_model = list(importances.nlargest(15).index.values)"
   ]
  },
  {
   "cell_type": "markdown",
   "metadata": {},
   "source": [
    "### Importances via 'dummy' LASSO model"
   ]
  },
  {
   "cell_type": "code",
   "execution_count": 7,
   "metadata": {
    "ExecuteTime": {
     "end_time": "2020-01-28T12:09:20.833590Z",
     "start_time": "2020-01-28T12:09:20.421429Z"
    }
   },
   "outputs": [],
   "source": [
    "dummy_lasso = Lasso(max_iter=10000, alpha=0.5)\n",
    "selector = SelectFromModel(dummy_lasso).fit(X_train_main, y_train)\n",
    "coefs = selector.estimator_.coef_\n",
    "importances_lasso = pd.Series(coefs, index = X_train_main.columns)\n",
    "top_15_features_lasso = list(importances_lasso.nlargest(15).index.values)"
   ]
  },
  {
   "cell_type": "markdown",
   "metadata": {},
   "source": [
    "### SelectKBest using f_regression scoring function\n",
    "F-test estimates degree of linear dependency"
   ]
  },
  {
   "cell_type": "code",
   "execution_count": 8,
   "metadata": {
    "ExecuteTime": {
     "end_time": "2020-01-28T12:09:20.850635Z",
     "start_time": "2020-01-28T12:09:20.838605Z"
    }
   },
   "outputs": [],
   "source": [
    "fs_kbest = SelectKBest(score_func= f_regression, k=15)\n",
    "fit = fs_kbest.fit(X_train_main, y_train)\n",
    "scores_f = pd.Series(fit.scores_, index=X_train_main.columns)\n",
    "top_15_features_kbest = list(scores_f.nlargest(15).index.values)"
   ]
  },
  {
   "cell_type": "markdown",
   "metadata": {},
   "source": [
    "### SelectKBest using mutual_info_regression\n",
    "Catch any statistical dependancy, but requires more samples than f_reg"
   ]
  },
  {
   "cell_type": "code",
   "execution_count": 9,
   "metadata": {
    "ExecuteTime": {
     "end_time": "2020-01-28T12:09:21.661050Z",
     "start_time": "2020-01-28T12:09:20.855651Z"
    }
   },
   "outputs": [],
   "source": [
    "fs_mut_info = SelectKBest(score_func= mutual_info_regression, k=15)\n",
    "fit = fs_mut_info.fit(X_train_main, y_train)\n",
    "scores_mutual = pd.Series(fit.scores_, index=X_train_main.columns)\n",
    "top_15_features_mutual_info = list(scores_mutual.nlargest(15).index.values)"
   ]
  },
  {
   "cell_type": "markdown",
   "metadata": {},
   "source": [
    "### Feature Selection results"
   ]
  },
  {
   "cell_type": "code",
   "execution_count": 10,
   "metadata": {
    "ExecuteTime": {
     "end_time": "2020-01-28T12:09:23.314498Z",
     "start_time": "2020-01-28T12:09:21.664059Z"
    }
   },
   "outputs": [
    {
     "data": {
      "image/png": "[encoded data removed]",
      "text/plain": [
       "<Figure size 1080x720 with 4 Axes>"
      ]
     },
     "metadata": {
      "needs_background": "light"
     },
     "output_type": "display_data"
    }
   ],
   "source": [
    "fig, imp_plot = plt.subplots(nrows=1, ncols=4, figsize=(15, 10))\n",
    "imp_plot[0].barh(importances.nlargest(15).index.values, importances.nlargest(15))\n",
    "imp_plot[0].set_title('Dummy Model')\n",
    "imp_plot[1].barh(scores_mutual.nlargest(15).index.values, scores_mutual.nlargest(15))\n",
    "imp_plot[1].set_title('Mutual Information')\n",
    "imp_plot[2].barh(scores_f.nlargest(15).index.values, scores_f.nlargest(15))\n",
    "imp_plot[2].set_title('F Regression')\n",
    "imp_plot[3].barh(importances_lasso.nlargest(15).index.values, importances_lasso.nlargest(15))\n",
    "imp_plot[3].set_title('LASSO')\n",
    "plt.show()"
   ]
  },
  {
   "cell_type": "markdown",
   "metadata": {},
   "source": [
    "## Exporting feature importances"
   ]
  },
  {
   "cell_type": "code",
   "execution_count": 11,
   "metadata": {
    "ExecuteTime": {
     "end_time": "2020-01-28T12:09:23.342572Z",
     "start_time": "2020-01-28T12:09:23.317507Z"
    }
   },
   "outputs": [
    {
     "data": {
      "text/plain": [
       "['models/RDKit_VPAS/mutual_importances.joblib']"
      ]
     },
     "execution_count": 11,
     "metadata": {},
     "output_type": "execute_result"
    }
   ],
   "source": [
    "joblib.dump(importances, \"models/RDKit_noVPAS/model_importances.joblib\")\n",
    "joblib.dump(importances_lasso, \"models/RDKit_noVPAS/lasso_importances.joblib\")\n",
    "joblib.dump(scores_f, \"models/RDKit_noVPAS/freg_importances.joblib\")\n",
    "joblib.dump(scores_mutual, \"models/RDKit_noVPAS/mutual_importances.joblib\")"
   ]
  },
  {
   "cell_type": "markdown",
   "metadata": {},
   "source": [
    "## GradientBoosting\n",
    "### Model-chosen features"
   ]
  },
  {
   "cell_type": "code",
   "execution_count": 12,
   "metadata": {
    "ExecuteTime": {
     "end_time": "2020-01-28T12:09:23.488112Z",
     "start_time": "2020-01-28T12:09:23.344578Z"
    }
   },
   "outputs": [],
   "source": [
    "gbr_param_grid = {\n",
    "    'n_estimators': [500, 1000, 2000],\n",
    "    'max_depth': [2, 4, 6],\n",
    "    'min_samples_leaf': [3, 5, 9, 17],\n",
    "    'learning_rate': [0.1, 0.05, 0.02],\n",
    "    'max_features': [1.0, 0.3, 0.1],\n",
    "    'loss': ['ls', 'lad', 'huber']\n",
    "} #hyperparameters for each gbr grid search"
   ]
  },
  {
   "cell_type": "code",
   "execution_count": 13,
   "metadata": {
    "ExecuteTime": {
     "end_time": "2020-01-28T13:05:08.537513Z",
     "start_time": "2020-01-28T12:09:23.490117Z"
    }
   },
   "outputs": [
    {
     "name": "stdout",
     "output_type": "stream",
     "text": [
      "GradientBoostingRegressor grid search.\n"
     ]
    },
    {
     "name": "stderr",
     "output_type": "stream",
     "text": [
      "C:\\Users\\jtd1g16\\AppData\\Local\\Continuum\\anaconda3\\lib\\site-packages\\sklearn\\model_selection\\_split.py:1978: FutureWarning: The default value of cv will change from 3 to 5 in version 0.22. Specify it explicitly to silence this warning.\n",
      "  warnings.warn(CV_WARNING, FutureWarning)\n"
     ]
    },
    {
     "name": "stdout",
     "output_type": "stream",
     "text": [
      "{'learning_rate': 0.05, 'loss': 'lad', 'max_depth': 6, 'max_features': 1.0, 'min_samples_leaf': 3, 'n_estimators': 1000}\n",
      "Grid search complete!\n",
      "Hyperparameters:\n",
      " {'learning_rate': 0.05, 'loss': 'lad', 'max_depth': 6, 'max_features': 1.0, 'min_samples_leaf': 3, 'n_estimators': 1000}\n",
      "GradientBoostingRegressor run at: 2020-01-28 13:05:08.429223 . Saving to models/RDKit_VPAS/GradientBoostingRegressor_model_28_01_2020_13_05_08.joblib\n"
     ]
    }
   ],
   "source": [
    "gbr_model, gbr_hp = train_model(model = GradientBoostingRegressor,\n",
    "           feature_set= top_15_features_model,\n",
    "            grid_search=True,\n",
    "           hyperparameters=gbr_param_grid)\n",
    "\n",
    "exp_vs_calc_gbr_model = produce_exp_vs_pred_df('top_15_features_model', gbr_model,\n",
    "                                         \"GradBoost, model-chosen features\")"
   ]
  },
  {
   "cell_type": "markdown",
   "metadata": {},
   "source": [
    "### F-regression features"
   ]
  },
  {
   "cell_type": "code",
   "execution_count": 14,
   "metadata": {
    "ExecuteTime": {
     "end_time": "2020-01-28T13:05:17.290733Z",
     "start_time": "2020-01-28T13:05:08.542527Z"
    }
   },
   "outputs": [
    {
     "name": "stdout",
     "output_type": "stream",
     "text": [
      "No grid search\n",
      "Hyperparameters:\n",
      " {'learning_rate': 0.05, 'loss': 'lad', 'max_depth': 6, 'max_features': 1.0, 'min_samples_leaf': 3, 'n_estimators': 1000}\n",
      "GradientBoostingRegressor run at: 2020-01-28 13:05:17.203535 . Saving to models/RDKit_VPAS/GradientBoostingRegressor_kbest_28_01_2020_13_05_17.joblib\n"
     ]
    }
   ],
   "source": [
    "gbr_freg = train_model(model = GradientBoostingRegressor,\n",
    "           feature_set= top_15_features_kbest,\n",
    "            grid_search=False,\n",
    "           hyperparameters=gbr_hp)\n",
    "\n",
    "exp_vs_calc_gbr_freg = produce_exp_vs_pred_df('top_15_features_kbest', gbr_freg,\n",
    "                                                    \"GradBoost, f_reg features\")"
   ]
  },
  {
   "cell_type": "markdown",
   "metadata": {},
   "source": [
    "### Mutual info features"
   ]
  },
  {
   "cell_type": "code",
   "execution_count": 15,
   "metadata": {
    "ExecuteTime": {
     "end_time": "2020-01-28T13:05:26.471637Z",
     "start_time": "2020-01-28T13:05:17.293741Z"
    }
   },
   "outputs": [
    {
     "name": "stdout",
     "output_type": "stream",
     "text": [
      "No grid search\n",
      "Hyperparameters:\n",
      " {'learning_rate': 0.05, 'loss': 'lad', 'max_depth': 6, 'max_features': 1.0, 'min_samples_leaf': 3, 'n_estimators': 1000}\n",
      "GradientBoostingRegressor run at: 2020-01-28 13:05:26.390419 . Saving to models/RDKit_VPAS/GradientBoostingRegressor_mutual_info_28_01_2020_13_05_26.joblib\n"
     ]
    }
   ],
   "source": [
    "gbr_mu = train_model(model = GradientBoostingRegressor,\n",
    "           feature_set= top_15_features_mutual_info,\n",
    "            grid_search=False,\n",
    "           hyperparameters=gbr_hp)\n",
    "\n",
    "exp_vs_calc_gbr_mu = produce_exp_vs_pred_df('top_15_features_mutual_info', gbr_mu,\n",
    "                                            \"GradBoost, Mutual Info\")"
   ]
  },
  {
   "cell_type": "markdown",
   "metadata": {},
   "source": [
    "### LASSO features"
   ]
  },
  {
   "cell_type": "code",
   "execution_count": 16,
   "metadata": {
    "ExecuteTime": {
     "end_time": "2020-01-28T13:05:35.174335Z",
     "start_time": "2020-01-28T13:05:26.475650Z"
    }
   },
   "outputs": [
    {
     "name": "stdout",
     "output_type": "stream",
     "text": [
      "No grid search\n",
      "Hyperparameters:\n",
      " {'learning_rate': 0.05, 'loss': 'lad', 'max_depth': 6, 'max_features': 1.0, 'min_samples_leaf': 3, 'n_estimators': 1000}\n",
      "GradientBoostingRegressor run at: 2020-01-28 13:05:35.040402 . Saving to models/RDKit_VPAS/GradientBoostingRegressor_lasso_28_01_2020_13_05_35.joblib\n"
     ]
    }
   ],
   "source": [
    "gbr_lasso = train_model(model = GradientBoostingRegressor,\n",
    "           feature_set= top_15_features_lasso,\n",
    "            grid_search=False,\n",
    "           hyperparameters=gbr_hp)\n",
    "exp_vs_calc_gbr_lasso = produce_exp_vs_pred_df('top_15_features_lasso', gbr_lasso,\n",
    "                                               \"LASSO-features, GBR model\")"
   ]
  },
  {
   "cell_type": "markdown",
   "metadata": {},
   "source": [
    "## Decision Tree\n",
    "### Model-Chosen Features"
   ]
  },
  {
   "cell_type": "code",
   "execution_count": 17,
   "metadata": {
    "ExecuteTime": {
     "end_time": "2020-01-28T13:05:35.190376Z",
     "start_time": "2020-01-28T13:05:35.180351Z"
    }
   },
   "outputs": [],
   "source": [
    "dtr_param_grid = {\n",
    "    'criterion': ['mse', 'friedman_mse', 'mae'], #function measuring quality of a split\n",
    "    'max_depth': [5, 10, 20] , # max depth of tree\n",
    "    'max_features': [5, 10, 15], # N features to be considered when looking for split\n",
    "    'max_leaf_nodes': [None, 10, 15, 20, 30], #grows tree with N nodes in best-first fashion\n",
    "    'min_impurity_decrease': [0.0, 0.1],\n",
    "    'min_samples_leaf': [1, 2, 3], \n",
    "    'min_samples_split': [1.0, 2, 3],\n",
    "    'min_weight_fraction_leaf': [0.0, 0.1, 0.5] , \n",
    "    'splitter': ['best', 'random']\n",
    "} #hyperparameters for dtr gridsearch"
   ]
  },
  {
   "cell_type": "code",
   "execution_count": 18,
   "metadata": {
    "ExecuteTime": {
     "end_time": "2020-01-28T13:09:02.951191Z",
     "start_time": "2020-01-28T13:05:35.194391Z"
    }
   },
   "outputs": [
    {
     "name": "stdout",
     "output_type": "stream",
     "text": [
      "DecisionTreeRegressor grid search.\n"
     ]
    },
    {
     "name": "stderr",
     "output_type": "stream",
     "text": [
      "C:\\Users\\jtd1g16\\AppData\\Local\\Continuum\\anaconda3\\lib\\site-packages\\sklearn\\model_selection\\_split.py:1978: FutureWarning: The default value of cv will change from 3 to 5 in version 0.22. Specify it explicitly to silence this warning.\n",
      "  warnings.warn(CV_WARNING, FutureWarning)\n",
      "C:\\Users\\jtd1g16\\AppData\\Local\\Continuum\\anaconda3\\lib\\site-packages\\sklearn\\model_selection\\_search.py:814: DeprecationWarning: The default of the `iid` parameter will change from True to False in version 0.22 and will be removed in 0.24. This will change numeric results when test-set sizes are unequal.\n",
      "  DeprecationWarning)\n"
     ]
    },
    {
     "name": "stdout",
     "output_type": "stream",
     "text": [
      "{'criterion': 'friedman_mse', 'max_depth': 10, 'max_features': 15, 'max_leaf_nodes': None, 'min_impurity_decrease': 0.0, 'min_samples_leaf': 3, 'min_samples_split': 3, 'min_weight_fraction_leaf': 0.0, 'splitter': 'random'}\n",
      "Grid search complete!\n",
      "Hyperparameters:\n",
      " {'criterion': 'friedman_mse', 'max_depth': 10, 'max_features': 15, 'max_leaf_nodes': None, 'min_impurity_decrease': 0.0, 'min_samples_leaf': 3, 'min_samples_split': 3, 'min_weight_fraction_leaf': 0.0, 'splitter': 'random'}\n",
      "DecisionTreeRegressor run at: 2020-01-28 13:09:02.943160 . Saving to models/RDKit_VPAS/DecisionTreeRegressor_model_28_01_2020_13_09_02.joblib\n"
     ]
    }
   ],
   "source": [
    "dtr_model, dtr_hp = train_model(model = DecisionTreeRegressor,\n",
    "           feature_set= top_15_features_model,\n",
    "            grid_search=True,\n",
    "           hyperparameters=dtr_param_grid)\n",
    "\n",
    "\n",
    "exp_vs_calc_dtr_model = produce_exp_vs_pred_df('top_15_features_model', dtr_model,\n",
    "                                         \"Decision Tree, model-chosen features\")"
   ]
  },
  {
   "cell_type": "markdown",
   "metadata": {},
   "source": [
    "### F-regression features"
   ]
  },
  {
   "cell_type": "code",
   "execution_count": 19,
   "metadata": {
    "ExecuteTime": {
     "end_time": "2020-01-28T13:09:05.441208Z",
     "start_time": "2020-01-28T13:09:02.954194Z"
    }
   },
   "outputs": [
    {
     "name": "stdout",
     "output_type": "stream",
     "text": [
      "No grid search\n",
      "Hyperparameters:\n",
      " {'criterion': 'friedman_mse', 'max_depth': 10, 'max_features': 15, 'max_leaf_nodes': None, 'min_impurity_decrease': 0.0, 'min_samples_leaf': 3, 'min_samples_split': 3, 'min_weight_fraction_leaf': 0.0, 'splitter': 'random'}\n",
      "DecisionTreeRegressor run at: 2020-01-28 13:09:05.434227 . Saving to models/RDKit_VPAS/DecisionTreeRegressor_kbest_28_01_2020_13_09_05.joblib\n"
     ]
    }
   ],
   "source": [
    "dtr_freg = train_model(model = DecisionTreeRegressor,\n",
    "           feature_set= top_15_features_kbest,\n",
    "            grid_search=False,\n",
    "           hyperparameters=dtr_hp)\n",
    "exp_vs_calc_dtr_freg = produce_exp_vs_pred_df('top_15_features_kbest', dtr_freg,\n",
    "                                         \"Decision Tree, freg features\")"
   ]
  },
  {
   "cell_type": "markdown",
   "metadata": {},
   "source": [
    "### Mutual info features"
   ]
  },
  {
   "cell_type": "code",
   "execution_count": 20,
   "metadata": {
    "ExecuteTime": {
     "end_time": "2020-01-28T13:09:07.935827Z",
     "start_time": "2020-01-28T13:09:05.447226Z"
    }
   },
   "outputs": [
    {
     "name": "stdout",
     "output_type": "stream",
     "text": [
      "No grid search\n",
      "Hyperparameters:\n",
      " {'criterion': 'friedman_mse', 'max_depth': 10, 'max_features': 15, 'max_leaf_nodes': None, 'min_impurity_decrease': 0.0, 'min_samples_leaf': 3, 'min_samples_split': 3, 'min_weight_fraction_leaf': 0.0, 'splitter': 'random'}\n",
      "DecisionTreeRegressor run at: 2020-01-28 13:09:07.928844 . Saving to models/RDKit_VPAS/DecisionTreeRegressor_mutual_info_28_01_2020_13_09_07.joblib\n"
     ]
    }
   ],
   "source": [
    "dtr_mu = train_model(model = DecisionTreeRegressor,\n",
    "           feature_set= top_15_features_mutual_info,\n",
    "            grid_search=False,\n",
    "           hyperparameters=dtr_hp)\n",
    "exp_vs_calc_dtr_mu = produce_exp_vs_pred_df('top_15_features_mutual_info', dtr_mu,\n",
    "                                         \"Decision Tree, mutual info features\")"
   ]
  },
  {
   "cell_type": "markdown",
   "metadata": {},
   "source": [
    "### LASSO features"
   ]
  },
  {
   "cell_type": "code",
   "execution_count": 21,
   "metadata": {
    "ExecuteTime": {
     "end_time": "2020-01-28T13:09:10.332753Z",
     "start_time": "2020-01-28T13:09:07.938836Z"
    }
   },
   "outputs": [
    {
     "name": "stdout",
     "output_type": "stream",
     "text": [
      "No grid search\n",
      "Hyperparameters:\n",
      " {'criterion': 'friedman_mse', 'max_depth': 10, 'max_features': 15, 'max_leaf_nodes': None, 'min_impurity_decrease': 0.0, 'min_samples_leaf': 3, 'min_samples_split': 3, 'min_weight_fraction_leaf': 0.0, 'splitter': 'random'}\n",
      "DecisionTreeRegressor run at: 2020-01-28 13:09:10.321720 . Saving to models/RDKit_VPAS/DecisionTreeRegressor_lasso_28_01_2020_13_09_10.joblib\n"
     ]
    }
   ],
   "source": [
    "dtr_lasso = train_model(model = DecisionTreeRegressor,\n",
    "           feature_set= top_15_features_lasso,\n",
    "            grid_search=False,\n",
    "           hyperparameters=dtr_hp)\n",
    "\n",
    "exp_vs_calc_dtr_lasso = produce_exp_vs_pred_df('top_15_features_lasso', dtr_lasso,\n",
    "                                         \"Decision Tree, lasso features\")"
   ]
  },
  {
   "cell_type": "markdown",
   "metadata": {},
   "source": [
    "## AdaBoost Regressor\n",
    "### Model Chosen Features"
   ]
  },
  {
   "cell_type": "code",
   "execution_count": 22,
   "metadata": {
    "ExecuteTime": {
     "end_time": "2020-01-28T13:09:10.346790Z",
     "start_time": "2020-01-28T13:09:10.335761Z"
    }
   },
   "outputs": [],
   "source": [
    "base_models = [ExtraTreesRegressor(n_estimators= 5,\n",
    "                                   criterion= 'mse',\n",
    "                                   max_features = 'log2'),\n",
    "               RandomForestRegressor(n_estimators= 5,\n",
    "                                     criterion= 'mse',\n",
    "                                     max_features = 'sqrt',\n",
    "                                     min_samples_split = 3),\n",
    "              GradientBoostingRegressor(),\n",
    "              DecisionTreeRegressor(),\n",
    "              Lars(),\n",
    "              ElasticNet()]\n",
    "\n",
    "ada_param_grid = {\n",
    "    'base_estimator' : base_models, \n",
    "    'learning_rate' : [0.3, 0.5, 0.8, 1], \n",
    "    'loss' : ['linear', 'square', 'exponential'], \n",
    "    'n_estimators' : [50, 100]\n",
    "} #hyperparameters for adaboost gridsearch"
   ]
  },
  {
   "cell_type": "code",
   "execution_count": 23,
   "metadata": {
    "ExecuteTime": {
     "end_time": "2020-01-28T13:16:44.669150Z",
     "start_time": "2020-01-28T13:09:10.354811Z"
    }
   },
   "outputs": [
    {
     "name": "stdout",
     "output_type": "stream",
     "text": [
      "AdaBoostRegressor grid search.\n"
     ]
    },
    {
     "name": "stderr",
     "output_type": "stream",
     "text": [
      "C:\\Users\\jtd1g16\\AppData\\Local\\Continuum\\anaconda3\\lib\\site-packages\\sklearn\\model_selection\\_split.py:1978: FutureWarning: The default value of cv will change from 3 to 5 in version 0.22. Specify it explicitly to silence this warning.\n",
      "  warnings.warn(CV_WARNING, FutureWarning)\n"
     ]
    },
    {
     "name": "stdout",
     "output_type": "stream",
     "text": [
      "{'base_estimator': ExtraTreesRegressor(bootstrap=False, criterion='mse', max_depth=None,\n",
      "                    max_features='log2', max_leaf_nodes=None,\n",
      "                    min_impurity_decrease=0.0, min_impurity_split=None,\n",
      "                    min_samples_leaf=1, min_samples_split=2,\n",
      "                    min_weight_fraction_leaf=0.0, n_estimators=5, n_jobs=None,\n",
      "                    oob_score=False, random_state=None, verbose=0,\n",
      "                    warm_start=False), 'learning_rate': 0.5, 'loss': 'exponential', 'n_estimators': 100}\n",
      "Grid search complete!\n",
      "Hyperparameters:\n",
      " {'base_estimator': ExtraTreesRegressor(bootstrap=False, criterion='mse', max_depth=None,\n",
      "                    max_features='log2', max_leaf_nodes=None,\n",
      "                    min_impurity_decrease=0.0, min_impurity_split=None,\n",
      "                    min_samples_leaf=1, min_samples_split=2,\n",
      "                    min_weight_fraction_leaf=0.0, n_estimators=5, n_jobs=None,\n",
      "                    oob_score=False, random_state=None, verbose=0,\n",
      "                    warm_start=False), 'learning_rate': 0.5, 'loss': 'exponential', 'n_estimators': 100}\n",
      "AdaBoostRegressor run at: 2020-01-28 13:16:44.346289 . Saving to models/RDKit_VPAS/AdaBoostRegressor_model_28_01_2020_13_16_44.joblib\n"
     ]
    }
   ],
   "source": [
    "ada_model, ada_hp = train_model(model = AdaBoostRegressor,\n",
    "           feature_set= top_15_features_model,\n",
    "            grid_search=True,\n",
    "           hyperparameters=ada_param_grid)\n",
    "\n",
    "exp_vs_calc_ada_model = produce_exp_vs_pred_df('top_15_features_model', ada_model,\n",
    "                                               \"AdaBoost, model features\")"
   ]
  },
  {
   "cell_type": "markdown",
   "metadata": {},
   "source": [
    "### F-regression features"
   ]
  },
  {
   "cell_type": "code",
   "execution_count": 24,
   "metadata": {
    "ExecuteTime": {
     "end_time": "2020-01-28T13:18:22.708302Z",
     "start_time": "2020-01-28T13:16:44.674163Z"
    }
   },
   "outputs": [
    {
     "name": "stdout",
     "output_type": "stream",
     "text": [
      "No grid search\n",
      "Hyperparameters:\n",
      " {'base_estimator': ExtraTreesRegressor(bootstrap=False, criterion='mse', max_depth=None,\n",
      "                    max_features='log2', max_leaf_nodes=None,\n",
      "                    min_impurity_decrease=0.0, min_impurity_split=None,\n",
      "                    min_samples_leaf=1, min_samples_split=2,\n",
      "                    min_weight_fraction_leaf=0.0, n_estimators=5, n_jobs=None,\n",
      "                    oob_score=False, random_state=None, verbose=0,\n",
      "                    warm_start=False), 'learning_rate': 0.5, 'loss': 'exponential', 'n_estimators': 100}\n",
      "AdaBoostRegressor run at: 2020-01-28 13:18:22.343841 . Saving to models/RDKit_VPAS/AdaBoostRegressor_kbest_28_01_2020_13_18_22.joblib\n"
     ]
    }
   ],
   "source": [
    "ada_freg = train_model(model = AdaBoostRegressor,\n",
    "           feature_set= top_15_features_kbest,\n",
    "            grid_search=False,\n",
    "           hyperparameters=ada_hp)\n",
    "\n",
    "exp_vs_calc_ada_freg = produce_exp_vs_pred_df('top_15_features_kbest', ada_freg,\n",
    "                                               \"AdaBoost, freg features\")"
   ]
  },
  {
   "cell_type": "markdown",
   "metadata": {},
   "source": [
    "### Mutual info features"
   ]
  },
  {
   "cell_type": "code",
   "execution_count": 25,
   "metadata": {
    "ExecuteTime": {
     "end_time": "2020-01-28T13:20:01.437798Z",
     "start_time": "2020-01-28T13:18:22.710307Z"
    }
   },
   "outputs": [
    {
     "name": "stdout",
     "output_type": "stream",
     "text": [
      "No grid search\n",
      "Hyperparameters:\n",
      " {'base_estimator': ExtraTreesRegressor(bootstrap=False, criterion='mse', max_depth=None,\n",
      "                    max_features='log2', max_leaf_nodes=None,\n",
      "                    min_impurity_decrease=0.0, min_impurity_split=None,\n",
      "                    min_samples_leaf=1, min_samples_split=2,\n",
      "                    min_weight_fraction_leaf=0.0, n_estimators=5, n_jobs=None,\n",
      "                    oob_score=False, random_state=None, verbose=0,\n",
      "                    warm_start=False), 'learning_rate': 0.5, 'loss': 'exponential', 'n_estimators': 100}\n",
      "AdaBoostRegressor run at: 2020-01-28 13:20:01.084880 . Saving to models/RDKit_VPAS/AdaBoostRegressor_mutual_info_28_01_2020_13_20_01.joblib\n"
     ]
    }
   ],
   "source": [
    "ada_mu = train_model(model = AdaBoostRegressor,\n",
    "           feature_set= top_15_features_mutual_info,\n",
    "            grid_search=False,\n",
    "           hyperparameters=ada_hp)\n",
    "\n",
    "exp_vs_calc_ada_mu = produce_exp_vs_pred_df('top_15_features_mutual_info', ada_mu,\n",
    "                                               \"AdaBoost, mutual info features\")"
   ]
  },
  {
   "cell_type": "markdown",
   "metadata": {},
   "source": [
    "### LASSO features"
   ]
  },
  {
   "cell_type": "code",
   "execution_count": 26,
   "metadata": {
    "ExecuteTime": {
     "end_time": "2020-01-28T13:21:40.443101Z",
     "start_time": "2020-01-28T13:20:01.439807Z"
    }
   },
   "outputs": [
    {
     "name": "stdout",
     "output_type": "stream",
     "text": [
      "No grid search\n",
      "Hyperparameters:\n",
      " {'base_estimator': ExtraTreesRegressor(bootstrap=False, criterion='mse', max_depth=None,\n",
      "                    max_features='log2', max_leaf_nodes=None,\n",
      "                    min_impurity_decrease=0.0, min_impurity_split=None,\n",
      "                    min_samples_leaf=1, min_samples_split=2,\n",
      "                    min_weight_fraction_leaf=0.0, n_estimators=5, n_jobs=None,\n",
      "                    oob_score=False, random_state=None, verbose=0,\n",
      "                    warm_start=False), 'learning_rate': 0.5, 'loss': 'exponential', 'n_estimators': 100}\n",
      "AdaBoostRegressor run at: 2020-01-28 13:21:40.127260 . Saving to models/RDKit_VPAS/AdaBoostRegressor_lasso_28_01_2020_13_21_40.joblib\n"
     ]
    }
   ],
   "source": [
    "ada_lasso = train_model(model = AdaBoostRegressor,\n",
    "           feature_set= top_15_features_lasso,\n",
    "            grid_search=False,\n",
    "           hyperparameters=ada_hp)\n",
    "\n",
    "exp_vs_calc_ada_lasso = produce_exp_vs_pred_df('top_15_features_lasso', ada_lasso,\n",
    "                                               \"AdaBoost, model features\")"
   ]
  },
  {
   "cell_type": "markdown",
   "metadata": {},
   "source": [
    "## LASSO\n",
    "### Model Chosen Features"
   ]
  },
  {
   "cell_type": "code",
   "execution_count": 27,
   "metadata": {
    "ExecuteTime": {
     "end_time": "2020-01-28T13:21:40.453128Z",
     "start_time": "2020-01-28T13:21:40.446110Z"
    }
   },
   "outputs": [],
   "source": [
    "lasso_param_grid = {\n",
    "    'alpha':[0.2, 0.4, 0.6, 0.8],\n",
    "    'max_iter':[1000, 5000, 10000, 50000],\n",
    "    'selection':['cyclic', 'random']\n",
    "}"
   ]
  },
  {
   "cell_type": "code",
   "execution_count": 28,
   "metadata": {
    "ExecuteTime": {
     "end_time": "2020-01-28T13:21:47.142881Z",
     "start_time": "2020-01-28T13:21:40.458141Z"
    }
   },
   "outputs": [
    {
     "name": "stdout",
     "output_type": "stream",
     "text": [
      "Lasso grid search.\n"
     ]
    },
    {
     "name": "stderr",
     "output_type": "stream",
     "text": [
      "C:\\Users\\jtd1g16\\AppData\\Local\\Continuum\\anaconda3\\lib\\site-packages\\sklearn\\model_selection\\_split.py:1978: FutureWarning: The default value of cv will change from 3 to 5 in version 0.22. Specify it explicitly to silence this warning.\n",
      "  warnings.warn(CV_WARNING, FutureWarning)\n"
     ]
    },
    {
     "name": "stdout",
     "output_type": "stream",
     "text": [
      "{'alpha': 0.2, 'max_iter': 5000, 'selection': 'random'}\n",
      "Grid search complete!\n",
      "Hyperparameters:\n",
      " {'alpha': 0.2, 'max_iter': 5000, 'selection': 'random'}\n",
      "Lasso run at: 2020-01-28 13:21:47.136865 . Saving to models/RDKit_VPAS/Lasso_model_28_01_2020_13_21_47.joblib\n"
     ]
    }
   ],
   "source": [
    "lasso_model, lasso_hp = train_model(model = Lasso,\n",
    "           feature_set= top_15_features_model,\n",
    "            grid_search=True,\n",
    "           hyperparameters=lasso_param_grid)\n",
    "\n",
    "\n",
    "exp_vs_calc_lasso_model = produce_exp_vs_pred_df('top_15_features_model', lasso_model,\n",
    "                                                 \"LASSO, model features\")"
   ]
  },
  {
   "cell_type": "markdown",
   "metadata": {},
   "source": [
    "### F-regression features"
   ]
  },
  {
   "cell_type": "code",
   "execution_count": 29,
   "metadata": {
    "ExecuteTime": {
     "end_time": "2020-01-28T13:21:49.790912Z",
     "start_time": "2020-01-28T13:21:47.145891Z"
    }
   },
   "outputs": [
    {
     "name": "stdout",
     "output_type": "stream",
     "text": [
      "No grid search\n",
      "Hyperparameters:\n",
      " {'alpha': 0.2, 'max_iter': 5000, 'selection': 'random'}\n",
      "Lasso run at: 2020-01-28 13:21:49.784890 . Saving to models/RDKit_VPAS/Lasso_kbest_28_01_2020_13_21_49.joblib\n"
     ]
    }
   ],
   "source": [
    "lasso_freg = train_model(model = Lasso,\n",
    "           feature_set= top_15_features_kbest,\n",
    "            grid_search=False,\n",
    "           hyperparameters=lasso_hp)\n",
    "\n",
    "exp_vs_calc_lasso_freg = produce_exp_vs_pred_df('top_15_features_kbest', lasso_freg,\n",
    "                                                 \"LASSO, f-reg features\")"
   ]
  },
  {
   "cell_type": "markdown",
   "metadata": {},
   "source": [
    "### Mutual info features"
   ]
  },
  {
   "cell_type": "code",
   "execution_count": 30,
   "metadata": {
    "ExecuteTime": {
     "end_time": "2020-01-28T13:21:52.343920Z",
     "start_time": "2020-01-28T13:21:49.793914Z"
    }
   },
   "outputs": [
    {
     "name": "stdout",
     "output_type": "stream",
     "text": [
      "No grid search\n",
      "Hyperparameters:\n",
      " {'alpha': 0.2, 'max_iter': 5000, 'selection': 'random'}\n",
      "Lasso run at: 2020-01-28 13:21:52.337901 . Saving to models/RDKit_VPAS/Lasso_mutual_info_28_01_2020_13_21_52.joblib\n"
     ]
    }
   ],
   "source": [
    "lasso_mu = train_model(model = Lasso,\n",
    "           feature_set= top_15_features_mutual_info,\n",
    "            grid_search=False,\n",
    "           hyperparameters=lasso_hp)\n",
    "\n",
    "exp_vs_calc_lasso_mu = produce_exp_vs_pred_df('top_15_features_mutual_info', lasso_mu,\n",
    "                                                 \"LASSO, mutual info features\")"
   ]
  },
  {
   "cell_type": "markdown",
   "metadata": {},
   "source": [
    "### LASSO Features"
   ]
  },
  {
   "cell_type": "code",
   "execution_count": 31,
   "metadata": {
    "ExecuteTime": {
     "end_time": "2020-01-28T13:21:54.788404Z",
     "start_time": "2020-01-28T13:21:52.349941Z"
    }
   },
   "outputs": [
    {
     "name": "stdout",
     "output_type": "stream",
     "text": [
      "No grid search\n",
      "Hyperparameters:\n",
      " {'alpha': 0.2, 'max_iter': 5000, 'selection': 'random'}\n",
      "Lasso run at: 2020-01-28 13:21:54.781395 . Saving to models/RDKit_VPAS/Lasso_lasso_28_01_2020_13_21_54.joblib\n"
     ]
    }
   ],
   "source": [
    "lasso_lasso = train_model(model = Lasso,\n",
    "           feature_set= top_15_features_lasso,\n",
    "            grid_search=False,\n",
    "           hyperparameters=lasso_hp)\n",
    "\n",
    "exp_vs_calc_lasso_lasso = produce_exp_vs_pred_df('top_15_features_lasso', lasso_lasso,\n",
    "                                                 \"LASSO, lasso features\")"
   ]
  },
  {
   "cell_type": "markdown",
   "metadata": {},
   "source": [
    "## Random Forest Regressor\n",
    "### Model Chosen Features"
   ]
  },
  {
   "cell_type": "code",
   "execution_count": 32,
   "metadata": {
    "ExecuteTime": {
     "end_time": "2020-01-28T13:21:54.799433Z",
     "start_time": "2020-01-28T13:21:54.791413Z"
    }
   },
   "outputs": [],
   "source": [
    "random_forest_param_grid = {\n",
    "    'max_depth': [10, 20, 30, 40, 50, 60, 70, 80, 90, None],\n",
    "    'max_features': ['auto', 'sqrt'],\n",
    "    'min_samples_leaf': [1, 2, 4],\n",
    "    'min_samples_split': [2, 5, 10],\n",
    "    'n_estimators': [200, 400, 600, 800, 1000, 1200, 1400, 1600]\n",
    "}"
   ]
  },
  {
   "cell_type": "code",
   "execution_count": 33,
   "metadata": {
    "ExecuteTime": {
     "end_time": "2020-01-28T15:09:33.568485Z",
     "start_time": "2020-01-28T13:21:54.801439Z"
    }
   },
   "outputs": [
    {
     "name": "stdout",
     "output_type": "stream",
     "text": [
      "RandomForestRegressor grid search.\n"
     ]
    },
    {
     "name": "stderr",
     "output_type": "stream",
     "text": [
      "C:\\Users\\jtd1g16\\AppData\\Local\\Continuum\\anaconda3\\lib\\site-packages\\sklearn\\model_selection\\_split.py:1978: FutureWarning: The default value of cv will change from 3 to 5 in version 0.22. Specify it explicitly to silence this warning.\n",
      "  warnings.warn(CV_WARNING, FutureWarning)\n"
     ]
    },
    {
     "name": "stdout",
     "output_type": "stream",
     "text": [
      "{'max_depth': 20, 'max_features': 'auto', 'min_samples_leaf': 2, 'min_samples_split': 5, 'n_estimators': 600}\n",
      "Grid search complete!\n",
      "Hyperparameters:\n",
      " {'max_depth': 20, 'max_features': 'auto', 'min_samples_leaf': 2, 'min_samples_split': 5, 'n_estimators': 600}\n",
      "RandomForestRegressor run at: 2020-01-28 15:09:33.279752 . Saving to models/RDKit_VPAS/RandomForestRegressor_model_28_01_2020_15_09_33.joblib\n"
     ]
    }
   ],
   "source": [
    "random_forest_model, rfr_hp = train_model(model = RandomForestRegressor,\n",
    "           feature_set= top_15_features_model,\n",
    "            grid_search=True,\n",
    "           hyperparameters=random_forest_param_grid)\n",
    "exp_vs_calc_random_forest_model = produce_exp_vs_pred_df('top_15_features_model', random_forest_model,\n",
    "                                                         \"RandomForest, model features\")"
   ]
  },
  {
   "cell_type": "markdown",
   "metadata": {},
   "source": [
    "### F-regression features"
   ]
  },
  {
   "cell_type": "code",
   "execution_count": 34,
   "metadata": {
    "ExecuteTime": {
     "end_time": "2020-01-28T15:10:24.994871Z",
     "start_time": "2020-01-28T15:09:33.571491Z"
    }
   },
   "outputs": [
    {
     "name": "stdout",
     "output_type": "stream",
     "text": [
      "No grid search\n",
      "Hyperparameters:\n",
      " {'max_depth': 20, 'max_features': 'auto', 'min_samples_leaf': 2, 'min_samples_split': 5, 'n_estimators': 600}\n",
      "RandomForestRegressor run at: 2020-01-28 15:10:24.767319 . Saving to models/RDKit_VPAS/RandomForestRegressor_kbest_28_01_2020_15_10_24.joblib\n"
     ]
    }
   ],
   "source": [
    "random_forest_freg = train_model(model = RandomForestRegressor,\n",
    "           feature_set= top_15_features_kbest,\n",
    "            grid_search=False,\n",
    "           hyperparameters=rfr_hp)\n",
    "exp_vs_calc_random_forest_freg = produce_exp_vs_pred_df('top_15_features_kbest', random_forest_freg,\n",
    "                                                         \"RandomForest, freg features\")"
   ]
  },
  {
   "cell_type": "markdown",
   "metadata": {},
   "source": [
    "### Mutual info features"
   ]
  },
  {
   "cell_type": "code",
   "execution_count": 35,
   "metadata": {
    "ExecuteTime": {
     "end_time": "2020-01-28T15:11:16.890691Z",
     "start_time": "2020-01-28T15:10:24.996860Z"
    }
   },
   "outputs": [
    {
     "name": "stdout",
     "output_type": "stream",
     "text": [
      "No grid search\n",
      "Hyperparameters:\n",
      " {'max_depth': 20, 'max_features': 'auto', 'min_samples_leaf': 2, 'min_samples_split': 5, 'n_estimators': 600}\n",
      "RandomForestRegressor run at: 2020-01-28 15:11:16.637054 . Saving to models/RDKit_VPAS/RandomForestRegressor_mutual_info_28_01_2020_15_11_16.joblib\n"
     ]
    }
   ],
   "source": [
    "random_forest_mu = train_model(model = RandomForestRegressor,\n",
    "           feature_set= top_15_features_mutual_info,\n",
    "            grid_search=False,\n",
    "           hyperparameters=rfr_hp)\n",
    "exp_vs_calc_random_forest_mu = produce_exp_vs_pred_df('top_15_features_mutual_info', random_forest_mu,\n",
    "                                                         \"RandomForest, mutual info features\")"
   ]
  },
  {
   "cell_type": "markdown",
   "metadata": {},
   "source": [
    "### LASSO features"
   ]
  },
  {
   "cell_type": "code",
   "execution_count": 36,
   "metadata": {
    "ExecuteTime": {
     "end_time": "2020-01-28T15:12:11.834298Z",
     "start_time": "2020-01-28T15:11:16.892696Z"
    }
   },
   "outputs": [
    {
     "name": "stdout",
     "output_type": "stream",
     "text": [
      "No grid search\n",
      "Hyperparameters:\n",
      " {'max_depth': 20, 'max_features': 'auto', 'min_samples_leaf': 2, 'min_samples_split': 5, 'n_estimators': 600}\n",
      "RandomForestRegressor run at: 2020-01-28 15:12:11.533489 . Saving to models/RDKit_VPAS/RandomForestRegressor_lasso_28_01_2020_15_12_11.joblib\n"
     ]
    }
   ],
   "source": [
    "random_forest_lasso = train_model(model = RandomForestRegressor,\n",
    "           feature_set= top_15_features_lasso,\n",
    "            grid_search=False,\n",
    "           hyperparameters=rfr_hp)\n",
    "exp_vs_calc_random_forest_lasso = produce_exp_vs_pred_df('top_15_features_lasso', random_forest_lasso,\n",
    "                                                         \"RandomForest, lasso features\")"
   ]
  },
  {
   "cell_type": "markdown",
   "metadata": {},
   "source": [
    "## LARS - Least angle regression\n",
    "### Model chosen features"
   ]
  },
  {
   "cell_type": "code",
   "execution_count": 37,
   "metadata": {
    "ExecuteTime": {
     "end_time": "2020-01-28T15:12:11.841316Z",
     "start_time": "2020-01-28T15:12:11.837304Z"
    }
   },
   "outputs": [],
   "source": [
    "lars_param_grid = {'n_nonzero_coefs': [0, 5, 10, 15]}"
   ]
  },
  {
   "cell_type": "code",
   "execution_count": 38,
   "metadata": {
    "ExecuteTime": {
     "end_time": "2020-01-28T15:12:23.226191Z",
     "start_time": "2020-01-28T15:12:11.844324Z"
    }
   },
   "outputs": [
    {
     "name": "stdout",
     "output_type": "stream",
     "text": [
      "Lars grid search.\n"
     ]
    },
    {
     "name": "stderr",
     "output_type": "stream",
     "text": [
      "C:\\Users\\jtd1g16\\AppData\\Local\\Continuum\\anaconda3\\lib\\site-packages\\sklearn\\model_selection\\_split.py:1978: FutureWarning: The default value of cv will change from 3 to 5 in version 0.22. Specify it explicitly to silence this warning.\n",
      "  warnings.warn(CV_WARNING, FutureWarning)\n"
     ]
    },
    {
     "name": "stdout",
     "output_type": "stream",
     "text": [
      "{'n_nonzero_coefs': 15}\n",
      "Grid search complete!\n",
      "Hyperparameters:\n",
      " {'n_nonzero_coefs': 15}\n",
      "Lars run at: 2020-01-28 15:12:23.219168 . Saving to models/RDKit_VPAS/Lars_model_28_01_2020_15_12_23.joblib\n"
     ]
    }
   ],
   "source": [
    "lars_model, lars_hp = train_model(model = Lars,\n",
    "           feature_set= top_15_features_model,\n",
    "            grid_search=True,\n",
    "           hyperparameters= lars_param_grid)\n",
    "exp_vs_calc_lars_model = produce_exp_vs_pred_df('top_15_features_model', lars_model, \"LARS model features\")"
   ]
  },
  {
   "cell_type": "markdown",
   "metadata": {},
   "source": [
    "### F-regression features"
   ]
  },
  {
   "cell_type": "code",
   "execution_count": 39,
   "metadata": {
    "ExecuteTime": {
     "end_time": "2020-01-28T15:12:25.040035Z",
     "start_time": "2020-01-28T15:12:23.229198Z"
    }
   },
   "outputs": [
    {
     "name": "stdout",
     "output_type": "stream",
     "text": [
      "No grid search\n",
      "Hyperparameters:\n",
      " {'n_nonzero_coefs': 15}\n",
      "Lars run at: 2020-01-28 15:12:25.033052 . Saving to models/RDKit_VPAS/Lars_kbest_28_01_2020_15_12_25.joblib\n"
     ]
    }
   ],
   "source": [
    "lars_freg = train_model(model = Lars,\n",
    "           feature_set= top_15_features_kbest,\n",
    "            grid_search=False,\n",
    "           hyperparameters= lars_hp)\n",
    "exp_vs_calc_lars_freg = produce_exp_vs_pred_df('top_15_features_kbest', lars_freg, \"LARS freg features\")"
   ]
  },
  {
   "cell_type": "markdown",
   "metadata": {},
   "source": [
    "### Mutual info features"
   ]
  },
  {
   "cell_type": "code",
   "execution_count": 40,
   "metadata": {
    "ExecuteTime": {
     "end_time": "2020-01-28T15:12:26.867924Z",
     "start_time": "2020-01-28T15:12:25.043044Z"
    }
   },
   "outputs": [
    {
     "name": "stdout",
     "output_type": "stream",
     "text": [
      "No grid search\n",
      "Hyperparameters:\n",
      " {'n_nonzero_coefs': 15}\n",
      "Lars run at: 2020-01-28 15:12:26.860902 . Saving to models/RDKit_VPAS/Lars_mutual_info_28_01_2020_15_12_26.joblib\n"
     ]
    }
   ],
   "source": [
    "lars_mu = train_model(model = Lars,\n",
    "           feature_set= top_15_features_mutual_info,\n",
    "            grid_search=False,\n",
    "           hyperparameters= lars_hp)\n",
    "\n",
    "exp_vs_calc_lars_mu = produce_exp_vs_pred_df('top_15_features_mutual_info', lars_mu, \"LARS mutual info features\")"
   ]
  },
  {
   "cell_type": "markdown",
   "metadata": {},
   "source": [
    "### LASSO features"
   ]
  },
  {
   "cell_type": "code",
   "execution_count": 41,
   "metadata": {
    "ExecuteTime": {
     "end_time": "2020-01-28T15:12:28.664721Z",
     "start_time": "2020-01-28T15:12:26.870929Z"
    }
   },
   "outputs": [
    {
     "name": "stdout",
     "output_type": "stream",
     "text": [
      "No grid search\n",
      "Hyperparameters:\n",
      " {'n_nonzero_coefs': 15}\n",
      "Lars run at: 2020-01-28 15:12:28.655696 . Saving to models/RDKit_VPAS/Lars_lasso_28_01_2020_15_12_28.joblib\n"
     ]
    }
   ],
   "source": [
    "lars_lasso = train_model(model = Lars,\n",
    "           feature_set= top_15_features_lasso,\n",
    "            grid_search=False,\n",
    "           hyperparameters= lars_hp)\n",
    "exp_vs_calc_lars_lasso = produce_exp_vs_pred_df('top_15_features_lasso', lars_lasso, \"LARS lasso features\")"
   ]
  },
  {
   "cell_type": "markdown",
   "metadata": {},
   "source": [
    "## Elastic Net (linear regression l1 l2 norm regularization)\n",
    "### Model chosen features"
   ]
  },
  {
   "cell_type": "code",
   "execution_count": 42,
   "metadata": {
    "ExecuteTime": {
     "end_time": "2020-01-28T15:12:28.673745Z",
     "start_time": "2020-01-28T15:12:28.667728Z"
    }
   },
   "outputs": [],
   "source": [
    "net_param_grid = {\n",
    "    'alpha':[0.1, 0.3, 0.5, 0.8, 1.0],\n",
    "    'l1_ratio':[0.0, 0.2, 0.4, 0.6, 0.8, 1.0],\n",
    "    'fit_intercept':[True, False],\n",
    "    'max_iter': [1000, 3000, 5000],\n",
    "    'tol':[0.0001, 0.001, 0.01],\n",
    "    'selection':['cyclic', 'random']\n",
    "}"
   ]
  },
  {
   "cell_type": "code",
   "execution_count": 43,
   "metadata": {
    "ExecuteTime": {
     "end_time": "2020-01-28T15:12:49.791230Z",
     "start_time": "2020-01-28T15:12:28.676753Z"
    }
   },
   "outputs": [
    {
     "name": "stdout",
     "output_type": "stream",
     "text": [
      "ElasticNet grid search.\n"
     ]
    },
    {
     "name": "stderr",
     "output_type": "stream",
     "text": [
      "C:\\Users\\jtd1g16\\AppData\\Local\\Continuum\\anaconda3\\lib\\site-packages\\sklearn\\model_selection\\_split.py:1978: FutureWarning: The default value of cv will change from 3 to 5 in version 0.22. Specify it explicitly to silence this warning.\n",
      "  warnings.warn(CV_WARNING, FutureWarning)\n"
     ]
    },
    {
     "name": "stdout",
     "output_type": "stream",
     "text": [
      "{'alpha': 0.1, 'fit_intercept': True, 'l1_ratio': 0.8, 'max_iter': 1000, 'selection': 'cyclic', 'tol': 0.01}\n",
      "Grid search complete!\n",
      "Hyperparameters:\n",
      " {'alpha': 0.1, 'fit_intercept': True, 'l1_ratio': 0.8, 'max_iter': 1000, 'selection': 'cyclic', 'tol': 0.01}\n",
      "ElasticNet run at: 2020-01-28 15:12:49.784211 . Saving to models/RDKit_VPAS/ElasticNet_model_28_01_2020_15_12_49.joblib\n"
     ]
    }
   ],
   "source": [
    "net_model, net_hp = train_model(model = ElasticNet,\n",
    "           feature_set= top_15_features_model,\n",
    "            grid_search=True,\n",
    "           hyperparameters= net_param_grid)\n",
    "exp_vs_calc_net_model = produce_exp_vs_pred_df('top_15_features_model', net_model, \"ElasticNet model features\")"
   ]
  },
  {
   "cell_type": "markdown",
   "metadata": {},
   "source": [
    "### F regression features"
   ]
  },
  {
   "cell_type": "code",
   "execution_count": 44,
   "metadata": {
    "ExecuteTime": {
     "end_time": "2020-01-28T15:12:51.603070Z",
     "start_time": "2020-01-28T15:12:49.794239Z"
    }
   },
   "outputs": [
    {
     "name": "stdout",
     "output_type": "stream",
     "text": [
      "No grid search\n",
      "Hyperparameters:\n",
      " {'alpha': 0.1, 'fit_intercept': True, 'l1_ratio': 0.8, 'max_iter': 1000, 'selection': 'cyclic', 'tol': 0.01}\n",
      "ElasticNet run at: 2020-01-28 15:12:51.597052 . Saving to models/RDKit_VPAS/ElasticNet_kbest_28_01_2020_15_12_51.joblib\n"
     ]
    }
   ],
   "source": [
    "net_freg = train_model(model = ElasticNet,\n",
    "           feature_set= top_15_features_kbest,\n",
    "            grid_search=False,\n",
    "           hyperparameters= net_hp)\n",
    "exp_vs_calc_net_freg = produce_exp_vs_pred_df('top_15_features_kbest', net_freg, \"ElasticNet freg features\")"
   ]
  },
  {
   "cell_type": "markdown",
   "metadata": {},
   "source": [
    "### Mutual info features"
   ]
  },
  {
   "cell_type": "code",
   "execution_count": 45,
   "metadata": {
    "ExecuteTime": {
     "end_time": "2020-01-28T15:12:53.443989Z",
     "start_time": "2020-01-28T15:12:51.606081Z"
    }
   },
   "outputs": [
    {
     "name": "stdout",
     "output_type": "stream",
     "text": [
      "No grid search\n",
      "Hyperparameters:\n",
      " {'alpha': 0.1, 'fit_intercept': True, 'l1_ratio': 0.8, 'max_iter': 1000, 'selection': 'cyclic', 'tol': 0.01}\n",
      "ElasticNet run at: 2020-01-28 15:12:53.436970 . Saving to models/RDKit_VPAS/ElasticNet_mutual_info_28_01_2020_15_12_53.joblib\n"
     ]
    }
   ],
   "source": [
    "net_mu = train_model(model = ElasticNet,\n",
    "           feature_set= top_15_features_mutual_info,\n",
    "            grid_search=False,\n",
    "           hyperparameters= net_hp)\n",
    "exp_vs_calc_net_mu = produce_exp_vs_pred_df('top_15_features_mutual_info', net_mu, \"ElasticNet mutual info features\")"
   ]
  },
  {
   "cell_type": "markdown",
   "metadata": {},
   "source": [
    "### LASSO features"
   ]
  },
  {
   "cell_type": "code",
   "execution_count": 46,
   "metadata": {
    "ExecuteTime": {
     "end_time": "2020-01-28T15:12:55.272875Z",
     "start_time": "2020-01-28T15:12:53.446998Z"
    }
   },
   "outputs": [
    {
     "name": "stdout",
     "output_type": "stream",
     "text": [
      "No grid search\n",
      "Hyperparameters:\n",
      " {'alpha': 0.1, 'fit_intercept': True, 'l1_ratio': 0.8, 'max_iter': 1000, 'selection': 'cyclic', 'tol': 0.01}\n",
      "ElasticNet run at: 2020-01-28 15:12:55.265891 . Saving to models/RDKit_VPAS/ElasticNet_lasso_28_01_2020_15_12_55.joblib\n"
     ]
    }
   ],
   "source": [
    "net_lasso = train_model(model = ElasticNet,\n",
    "           feature_set= top_15_features_lasso,\n",
    "            grid_search=False,\n",
    "           hyperparameters= net_hp)\n",
    "exp_vs_calc_net_lasso = produce_exp_vs_pred_df('top_15_features_lasso', net_lasso, \"ElasticNet lasso features\")"
   ]
  }
 ],
 "metadata": {
  "kernelspec": {
   "display_name": "Python 3",
   "language": "python",
   "name": "python3"
  },
  "language_info": {
   "codemirror_mode": {
    "name": "ipython",
    "version": 3
   },
   "file_extension": ".py",
   "mimetype": "text/x-python",
   "name": "python",
   "nbconvert_exporter": "python",
   "pygments_lexer": "ipython3",
   "version": "3.7.3"
  },
  "notify_time": "30",
  "toc": {
   "base_numbering": 1,
   "nav_menu": {},
   "number_sections": true,
   "sideBar": true,
   "skip_h1_title": false,
   "title_cell": "Table of Contents",
   "title_sidebar": "Contents",
   "toc_cell": false,
   "toc_position": {
    "height": "calc(100% - 180px)",
    "left": "10px",
    "top": "150px",
    "width": "303.516px"
   },
   "toc_section_display": true,
   "toc_window_display": true
  },
  "varInspector": {
   "cols": {
    "lenName": 16,
    "lenType": 16,
    "lenVar": 40
   },
   "kernels_config": {
    "python": {
     "delete_cmd_postfix": "",
     "delete_cmd_prefix": "del ",
     "library": "var_list.py",
     "varRefreshCmd": "print(var_dic_list())"
    },
    "r": {
     "delete_cmd_postfix": ") ",
     "delete_cmd_prefix": "rm(",
     "library": "var_list.r",
     "varRefreshCmd": "cat(var_dic_list()) "
    }
   },
   "types_to_exclude": [
    "module",
    "function",
    "builtin_function_or_method",
    "instance",
    "_Feature"
   ],
   "window_display": false
  }
 },
 "nbformat": 4,
 "nbformat_minor": 2
}
