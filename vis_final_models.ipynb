{
 "cells": [
  {
   "cell_type": "markdown",
   "metadata": {},
   "source": [
    "# Visualisation Notebook\n",
    "This notebook will take in all models, and return the train/test scores, while showing a plot of predicted vs experimental HLCs"
   ]
  },
  {
   "cell_type": "code",
   "execution_count": 1,
   "metadata": {
    "ExecuteTime": {
     "end_time": "2020-01-29T20:06:40.768864Z",
     "start_time": "2020-01-29T20:06:33.158471Z"
    }
   },
   "outputs": [],
   "source": [
    "import matplotlib.pyplot as plt\n",
    "import pandas as pd\n",
    "import numpy as np\n",
    "import mpld3\n",
    "mpld3.disable_notebook()\n",
    "import os\n",
    "import ipywidgets as widgets\n",
    "from IPython.display import display\n",
    "import joblib"
   ]
  },
  {
   "cell_type": "markdown",
   "metadata": {},
   "source": [
    "# Bring in data, feature selections and models"
   ]
  },
  {
   "cell_type": "code",
   "execution_count": 2,
   "metadata": {
    "ExecuteTime": {
     "end_time": "2020-01-29T20:06:41.513528Z",
     "start_time": "2020-01-29T20:06:40.770813Z"
    }
   },
   "outputs": [
    {
     "name": "stdout",
     "output_type": "stream",
     "text": [
      "Input Shape (1404, 1479)\n",
      "Removed NaN, new shape (1355, 1479)\n"
     ]
    }
   ],
   "source": [
    "all_data = pd.read_csv('organics_noVPAS_desc_kh.csv') # contains non-VP/AS HLCs\n",
    "print(\"Input Shape\", all_data.shape) #input shape\n",
    "all_data.dropna(axis=0, inplace=True)\n",
    "print(\"Removed NaN, new shape\", all_data.shape) #removed NaN shape\n",
    "\n",
    "#species_names = all_data.pop('Unnamed: 0')\n",
    "smiles_strings = all_data.pop('SMILES')\n",
    "constants_mean = all_data.pop('Kh_mean')\n",
    "constants_first = all_data.pop('Kh_first')\n",
    "\n",
    "varying_columns = all_data[['Varying_1', 'Varying_2', 'Varying_3', 'Varying_4',\n",
    " 'Varying_5', 'Varying_6', 'Varying_7', 'Varying_8', 'Varying_9']] # popping one-hot encoding columns\n",
    "\n",
    "dragon_features = all_data.drop(['Varying_1', 'Varying_2', 'Varying_3', 'Varying_4',\n",
    " 'Varying_5', 'Varying_6', 'Varying_7', 'Varying_8', 'Varying_9'], axis=1) #seperating features"
   ]
  },
  {
   "cell_type": "code",
   "execution_count": 3,
   "metadata": {
    "ExecuteTime": {
     "end_time": "2020-01-29T20:06:41.525558Z",
     "start_time": "2020-01-29T20:06:41.516537Z"
    }
   },
   "outputs": [],
   "source": [
    "def prediction_plot_scores(model_func, pred_df, features_list):\n",
    "    \"\"\"Print train+test scores, then plot scatter of predicted vs actual HLCs. Uses {X/y}_{train/test},\n",
    "    redefining these variables will change the output.\"\"\"\n",
    "    print('Training Score:\\t', model_func.score(X_train[features_list], y_train))\n",
    "    print('Testing Score:\\t', model_func.score(X_test[features_list], y_test))\n",
    "    fig = plt.figure(figsize=(10, 10))\n",
    "    scatter = plt.scatter(pred_df['Experimental'], pred_df['Predicted'])\n",
    "    plt.xlabel('Experimental')\n",
    "    plt.ylabel('Predicted')\n",
    "    plt.title('%s predictions of HLCs' %str(model_func).split(sep='(')[0])\n",
    "    labels = ['{}'.format(i) for i in species_names]\n",
    "    tooltip = mpld3.plugins.PointLabelTooltip(scatter, labels=labels)\n",
    "    mpld3.plugins.connect(fig, tooltip)\n",
    "    plt.plot([-30, 10], [-30, 10], c='red')\n",
    "    plt.show()"
   ]
  },
  {
   "cell_type": "markdown",
   "metadata": {},
   "source": [
    "# Set up function to view all models\n",
    "## Dict containing sets of models, with dataset types as keys"
   ]
  },
  {
   "cell_type": "code",
   "execution_count": 4,
   "metadata": {
    "ExecuteTime": {
     "end_time": "2020-01-29T20:06:41.662275Z",
     "start_time": "2020-01-29T20:06:41.527564Z"
    }
   },
   "outputs": [
    {
     "data": {
      "text/plain": [
       "{'DRAGON_noVPAS': ['models/DRAGON_noVPAS/set_1/',\n",
       "  'models/DRAGON_noVPAS/set_2/',\n",
       "  'models/DRAGON_noVPAS/set_3/'],\n",
       " 'DRAGON_VPAS': ['models/DRAGON_VPAS/set_1/',\n",
       "  'models/DRAGON_VPAS/set_2/',\n",
       "  'models/DRAGON_VPAS/set_3/'],\n",
       " 'PCA_DRAGON_noVPAS': ['models/PCA_DRAGON_noVPAS/set_1/',\n",
       "  'models/PCA_DRAGON_noVPAS/set_2/',\n",
       "  'models/PCA_DRAGON_noVPAS/set_3/'],\n",
       " 'PCA_DRAGON_VPAS': ['models/PCA_DRAGON_VPAS/set_1/',\n",
       "  'models/PCA_DRAGON_VPAS/set_2/',\n",
       "  'models/PCA_DRAGON_VPAS/set_3/'],\n",
       " 'RDKit_noVPAS': ['models/RDKit_noVPAS/set_1/',\n",
       "  'models/RDKit_noVPAS/set_2/',\n",
       "  'models/RDKit_noVPAS/set_3/'],\n",
       " 'RDKit_VPAS': ['models/RDKit_VPAS/set_1/',\n",
       "  'models/RDKit_VPAS/set_2/',\n",
       "  'models/RDKit_VPAS/set_3/']}"
      ]
     },
     "metadata": {},
     "output_type": "display_data"
    }
   ],
   "source": [
    "path_dict = {} #dict holding each dataset type as keys, and lists of model set dirs as values.\n",
    "for dataset in os.listdir(\"models/\"):\n",
    "    path_list = []\n",
    "    for i in range(1, 4):\n",
    "        set_n = \"set_\" + str(i)\n",
    "        path_list.append(\"models/%s/%s/\"%(dataset, set_n))\n",
    "    path_dict.update({dataset:path_list})\n",
    "display(path_dict)"
   ]
  },
  {
   "cell_type": "markdown",
   "metadata": {},
   "source": [
    "## Creating file path lists"
   ]
  },
  {
   "cell_type": "code",
   "execution_count": 5,
   "metadata": {
    "ExecuteTime": {
     "end_time": "2020-01-29T20:06:41.800820Z",
     "start_time": "2020-01-29T20:06:41.664282Z"
    }
   },
   "outputs": [],
   "source": [
    "for dataset in path_dict:\n",
    "    for i in range(0, len(path_dict[dataset])):\n",
    "        file_path = path_dict[dataset][i]\n",
    "        exec('paths_%s = []'%dataset)\n",
    "        exec('%s_model_list_%s = []'%(dataset, str(i)))\n",
    "        exec('%s_importances_list_%s = []'%(dataset, str(i)))\n",
    "        exec('%s_train_test_list_%s = []'%(dataset, str(i)))\n",
    "        for file in os.listdir(file_path):\n",
    "            if '.' in file:\n",
    "                if file.split(sep='.')[1] == 'joblib':\n",
    "                    if 'importances' in file:\n",
    "                        eval('%s_importances_list_%s.append(file_path + file)'%(dataset, str(i)))\n",
    "                    else:\n",
    "                        eval('%s_model_list_%s.append(file_path + file)'%(dataset, str(i)))\n",
    "            if 'csv' in file:\n",
    "                eval('%s_train_test_list_%s.append(file_path + file)'%(dataset, str(i)))\n",
    "    \n",
    "for file_list in dir():\n",
    "    if file_list[0:13] == 'DRAGON_noVPAS':\n",
    "        paths_DRAGON_noVPAS.append(file_list)\n",
    "    if file_list[0:11] == 'DRAGON_VPAS':\n",
    "        paths_DRAGON_VPAS.append(file_list)\n",
    "    if file_list[0:17] == 'PCA_DRAGON_noVPAS':\n",
    "        paths_PCA_DRAGON_noVPAS.append(file_list)\n",
    "    if file_list[0:15] == 'PCA_DRAGON_VPAS':\n",
    "        paths_PCA_DRAGON_VPAS.append(file_list)\n",
    "    if file_list[0:10] == 'RDKit_VPAS':\n",
    "        paths_RDKit_VPAS.append(file_list)\n",
    "    if file_list[0:12] == 'RDKit_noVPAS':\n",
    "        paths_RDKit_noVPAS.append(file_list)"
   ]
  },
  {
   "cell_type": "code",
   "execution_count": 6,
   "metadata": {
    "ExecuteTime": {
     "end_time": "2020-01-29T20:06:41.948186Z",
     "start_time": "2020-01-29T20:06:41.803474Z"
    }
   },
   "outputs": [
    {
     "data": {
      "text/plain": [
       "['RDKit_noVPAS_importances_list_0',\n",
       " 'RDKit_noVPAS_importances_list_1',\n",
       " 'RDKit_noVPAS_importances_list_2',\n",
       " 'RDKit_noVPAS_model_list_0',\n",
       " 'RDKit_noVPAS_model_list_1',\n",
       " 'RDKit_noVPAS_model_list_2',\n",
       " 'RDKit_noVPAS_train_test_list_0',\n",
       " 'RDKit_noVPAS_train_test_list_1',\n",
       " 'RDKit_noVPAS_train_test_list_2']"
      ]
     },
     "execution_count": 6,
     "metadata": {},
     "output_type": "execute_result"
    }
   ],
   "source": [
    "paths_RDKit_noVPAS"
   ]
  },
  {
   "cell_type": "markdown",
   "metadata": {},
   "source": [
    "## Loading files into this session"
   ]
  },
  {
   "cell_type": "code",
   "execution_count": 7,
   "metadata": {
    "ExecuteTime": {
     "end_time": "2020-01-29T20:08:05.656004Z",
     "start_time": "2020-01-29T20:06:41.951196Z"
    }
   },
   "outputs": [],
   "source": [
    "for dataset in path_dict:\n",
    "    for file_list in eval('paths_%s'%dataset):\n",
    "        file_path_list = (eval(file_list))\n",
    "        for file in file_path_list:\n",
    "            filename = (file.split(sep='/')[3])\n",
    "            set_n = (file.split(sep='/')[2])\n",
    "            if not 'importances' in filename:\n",
    "                if not 'csv' in filename:\n",
    "                    if not 'pca_fit' in filename:\n",
    "                        model = (filename.split(sep='_')[0])\n",
    "                        features = filename.split(sep='_')[1]\n",
    "                        exec('%s_%s_%s_%s = joblib.load(file)'%(dataset, model, features, set_n))\n",
    "            if 'importances' in filename:\n",
    "                #print(filename, set_n, \"\\n\", file)\n",
    "                imp_type = filename.split(sep='_')[0]\n",
    "                exec('%s_importances_%s_%s = joblib.load(file)'%(dataset, imp_type, set_n))\n",
    "            if 'csv' in filename:\n",
    "                data_type = (filename.split(sep='.')[0])\n",
    "                if 'X' in filename:\n",
    "                    exec('%s_data_%s_%s = pd.read_csv(file)'%(dataset, data_type, set_n))\n",
    "                if 'y' in filename:\n",
    "                    exec('%s_data_%s_%s = pd.read_csv(file, header=None)'%(dataset, data_type, set_n))\n",
    "                    exec('%s_data_%s_%s.drop(0, axis=1, inplace=True)'%(dataset, data_type, set_n))\n",
    "            if 'pca_fit' in filename:\n",
    "                data_type = filename.split(sep='.')[0]\n",
    "                exec('%s_data_%s_%s = joblib.load(file)'%(dataset, data_type, set_n))"
   ]
  },
  {
   "cell_type": "code",
   "execution_count": 8,
   "metadata": {
    "ExecuteTime": {
     "end_time": "2020-01-29T20:08:05.690449Z",
     "start_time": "2020-01-29T20:08:05.668391Z"
    }
   },
   "outputs": [],
   "source": [
    "model_types = ['GradientBoostingRegressor', 'DecisionTreeRegressor', \n",
    "               'ElasticNet', 'AdaBoostRegressor', \n",
    "               'Lars', 'Lasso', 'RandomForestRegressor']\n",
    "dataset_types = ['DRAGON_noVPAS', 'DRAGON_VPAS', 'PCA_DRAGON_noVPAS', 'PCA_DRAGON_VPAS', 'RDKit_VPAS', 'RDKit_noVPAS']\n",
    "set_n_types = ['set_1', 'set_2', 'set_3']\n",
    "feature_sets = ['model', 'freg', 'mutual', 'lasso']\n",
    "feature_model_sets = ['model', 'kbest', 'mutual', 'lasso']\n",
    "feature_name_link_dict = dict(zip(feature_sets, feature_model_sets))"
   ]
  },
  {
   "cell_type": "markdown",
   "metadata": {},
   "source": [
    "# Export average train and test scores"
   ]
  },
  {
   "cell_type": "code",
   "execution_count": 9,
   "metadata": {
    "ExecuteTime": {
     "end_time": "2020-01-29T20:08:32.421616Z",
     "start_time": "2020-01-29T20:08:05.703487Z"
    }
   },
   "outputs": [],
   "source": [
    "ave_train_scores = [] ; ave_test_scores = [] ; ave_model_list = []\n",
    "for Dataset in dataset_types:\n",
    "    if 'PCA' in Dataset:\n",
    "        for Model in model_types:\n",
    "            set_train_scores = [] ; set_test_scores = []\n",
    "            for Set in set_n_types:\n",
    "                i = Set.split(sep='_')[1]\n",
    "                X_train_ = eval(Dataset + \"_data_X_train_\" + Set)\n",
    "                X_train = X_train_.drop('Unnamed: 0', axis=1)\n",
    "                X_test_ = eval(Dataset + \"_data_X_test_\" + Set)\n",
    "                X_test = X_test_.drop('Unnamed: 0', axis=1)\n",
    "                y_train = eval(Dataset + \"_data_\" + 'y_train'  + \"_\" + Set)\n",
    "                y_test = eval(Dataset + \"_data_\" + 'y_test'  + \"_\" + Set)\n",
    "                model = eval(Dataset + \"_\" + Model + \"__\" + Set)\n",
    "                set_train_scores.append(np.array(model.score(X_train, y_train)))\n",
    "                set_test_scores.append(np.array(model.score(X_test, y_test)))\n",
    "            ave_train_scores.append(np.mean(set_train_scores))\n",
    "            ave_test_scores.append(np.mean(set_test_scores))\n",
    "            ave_model_list.append(Dataset + \"_\" + Model)\n",
    "    if not 'PCA' in Dataset:\n",
    "        for Model in model_types:\n",
    "            for feature_set in feature_sets:\n",
    "                set_train_scores = []; set_test_scores = []\n",
    "                for Set in set_n_types:\n",
    "                    #print(Dataset, Model, feature_set, Set)\n",
    "                    X_train_ = eval(Dataset + \"_data_X_train_main_\" + Set)\n",
    "                    X_train = X_train_.drop('Unnamed: 0', axis=1)\n",
    "                    X_test_ = eval(Dataset + \"_data_X_test_main_\" + Set)\n",
    "                    X_test = X_test_.drop('Unnamed: 0', axis=1)\n",
    "                    y_train = eval(Dataset + \"_data_\" + 'y_train'  + \"_\" + Set)\n",
    "                    y_test = eval(Dataset + \"_data_\" + 'y_test'  + \"_\" + Set)\n",
    "                    model = eval(Dataset + \"_\" + Model + \"_\" + feature_name_link_dict[feature_set] + \"_\" + Set)\n",
    "                    chosen_features = list(eval(Dataset + \"_importances_\" + feature_set + \"_\" + Set).nlargest(15).index.values)\n",
    "                    set_train_scores.append(model.score(X_train[chosen_features], y_train))\n",
    "                    set_test_scores.append(model.score(X_test[chosen_features], y_test))\n",
    "                ave_train_scores.append(np.mean(set_train_scores))\n",
    "                ave_test_scores.append(np.mean(set_test_scores))\n",
    "                ave_model_list.append(Dataset + \"_\" + Model + \"_\" + feature_set)\n",
    "\n",
    "#av_models_DRAGON_noVPAS = pd.DataFrame(np.array(ave_model_list[0:28]).reshape(7, 4))\n",
    "#av_models_DRAGON_VPAS = pd.DataFrame(np.array(ave_model_list[28:56]).reshape(7, 4))\n",
    "#av_models_PCA_DRAGON_noVPAS = pd.DataFrame(np.array(ave_model_list[56:63]).reshape(7))\n",
    "#av_models_PCA_DRAGON_VPAS = pd.DataFrame(np.array(ave_model_list[63:70]).reshape(7))\n",
    "#av_models_RDKit_VPAS = pd.DataFrame(np.array(ave_model_list[70:98]).reshape(7, 4))\n",
    "#av_models_RDKit_noVPAS = pd.DataFrame(np.array(ave_model_list[98:126]).reshape(7, 4))\n",
    "\n",
    "av_train_DRAGON_noVPAS = pd.DataFrame(np.array(ave_train_scores[0:28]).reshape(7, 4))\n",
    "av_train_DRAGON_VPAS = pd.DataFrame(np.array(ave_train_scores[28:56]).reshape(7, 4))\n",
    "av_train_PCA_DRAGON_noVPAS = pd.DataFrame(np.array(ave_train_scores[56:63]).reshape(7))\n",
    "av_train_PCA_DRAGON_VPAS = pd.DataFrame(np.array(ave_train_scores[63:70]).reshape(7))\n",
    "av_train_RDKit_VPAS = pd.DataFrame(np.array(ave_train_scores[70:98]).reshape(7, 4))\n",
    "av_train_RDKit_noVPAS = pd.DataFrame(np.array(ave_train_scores[98:126]).reshape(7, 4))\n",
    "\n",
    "av_test_DRAGON_noVPAS = pd.DataFrame(np.array(ave_test_scores[0:28]).reshape(7, 4))\n",
    "av_test_DRAGON_VPAS = pd.DataFrame(np.array(ave_test_scores[28:56]).reshape(7, 4))\n",
    "av_test_PCA_DRAGON_noVPAS = pd.DataFrame(np.array(ave_test_scores[56:63]).reshape(7))\n",
    "av_test_PCA_DRAGON_VPAS = pd.DataFrame(np.array(ave_test_scores[63:70]).reshape(7))\n",
    "av_test_RDKit_VPAS = pd.DataFrame(np.array(ave_test_scores[70:98]).reshape(7, 4))\n",
    "av_test_RDKit_noVPAS = pd.DataFrame(np.array(ave_test_scores[98:126]).reshape(7, 4))\n",
    "\n",
    "for obj in dir():\n",
    "    if obj[0:9] == 'av_models':\n",
    "        df = eval(obj)\n",
    "        df.rename({0:'GradientBoostingRegressor',\n",
    "                   1:'DecisionTreeRegressor',\n",
    "                   2:'ElasticNet',\n",
    "                   3:'AdaBoostRegressor',\n",
    "                   4:'Lars',\n",
    "                   5:'Lasso',\n",
    "                   6:'RandomForestRegressor'}, inplace=True)\n",
    "        if not 'PCA' in obj:\n",
    "            df.rename({0:'Model', 1:'F-regression', 2:'Mutual Information', 3:'Lasso'}, inplace=True, axis=1)\n",
    "        else:\n",
    "            df.rename({0:'PCA'}, axis=1, inplace=True)\n",
    "    if obj[0:8] == 'av_train':\n",
    "        df = eval(obj)\n",
    "        df.rename({0:'GradientBoostingRegressor',\n",
    "                   1:'DecisionTreeRegressor',\n",
    "                   2:'ElasticNet',\n",
    "                   3:'AdaBoostRegressor',\n",
    "                   4:'Lars',\n",
    "                   5:'Lasso',\n",
    "                   6:'RandomForestRegressor'}, inplace=True)\n",
    "        if not 'PCA' in obj:\n",
    "            df.rename({0:'Model', 1:'F-regression', 2:'Mutual Information', 3:'Lasso'}, inplace=True, axis=1)\n",
    "        else:\n",
    "            df.rename({0:'PCA'}, axis=1, inplace=True)\n",
    "        df.to_csv('scores/%s.csv'%obj)\n",
    "    if obj[0:7] == 'av_test':\n",
    "        df = eval(obj)\n",
    "        df.rename({0:'GradientBoostingRegressor',\n",
    "                   1:'DecisionTreeRegressor',\n",
    "                   2:'ElasticNet',\n",
    "                   3:'AdaBoostRegressor',\n",
    "                   4:'Lars',\n",
    "                   5:'Lasso',\n",
    "                   6:'RandomForestRegressor'}, inplace=True)\n",
    "        if not 'PCA' in obj:\n",
    "            df.rename({0:'Model', 1:'F-regression', 2:'Mutual Information', 3:'Lasso'}, inplace=True, axis=1)\n",
    "        else:\n",
    "            df.rename({0:'PCA'}, axis=1, inplace=True)\n",
    "        df.to_csv('scores/%s.csv'%obj)"
   ]
  },
  {
   "cell_type": "code",
   "execution_count": 10,
   "metadata": {
    "ExecuteTime": {
     "end_time": "2020-01-29T20:08:32.482044Z",
     "start_time": "2020-01-29T20:08:32.427940Z"
    }
   },
   "outputs": [],
   "source": [
    "for Dataset in dataset_types:\n",
    "    for obj in dir():\n",
    "        if Dataset in obj:\n",
    "            if obj.endswith(\"train_\" + Dataset):\n",
    "                df_train = eval(obj)\n",
    "            if obj.endswith(\"test_\" + Dataset):\n",
    "                df_test = eval(obj)\n",
    "    exec(\"train_test_scores_%s = pd.concat([av_train_%s, av_test_%s], axis=1, keys=['Train', 'Test'])\"%(Dataset, Dataset, Dataset))"
   ]
  },
  {
   "cell_type": "markdown",
   "metadata": {},
   "source": [
    "# Widget"
   ]
  },
  {
   "cell_type": "code",
   "execution_count": 11,
   "metadata": {
    "ExecuteTime": {
     "end_time": "2020-01-29T20:08:35.493259Z",
     "start_time": "2020-01-29T20:08:32.487059Z"
    },
    "code_folding": [
     10,
     41
    ],
    "scrolled": false
   },
   "outputs": [
    {
     "data": {
      "application/vnd.jupyter.widget-view+json": {
       "model_id": "d97b3051fd684593a4a1ea5f55733d55",
       "version_major": 2,
       "version_minor": 0
      },
      "text/plain": [
       "interactive(children=(Dropdown(description='Dataset', options=('DRAGON_noVPAS', 'DRAGON_VPAS', 'PCA_DRAGON_noV…"
      ]
     },
     "metadata": {},
     "output_type": "display_data"
    }
   ],
   "source": [
    "@widgets.interact()\n",
    "def show_model(Dataset = dataset_types,\n",
    "               Model = model_types,\n",
    "               Features = feature_sets,\n",
    "              Show_Features = False):\n",
    "    widget_av_train = eval(\"train_test_scores_\" + Dataset)\n",
    "    display(widget_av_train)\n",
    "    fig, axs = plt.subplots(2, 4, figsize=(20, 10))\n",
    "    ax_num = 1\n",
    "    if 'PCA' in Dataset:\n",
    "        X_train_holder = 'X_train'\n",
    "        X_test_holder = 'X_test'\n",
    "        Features = 'PCA'\n",
    "        \n",
    "        for Set in set_n_types:\n",
    "            X_train_ = eval(Dataset + \"_data_\" + X_train_holder  + \"_\" + Set)\n",
    "            X_train = X_train_.drop('Unnamed: 0', axis=1)\n",
    "            X_test_ = eval(Dataset + \"_data_\" + X_test_holder  + \"_\" + Set)\n",
    "            X_test = X_test_.drop('Unnamed: 0', axis=1)\n",
    "            y_train = eval(Dataset + \"_data_\" + 'y_train'  + \"_\" + Set)\n",
    "            y_test = eval(Dataset + \"_data_\" + 'y_test'  + \"_\" + Set)\n",
    "            chosen_model = eval(Dataset + \"_\" + Model + \"__\" + Set)\n",
    "            train_predictions = chosen_model.predict(X_train)\n",
    "            test_predictions = chosen_model.predict(X_test)\n",
    "            axs[0, ax_num].scatter(y_train, train_predictions, s=3, c='b')\n",
    "            axs[0, ax_num].set_title(Set)\n",
    "            axs[0, ax_num].set_xlabel('Expected log($K_H$)')\n",
    "            axs[0, ax_num].set_ylabel('Predicted log($K_H$)')\n",
    "            axs[1, ax_num].scatter(y_test, test_predictions, s=3, c='r')\n",
    "            axs[1, ax_num].set_xlabel('Expected log($K_H$)')\n",
    "            axs[1, ax_num].set_ylabel('Predicted log($K_H$)')\n",
    "\n",
    "            ax_num += 1\n",
    "        axs[0, 0].text(0.4, 0.4, 'Train data', fontsize=22)\n",
    "        axs[0, 0].get_xaxis().set_visible(False)\n",
    "        axs[0, 0].get_yaxis().set_visible(False)\n",
    "        axs[1, 0].text(0.4, 0.4, 'Test data', fontsize=22)\n",
    "        axs[1, 0].get_xaxis().set_visible(False)\n",
    "        axs[1, 0].get_yaxis().set_visible(False)\n",
    "        \n",
    "    else:\n",
    "        X_train_holder = 'X_train_main'\n",
    "        X_test_holder = 'X_test_main'\n",
    "        for Set in set_n_types:\n",
    "            X_train = eval(Dataset + \"_data_\" + X_train_holder  + \"_\" + Set)\n",
    "            X_test = eval(Dataset + \"_data_\" + X_test_holder  + \"_\" + Set)\n",
    "            y_train = eval(Dataset + \"_data_\" + 'y_train'  + \"_\" + Set)\n",
    "            y_test = eval(Dataset + \"_data_\" + 'y_test'  + \"_\" + Set)\n",
    "\n",
    "            chosen_model = eval(Dataset + \"_\" + Model + \"_\" + feature_name_link_dict[Features] + \"_\" + Set)\n",
    "            feature_set = list(eval(Dataset + \"_importances_\" + Features + \"_\" + Set).nlargest(15).index.values)\n",
    "\n",
    "            \n",
    "            # add feature lists as numpy array, then turn into a (3, 5) dataframe to append to train/test scores\n",
    "            if Show_Features == True:\n",
    "                feature_df = pd.DataFrame(np.array(feature_set).reshape(3, 5))\n",
    "                feature_df.rename({0:'Most Imporant', 1:'', 2:Set, 3:'', 4:'Least Important'},\n",
    "                                  axis=1, inplace=True)\n",
    "                exec('feature_df_%s = feature_df'%Set)\n",
    "            \n",
    "            \n",
    "            train_predictions = chosen_model.predict(X_train[feature_set])\n",
    "            test_predictions = chosen_model.predict(X_test[feature_set])\n",
    "            axs[0, ax_num].scatter(y_train, train_predictions, s=3, c='b')\n",
    "            axs[0, ax_num].set_title(Set, fontsize=20)\n",
    "            axs[0, ax_num].set_xlabel('Expected log($K_H$)')\n",
    "            axs[0, ax_num].set_ylabel('Predicted log($K_H$)')\n",
    "            axs[1, ax_num].scatter(y_test, test_predictions, s=3, c='r')\n",
    "            axs[1, ax_num].set_xlabel('Expected log($K_H$)')\n",
    "            axs[1, ax_num].set_ylabel('Predicted log($K_H$)')\n",
    "\n",
    "            ax_num += 1\n",
    "        axs[0, 0].text(0.4, 0.4, 'Train data', fontsize=22)\n",
    "        axs[0, 0].get_xaxis().set_visible(False)\n",
    "        axs[0, 0].get_yaxis().set_visible(False)\n",
    "        axs[1, 0].text(0.4, 0.4, 'Test data', fontsize=22)\n",
    "        axs[1, 0].get_xaxis().set_visible(False)\n",
    "        axs[1, 0].get_yaxis().set_visible(False)\n",
    "            \n",
    "    if not 'PCA' in Dataset:\n",
    "        if Show_Features == True:\n",
    "            for Set in set_n_types:\n",
    "                display(eval('feature_df_%s'%Set))\n",
    "    plt.show()\n"
   ]
  },
  {
   "cell_type": "markdown",
   "metadata": {},
   "source": [
    "non-constant variance - [heteroscatisity](http://www.statsmakemecry.com/smmctheblog/confusing-stats-terms-explained-heteroscedasticity-heteroske.html)\n",
    "see if any models can deal with non constant variance\n",
    "comment on growing error with low Kh - limiting factors?\n",
    "\n",
    "PCA - skree plot of variance covered by components, seems similar to the feature importance graph?\n",
    "\n",
    "for diss:\n",
    "- comment on the notebooks themselves, how I've put my UI together etc\n",
    "- on chemical background, explain important features in some detail - if i can\n",
    "- when setting context - why are HLCs useful\n",
    "\n",
    "talk about thermodynamic cycle - solid to gas to solution\n",
    " lattice energy, hydration energy etc - must consider crystal \n",
    "\n",
    "add supp. material containing datasets and notebooks\n",
    " \n",
    "future work - look into solubility data, construct a cycle of solubilty for species to better describe the species activity"
   ]
  },
  {
   "cell_type": "markdown",
   "metadata": {},
   "source": [
    "# Scree plot for PCA\n",
    "Showing how much variance is explained as more components are added"
   ]
  },
  {
   "cell_type": "code",
   "execution_count": 13,
   "metadata": {
    "ExecuteTime": {
     "end_time": "2020-01-29T20:08:35.818078Z",
     "start_time": "2020-01-29T20:08:35.576478Z"
    }
   },
   "outputs": [
    {
     "data": {
      "text/plain": [
       "[<matplotlib.lines.Line2D at 0x1aead5b9fd0>]"
      ]
     },
     "execution_count": 13,
     "metadata": {},
     "output_type": "execute_result"
    },
    {
     "data": {
      "image/png": "[encoded data removed]",
      "text/plain": [
       "<Figure size 432x288 with 1 Axes>"
      ]
     },
     "metadata": {
      "needs_background": "light"
     },
     "output_type": "display_data"
    }
   ],
   "source": [
    "plt.plot(np.cumsum(PCA_DRAGON_noVPAS_data_pca_fit_set_3.explained_variance_ratio_))"
   ]
  }
 ],
 "metadata": {
  "kernelspec": {
   "display_name": "Python 3",
   "language": "python",
   "name": "python3"
  },
  "language_info": {
   "codemirror_mode": {
    "name": "ipython",
    "version": 3
   },
   "file_extension": ".py",
   "mimetype": "text/x-python",
   "name": "python",
   "nbconvert_exporter": "python",
   "pygments_lexer": "ipython3",
   "version": "3.7.3"
  },
  "toc": {
   "base_numbering": 1,
   "nav_menu": {},
   "number_sections": true,
   "sideBar": true,
   "skip_h1_title": false,
   "title_cell": "Table of Contents",
   "title_sidebar": "Contents",
   "toc_cell": false,
   "toc_position": {},
   "toc_section_display": true,
   "toc_window_display": false
  },
  "varInspector": {
   "cols": {
    "lenName": 16,
    "lenType": 16,
    "lenVar": 40
   },
   "kernels_config": {
    "python": {
     "delete_cmd_postfix": "",
     "delete_cmd_prefix": "del ",
     "library": "var_list.py",
     "varRefreshCmd": "print(var_dic_list())"
    },
    "r": {
     "delete_cmd_postfix": ") ",
     "delete_cmd_prefix": "rm(",
     "library": "var_list.r",
     "varRefreshCmd": "cat(var_dic_list()) "
    }
   },
   "position": {
    "height": "331px",
    "left": "653px",
    "right": "20px",
    "top": "216px",
    "width": "365px"
   },
   "types_to_exclude": [
    "module",
    "function",
    "builtin_function_or_method",
    "instance",
    "_Feature"
   ],
   "window_display": false
  }
 },
 "nbformat": 4,
 "nbformat_minor": 2
}
